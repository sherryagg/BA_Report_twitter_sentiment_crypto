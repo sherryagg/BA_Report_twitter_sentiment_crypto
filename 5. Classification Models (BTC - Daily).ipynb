{
 "cells": [
  {
   "cell_type": "markdown",
   "metadata": {},
   "source": [
    "## 5 Classification models\n",
    "\n",
    "To capture the realtionship between twitter sentiments and crypto prices, classification models are built to predict the directional change in crypto prices enough to make important decisions to sell or buy the currencies.\n",
    "\n",
    "This script covers all the models along with cross correlation analysis performed to udnerstand the time lagged relationships."
   ]
  },
  {
   "cell_type": "code",
   "execution_count": 1,
   "metadata": {},
   "outputs": [],
   "source": [
    "#import libraries\n",
    "import pandas as pd\n",
    "import numpy as np\n",
    "import seaborn as sns\n",
    "import statsmodels.api as sm\n",
    "import matplotlib.pyplot as plt\n",
    "#features selection and class imbalance\n",
    "from sklearn.feature_selection import RFE, VarianceThreshold\n",
    "from sklearn.kernel_approximation import RBFSampler\n",
    "from sklearn.preprocessing import StandardScaler\n",
    "from sklearn.kernel_approximation import PolynomialCountSketch\n",
    "from sklearn.pipeline import Pipeline, make_pipeline\n",
    "from imblearn.over_sampling import SMOTE\n",
    "#machine learning models\n",
    "from sklearn.linear_model import LogisticRegression\n",
    "from xgboost import XGBClassifier\n",
    "from sklearn.linear_model import SGDClassifier\n",
    "from sklearn.svm import LinearSVC\n",
    "from sklearn.neural_network import MLPClassifier\n",
    "from sklearn.ensemble import RandomForestClassifier\n",
    "from catboost import CatBoostClassifier\n",
    "#from lightgbm import LGBMClassifier\n",
    "from sklearn.ensemble import StackingClassifier\n",
    "#model performance evaluation\n",
    "from sklearn.model_selection import train_test_split, GridSearchCV, RepeatedStratifiedKFold, cross_val_score\n",
    "from sklearn.metrics import ConfusionMatrixDisplay, roc_auc_score, roc_curve, confusion_matrix\n",
    "from sklearn.metrics import classification_report, accuracy_score"
   ]
  },
  {
   "cell_type": "markdown",
   "metadata": {},
   "source": [
    "### 5.1 Cross Correlation Analysis"
   ]
  },
  {
   "cell_type": "code",
   "execution_count": 2,
   "metadata": {},
   "outputs": [
    {
     "data": {
      "text/html": [
       "<div>\n",
       "<style scoped>\n",
       "    .dataframe tbody tr th:only-of-type {\n",
       "        vertical-align: middle;\n",
       "    }\n",
       "\n",
       "    .dataframe tbody tr th {\n",
       "        vertical-align: top;\n",
       "    }\n",
       "\n",
       "    .dataframe thead th {\n",
       "        text-align: right;\n",
       "    }\n",
       "</style>\n",
       "<table border=\"1\" class=\"dataframe\">\n",
       "  <thead>\n",
       "    <tr style=\"text-align: right;\">\n",
       "      <th></th>\n",
       "      <th>Date</th>\n",
       "      <th>avg_neg_scr</th>\n",
       "      <th>avg_neu_scr</th>\n",
       "      <th>avg_pos_scr</th>\n",
       "      <th>avg_cmp_scr</th>\n",
       "      <th>avg_retweet_cnt</th>\n",
       "      <th>avg_like_cnt</th>\n",
       "      <th>tweet_vol</th>\n",
       "      <th>uniq_tweet_vol</th>\n",
       "      <th>avg_tweet_len</th>\n",
       "      <th>...</th>\n",
       "      <th>Negative_share</th>\n",
       "      <th>Open_prices</th>\n",
       "      <th>High_prices</th>\n",
       "      <th>Low_prices</th>\n",
       "      <th>Close_prices</th>\n",
       "      <th>Volume_BTC</th>\n",
       "      <th>polarity</th>\n",
       "      <th>pct_change</th>\n",
       "      <th>direction</th>\n",
       "      <th>Close</th>\n",
       "    </tr>\n",
       "  </thead>\n",
       "  <tbody>\n",
       "    <tr>\n",
       "      <th>0</th>\n",
       "      <td>2021-07-01</td>\n",
       "      <td>0.021007</td>\n",
       "      <td>0.877197</td>\n",
       "      <td>0.101582</td>\n",
       "      <td>0.220600</td>\n",
       "      <td>2096.803213</td>\n",
       "      <td>1.747746</td>\n",
       "      <td>121675</td>\n",
       "      <td>54104</td>\n",
       "      <td>122.808901</td>\n",
       "      <td>...</td>\n",
       "      <td>0.075546</td>\n",
       "      <td>34595.875</td>\n",
       "      <td>34773.445</td>\n",
       "      <td>32711.785</td>\n",
       "      <td>33248.825</td>\n",
       "      <td>1.784648e+08</td>\n",
       "      <td>0.046195</td>\n",
       "      <td>NaN</td>\n",
       "      <td>NaN</td>\n",
       "      <td>63.50</td>\n",
       "    </tr>\n",
       "    <tr>\n",
       "      <th>1</th>\n",
       "      <td>2021-07-02</td>\n",
       "      <td>0.016984</td>\n",
       "      <td>0.889221</td>\n",
       "      <td>0.093512</td>\n",
       "      <td>0.210509</td>\n",
       "      <td>2542.598358</td>\n",
       "      <td>1.644665</td>\n",
       "      <td>109249</td>\n",
       "      <td>45549</td>\n",
       "      <td>124.999753</td>\n",
       "      <td>...</td>\n",
       "      <td>0.067506</td>\n",
       "      <td>33235.275</td>\n",
       "      <td>33953.980</td>\n",
       "      <td>32700.025</td>\n",
       "      <td>33676.020</td>\n",
       "      <td>1.148738e+08</td>\n",
       "      <td>0.039852</td>\n",
       "      <td>0.012848</td>\n",
       "      <td>1.0</td>\n",
       "      <td>63.51</td>\n",
       "    </tr>\n",
       "    <tr>\n",
       "      <th>2</th>\n",
       "      <td>2021-07-03</td>\n",
       "      <td>0.015089</td>\n",
       "      <td>0.886210</td>\n",
       "      <td>0.098290</td>\n",
       "      <td>0.215499</td>\n",
       "      <td>5788.559491</td>\n",
       "      <td>1.976620</td>\n",
       "      <td>126263</td>\n",
       "      <td>44563</td>\n",
       "      <td>122.904485</td>\n",
       "      <td>...</td>\n",
       "      <td>0.066385</td>\n",
       "      <td>33675.470</td>\n",
       "      <td>34951.140</td>\n",
       "      <td>33399.860</td>\n",
       "      <td>34679.150</td>\n",
       "      <td>6.563334e+07</td>\n",
       "      <td>0.038510</td>\n",
       "      <td>0.029788</td>\n",
       "      <td>1.0</td>\n",
       "      <td>63.51</td>\n",
       "    </tr>\n",
       "    <tr>\n",
       "      <th>3</th>\n",
       "      <td>2021-07-04</td>\n",
       "      <td>0.014355</td>\n",
       "      <td>0.873028</td>\n",
       "      <td>0.112238</td>\n",
       "      <td>0.257782</td>\n",
       "      <td>3349.956329</td>\n",
       "      <td>1.801355</td>\n",
       "      <td>108334</td>\n",
       "      <td>40391</td>\n",
       "      <td>122.499575</td>\n",
       "      <td>...</td>\n",
       "      <td>0.060230</td>\n",
       "      <td>34671.040</td>\n",
       "      <td>35972.855</td>\n",
       "      <td>34307.790</td>\n",
       "      <td>34825.025</td>\n",
       "      <td>7.937801e+07</td>\n",
       "      <td>0.040139</td>\n",
       "      <td>0.004206</td>\n",
       "      <td>1.0</td>\n",
       "      <td>63.51</td>\n",
       "    </tr>\n",
       "    <tr>\n",
       "      <th>4</th>\n",
       "      <td>2021-07-05</td>\n",
       "      <td>0.016379</td>\n",
       "      <td>0.870216</td>\n",
       "      <td>0.112665</td>\n",
       "      <td>0.259466</td>\n",
       "      <td>2227.247343</td>\n",
       "      <td>1.701465</td>\n",
       "      <td>120897</td>\n",
       "      <td>50291</td>\n",
       "      <td>124.201949</td>\n",
       "      <td>...</td>\n",
       "      <td>0.070754</td>\n",
       "      <td>34807.920</td>\n",
       "      <td>34909.210</td>\n",
       "      <td>33121.500</td>\n",
       "      <td>33823.215</td>\n",
       "      <td>1.209090e+08</td>\n",
       "      <td>0.042958</td>\n",
       "      <td>-0.028767</td>\n",
       "      <td>0.0</td>\n",
       "      <td>63.51</td>\n",
       "    </tr>\n",
       "  </tbody>\n",
       "</table>\n",
       "<p>5 rows × 25 columns</p>\n",
       "</div>"
      ],
      "text/plain": [
       "         Date  avg_neg_scr  avg_neu_scr  avg_pos_scr  avg_cmp_scr  \\\n",
       "0  2021-07-01     0.021007     0.877197     0.101582     0.220600   \n",
       "1  2021-07-02     0.016984     0.889221     0.093512     0.210509   \n",
       "2  2021-07-03     0.015089     0.886210     0.098290     0.215499   \n",
       "3  2021-07-04     0.014355     0.873028     0.112238     0.257782   \n",
       "4  2021-07-05     0.016379     0.870216     0.112665     0.259466   \n",
       "\n",
       "   avg_retweet_cnt  avg_like_cnt  tweet_vol  uniq_tweet_vol  avg_tweet_len  \\\n",
       "0      2096.803213      1.747746     121675           54104     122.808901   \n",
       "1      2542.598358      1.644665     109249           45549     124.999753   \n",
       "2      5788.559491      1.976620     126263           44563     122.904485   \n",
       "3      3349.956329      1.801355     108334           40391     122.499575   \n",
       "4      2227.247343      1.701465     120897           50291     124.201949   \n",
       "\n",
       "   ...  Negative_share  Open_prices  High_prices  Low_prices  Close_prices  \\\n",
       "0  ...        0.075546    34595.875    34773.445   32711.785     33248.825   \n",
       "1  ...        0.067506    33235.275    33953.980   32700.025     33676.020   \n",
       "2  ...        0.066385    33675.470    34951.140   33399.860     34679.150   \n",
       "3  ...        0.060230    34671.040    35972.855   34307.790     34825.025   \n",
       "4  ...        0.070754    34807.920    34909.210   33121.500     33823.215   \n",
       "\n",
       "     Volume_BTC  polarity  pct_change  direction  Close  \n",
       "0  1.784648e+08  0.046195         NaN        NaN  63.50  \n",
       "1  1.148738e+08  0.039852    0.012848        1.0  63.51  \n",
       "2  6.563334e+07  0.038510    0.029788        1.0  63.51  \n",
       "3  7.937801e+07  0.040139    0.004206        1.0  63.51  \n",
       "4  1.209090e+08  0.042958   -0.028767        0.0  63.51  \n",
       "\n",
       "[5 rows x 25 columns]"
      ]
     },
     "execution_count": 2,
     "metadata": {},
     "output_type": "execute_result"
    }
   ],
   "source": [
    "summarised_all = pd.read_csv('input_model_file.csv')\n",
    "summarised_all=summarised_all.drop(columns='Unnamed: 0')\n",
    "\n",
    "summarised_all.head()"
   ]
  },
  {
   "cell_type": "markdown",
   "metadata": {},
   "source": [
    "To understand which method to use in correlation analysis, normality test is performed"
   ]
  },
  {
   "cell_type": "code",
   "execution_count": 3,
   "metadata": {},
   "outputs": [
    {
     "name": "stdout",
     "output_type": "stream",
     "text": [
      "Statistics=0.850, p=0.000\n",
      "avg_neg_scr does not look Gaussian (reject H0)\n",
      "Statistics=0.975, p=0.417\n",
      "avg_neu_scr looks Gaussian (fail to reject H0)\n",
      "Statistics=0.995, p=0.999\n",
      "avg_pos_scr looks Gaussian (fail to reject H0)\n",
      "Statistics=0.976, p=0.451\n",
      "avg_cmp_scr looks Gaussian (fail to reject H0)\n",
      "Statistics=0.886, p=0.000\n",
      "avg_retweet_cnt does not look Gaussian (reject H0)\n",
      "Statistics=0.922, p=0.004\n",
      "avg_like_cnt does not look Gaussian (reject H0)\n",
      "Statistics=0.915, p=0.003\n",
      "tweet_vol does not look Gaussian (reject H0)\n",
      "Statistics=0.913, p=0.002\n",
      "uniq_tweet_vol does not look Gaussian (reject H0)\n",
      "Statistics=0.840, p=0.000\n",
      "avg_tweet_len does not look Gaussian (reject H0)\n",
      "Statistics=0.972, p=0.326\n",
      "avg_followers_cnt looks Gaussian (fail to reject H0)\n",
      "Statistics=0.860, p=0.000\n",
      "negative does not look Gaussian (reject H0)\n",
      "Statistics=0.928, p=0.007\n",
      "neutral does not look Gaussian (reject H0)\n",
      "Statistics=0.923, p=0.005\n",
      "positive does not look Gaussian (reject H0)\n",
      "Statistics=0.974, p=0.389\n",
      "Bullish_Ratio looks Gaussian (fail to reject H0)\n",
      "Statistics=0.714, p=0.000\n",
      "Negative_share does not look Gaussian (reject H0)\n",
      "Statistics=0.904, p=0.001\n",
      "Open_prices does not look Gaussian (reject H0)\n",
      "Statistics=0.897, p=0.001\n",
      "High_prices does not look Gaussian (reject H0)\n",
      "Statistics=0.902, p=0.001\n",
      "Low_prices does not look Gaussian (reject H0)\n",
      "Statistics=0.903, p=0.001\n",
      "Close_prices does not look Gaussian (reject H0)\n",
      "Statistics=0.857, p=0.000\n",
      "Volume_BTC does not look Gaussian (reject H0)\n",
      "Statistics=0.902, p=0.001\n",
      "polarity does not look Gaussian (reject H0)\n",
      "Statistics=0.938, p=0.017\n",
      "Close does not look Gaussian (reject H0)\n"
     ]
    }
   ],
   "source": [
    "# Shapiro-Wilk Test\n",
    "from numpy.random import seed\n",
    "from numpy.random import randn\n",
    "from scipy.stats import shapiro\n",
    "\n",
    "col_list =['avg_neg_scr', 'avg_neu_scr', 'avg_pos_scr', 'avg_cmp_scr',\n",
    "       'avg_retweet_cnt', 'avg_like_cnt', 'tweet_vol', 'uniq_tweet_vol',\n",
    "       'avg_tweet_len', 'avg_followers_cnt', 'negative', 'neutral', 'positive',\n",
    "       'Bullish_Ratio', 'Negative_share', 'Open_prices', 'High_prices',\n",
    "       'Low_prices', 'Close_prices', 'Volume_BTC', 'polarity','Close'] \n",
    "\n",
    "for metric_name in col_list:\n",
    "    stat, p = shapiro(summarised_all[metric_name])\n",
    "    print('Statistics=%.3f, p=%.3f' % (stat, p))\n",
    "    # interpret\n",
    "    alpha = 0.05\n",
    "    if p > alpha:\n",
    "        print(metric_name + ' looks Gaussian (fail to reject H0)')\n",
    "    else:\n",
    "        print(metric_name + ' does not look Gaussian (reject H0)')"
   ]
  },
  {
   "cell_type": "markdown",
   "metadata": {},
   "source": [
    "**Since most series is non-normal we will use kendall method for calculating correlations**"
   ]
  },
  {
   "cell_type": "code",
   "execution_count": 4,
   "metadata": {},
   "outputs": [],
   "source": [
    "#Function to calculate pairwise correlation\n",
    "def crosscorr(datax, datay, lag=0, method=\"pearson\"):\n",
    "    \"\"\" Lag-N cross correlation. \n",
    "    Parameters\n",
    "    —------—\n",
    "    lag : int, default 0\n",
    "    datax, datay : pandas.Series objects of equal length\n",
    "\n",
    "    Returns\n",
    "    —------—\n",
    "    crosscorr : float\n",
    "    \"\"\"\n",
    "    #print( datax.corr(datay.shift(lag), method=method))\n",
    "    return datax.corr(datay.shift(lag), method=method)"
   ]
  },
  {
   "cell_type": "code",
   "execution_count": 5,
   "metadata": {},
   "outputs": [],
   "source": [
    "col_list =['avg_neg_scr', 'avg_neu_scr', 'avg_pos_scr', 'avg_cmp_scr',\n",
    "       'avg_retweet_cnt', 'avg_like_cnt', 'tweet_vol', 'uniq_tweet_vol',\n",
    "       'avg_tweet_len', 'avg_followers_cnt', 'negative', 'neutral', 'positive',\n",
    "       'Bullish_Ratio', 'Negative_share', 'Open_prices', 'High_prices',\n",
    "       'Low_prices', 'Close_prices', 'Volume_BTC', 'polarity','Close']\n",
    "corr = dict()\n",
    "for metric_name in col_list:\n",
    "    for i in range(0,3):\n",
    "        metric = metric_name+'_L'+ str(i)\n",
    "        corr[metric] = crosscorr(summarised_all['direction'],summarised_all[metric_name], lag=i, method=\"kendall\")"
   ]
  },
  {
   "cell_type": "code",
   "execution_count": 6,
   "metadata": {},
   "outputs": [],
   "source": [
    "df = pd.DataFrame.from_dict(corr, orient ='index') \n",
    "df = df.reset_index()\n",
    "df = df.rename(columns={'index' :'variables',0:'correlation_score'})\n",
    "df = df.sort_values(by='correlation_score', ascending = False)"
   ]
  },
  {
   "cell_type": "code",
   "execution_count": 8,
   "metadata": {
    "scrolled": false
   },
   "outputs": [
    {
     "data": {
      "application/vnd.plotly.v1+json": {
       "config": {
        "plotlyServerURL": "https://plot.ly"
       },
       "data": [
        {
         "alignmentgroup": "True",
         "hovertemplate": "variables=%{x}<br>correlation_score=%{y}<extra></extra>",
         "legendgroup": "",
         "marker": {
          "color": "#636efa"
         },
         "name": "",
         "offsetgroup": "",
         "orientation": "v",
         "showlegend": false,
         "textposition": "auto",
         "type": "bar",
         "x": [
          "polarity_L1",
          "Volume_BTC_L2",
          "avg_pos_scr_L1",
          "avg_like_cnt_L2",
          "positive_L0",
          "polarity_L2",
          "avg_retweet_cnt_L0",
          "positive_L1",
          "Close_prices_L0",
          "Volume_BTC_L1",
          "negative_L2",
          "avg_followers_cnt_L2",
          "avg_neg_scr_L2",
          "avg_cmp_scr_L1",
          "Volume_BTC_L0",
          "tweet_vol_L0",
          "uniq_tweet_vol_L2",
          "positive_L2",
          "negative_L1",
          "avg_like_cnt_L0",
          "avg_retweet_cnt_L1",
          "neutral_L0",
          "Bullish_Ratio_L1",
          "uniq_tweet_vol_L0",
          "tweet_vol_L2",
          "neutral_L2",
          "uniq_tweet_vol_L1",
          "Bullish_Ratio_L0",
          "tweet_vol_L1",
          "avg_cmp_scr_L0",
          "neutral_L1",
          "High_prices_L0",
          "avg_neg_scr_L1",
          "negative_L0",
          "Low_prices_L0",
          "avg_like_cnt_L1",
          "avg_pos_scr_L0",
          "polarity_L0",
          "avg_pos_scr_L2",
          "avg_neg_scr_L0",
          "avg_retweet_cnt_L2",
          "Negative_share_L2",
          "avg_followers_cnt_L1",
          "Close_prices_L1",
          "Bullish_Ratio_L2",
          "Open_prices_L0",
          "Close_prices_L2",
          "High_prices_L2",
          "Open_prices_L1",
          "Low_prices_L1",
          "Close_L0",
          "High_prices_L1",
          "avg_tweet_len_L1",
          "Low_prices_L2",
          "Open_prices_L2",
          "avg_cmp_scr_L2",
          "Close_L1",
          "avg_tweet_len_L0",
          "avg_followers_cnt_L0",
          "Negative_share_L1",
          "avg_neu_scr_L0",
          "avg_tweet_len_L2",
          "avg_neu_scr_L2",
          "Negative_share_L0",
          "Close_L2",
          "avg_neu_scr_L1"
         ],
         "xaxis": "x",
         "y": [
          0.2831288457925791,
          0.2640467907187738,
          0.2573898598114356,
          0.22526025648889741,
          0.22021132450533928,
          0.2163095178204644,
          0.20877177518038662,
          0.20591188784914846,
          0.19733222585543392,
          0.19447233852419574,
          0.19244088137130974,
          0.19244088137130974,
          0.1894573018151654,
          0.1887525638617194,
          0.1887525638617194,
          0.18303278919924307,
          0.17155582447829937,
          0.159621506253722,
          0.1572938032180995,
          0.15443391588686134,
          0.148714141224385,
          0.14585425389314682,
          0.14013447923067046,
          0.14013447923067046,
          0.13873644936071167,
          0.13575286980456733,
          0.1286949299057178,
          0.1286949299057178,
          0.1258350425744796,
          0.11725538058076508,
          0.11439549324952691,
          0.11153560591828875,
          0.1058158312558124,
          0.10009605659333605,
          0.09723616926209787,
          0.0943762819308597,
          0.09151639459962153,
          0.08007684527466884,
          0.07608127868168059,
          0.0314587606436199,
          0.01640968755879385,
          0.0014917897780721684,
          0,
          -0.002859887331238173,
          -0.004475369334216505,
          -0.005719774662476346,
          -0.010442528446505178,
          -0.010442528446505178,
          -0.011439549324952692,
          -0.011439549324952692,
          -0.015923577556887388,
          -0.025738985981143558,
          -0.0314587606436199,
          -0.03729474445180421,
          -0.04326190356409289,
          -0.04922906267638155,
          -0.05495186589336263,
          -0.05719774662476346,
          -0.06577740861847797,
          -0.08007684527466884,
          -0.08865650726838335,
          -0.09696633557469095,
          -0.10591707424312397,
          -0.11439549324952691,
          -0.1493542287081334,
          -0.29170850778629365
         ],
         "yaxis": "y"
        }
       ],
       "layout": {
        "barmode": "relative",
        "legend": {
         "tracegroupgap": 0
        },
        "margin": {
         "t": 60
        },
        "template": {
         "data": {
          "bar": [
           {
            "error_x": {
             "color": "#2a3f5f"
            },
            "error_y": {
             "color": "#2a3f5f"
            },
            "marker": {
             "line": {
              "color": "#E5ECF6",
              "width": 0.5
             }
            },
            "type": "bar"
           }
          ],
          "barpolar": [
           {
            "marker": {
             "line": {
              "color": "#E5ECF6",
              "width": 0.5
             }
            },
            "type": "barpolar"
           }
          ],
          "carpet": [
           {
            "aaxis": {
             "endlinecolor": "#2a3f5f",
             "gridcolor": "white",
             "linecolor": "white",
             "minorgridcolor": "white",
             "startlinecolor": "#2a3f5f"
            },
            "baxis": {
             "endlinecolor": "#2a3f5f",
             "gridcolor": "white",
             "linecolor": "white",
             "minorgridcolor": "white",
             "startlinecolor": "#2a3f5f"
            },
            "type": "carpet"
           }
          ],
          "choropleth": [
           {
            "colorbar": {
             "outlinewidth": 0,
             "ticks": ""
            },
            "type": "choropleth"
           }
          ],
          "contour": [
           {
            "colorbar": {
             "outlinewidth": 0,
             "ticks": ""
            },
            "colorscale": [
             [
              0,
              "#0d0887"
             ],
             [
              0.1111111111111111,
              "#46039f"
             ],
             [
              0.2222222222222222,
              "#7201a8"
             ],
             [
              0.3333333333333333,
              "#9c179e"
             ],
             [
              0.4444444444444444,
              "#bd3786"
             ],
             [
              0.5555555555555556,
              "#d8576b"
             ],
             [
              0.6666666666666666,
              "#ed7953"
             ],
             [
              0.7777777777777778,
              "#fb9f3a"
             ],
             [
              0.8888888888888888,
              "#fdca26"
             ],
             [
              1,
              "#f0f921"
             ]
            ],
            "type": "contour"
           }
          ],
          "contourcarpet": [
           {
            "colorbar": {
             "outlinewidth": 0,
             "ticks": ""
            },
            "type": "contourcarpet"
           }
          ],
          "heatmap": [
           {
            "colorbar": {
             "outlinewidth": 0,
             "ticks": ""
            },
            "colorscale": [
             [
              0,
              "#0d0887"
             ],
             [
              0.1111111111111111,
              "#46039f"
             ],
             [
              0.2222222222222222,
              "#7201a8"
             ],
             [
              0.3333333333333333,
              "#9c179e"
             ],
             [
              0.4444444444444444,
              "#bd3786"
             ],
             [
              0.5555555555555556,
              "#d8576b"
             ],
             [
              0.6666666666666666,
              "#ed7953"
             ],
             [
              0.7777777777777778,
              "#fb9f3a"
             ],
             [
              0.8888888888888888,
              "#fdca26"
             ],
             [
              1,
              "#f0f921"
             ]
            ],
            "type": "heatmap"
           }
          ],
          "heatmapgl": [
           {
            "colorbar": {
             "outlinewidth": 0,
             "ticks": ""
            },
            "colorscale": [
             [
              0,
              "#0d0887"
             ],
             [
              0.1111111111111111,
              "#46039f"
             ],
             [
              0.2222222222222222,
              "#7201a8"
             ],
             [
              0.3333333333333333,
              "#9c179e"
             ],
             [
              0.4444444444444444,
              "#bd3786"
             ],
             [
              0.5555555555555556,
              "#d8576b"
             ],
             [
              0.6666666666666666,
              "#ed7953"
             ],
             [
              0.7777777777777778,
              "#fb9f3a"
             ],
             [
              0.8888888888888888,
              "#fdca26"
             ],
             [
              1,
              "#f0f921"
             ]
            ],
            "type": "heatmapgl"
           }
          ],
          "histogram": [
           {
            "marker": {
             "colorbar": {
              "outlinewidth": 0,
              "ticks": ""
             }
            },
            "type": "histogram"
           }
          ],
          "histogram2d": [
           {
            "colorbar": {
             "outlinewidth": 0,
             "ticks": ""
            },
            "colorscale": [
             [
              0,
              "#0d0887"
             ],
             [
              0.1111111111111111,
              "#46039f"
             ],
             [
              0.2222222222222222,
              "#7201a8"
             ],
             [
              0.3333333333333333,
              "#9c179e"
             ],
             [
              0.4444444444444444,
              "#bd3786"
             ],
             [
              0.5555555555555556,
              "#d8576b"
             ],
             [
              0.6666666666666666,
              "#ed7953"
             ],
             [
              0.7777777777777778,
              "#fb9f3a"
             ],
             [
              0.8888888888888888,
              "#fdca26"
             ],
             [
              1,
              "#f0f921"
             ]
            ],
            "type": "histogram2d"
           }
          ],
          "histogram2dcontour": [
           {
            "colorbar": {
             "outlinewidth": 0,
             "ticks": ""
            },
            "colorscale": [
             [
              0,
              "#0d0887"
             ],
             [
              0.1111111111111111,
              "#46039f"
             ],
             [
              0.2222222222222222,
              "#7201a8"
             ],
             [
              0.3333333333333333,
              "#9c179e"
             ],
             [
              0.4444444444444444,
              "#bd3786"
             ],
             [
              0.5555555555555556,
              "#d8576b"
             ],
             [
              0.6666666666666666,
              "#ed7953"
             ],
             [
              0.7777777777777778,
              "#fb9f3a"
             ],
             [
              0.8888888888888888,
              "#fdca26"
             ],
             [
              1,
              "#f0f921"
             ]
            ],
            "type": "histogram2dcontour"
           }
          ],
          "mesh3d": [
           {
            "colorbar": {
             "outlinewidth": 0,
             "ticks": ""
            },
            "type": "mesh3d"
           }
          ],
          "parcoords": [
           {
            "line": {
             "colorbar": {
              "outlinewidth": 0,
              "ticks": ""
             }
            },
            "type": "parcoords"
           }
          ],
          "pie": [
           {
            "automargin": true,
            "type": "pie"
           }
          ],
          "scatter": [
           {
            "marker": {
             "colorbar": {
              "outlinewidth": 0,
              "ticks": ""
             }
            },
            "type": "scatter"
           }
          ],
          "scatter3d": [
           {
            "line": {
             "colorbar": {
              "outlinewidth": 0,
              "ticks": ""
             }
            },
            "marker": {
             "colorbar": {
              "outlinewidth": 0,
              "ticks": ""
             }
            },
            "type": "scatter3d"
           }
          ],
          "scattercarpet": [
           {
            "marker": {
             "colorbar": {
              "outlinewidth": 0,
              "ticks": ""
             }
            },
            "type": "scattercarpet"
           }
          ],
          "scattergeo": [
           {
            "marker": {
             "colorbar": {
              "outlinewidth": 0,
              "ticks": ""
             }
            },
            "type": "scattergeo"
           }
          ],
          "scattergl": [
           {
            "marker": {
             "colorbar": {
              "outlinewidth": 0,
              "ticks": ""
             }
            },
            "type": "scattergl"
           }
          ],
          "scattermapbox": [
           {
            "marker": {
             "colorbar": {
              "outlinewidth": 0,
              "ticks": ""
             }
            },
            "type": "scattermapbox"
           }
          ],
          "scatterpolar": [
           {
            "marker": {
             "colorbar": {
              "outlinewidth": 0,
              "ticks": ""
             }
            },
            "type": "scatterpolar"
           }
          ],
          "scatterpolargl": [
           {
            "marker": {
             "colorbar": {
              "outlinewidth": 0,
              "ticks": ""
             }
            },
            "type": "scatterpolargl"
           }
          ],
          "scatterternary": [
           {
            "marker": {
             "colorbar": {
              "outlinewidth": 0,
              "ticks": ""
             }
            },
            "type": "scatterternary"
           }
          ],
          "surface": [
           {
            "colorbar": {
             "outlinewidth": 0,
             "ticks": ""
            },
            "colorscale": [
             [
              0,
              "#0d0887"
             ],
             [
              0.1111111111111111,
              "#46039f"
             ],
             [
              0.2222222222222222,
              "#7201a8"
             ],
             [
              0.3333333333333333,
              "#9c179e"
             ],
             [
              0.4444444444444444,
              "#bd3786"
             ],
             [
              0.5555555555555556,
              "#d8576b"
             ],
             [
              0.6666666666666666,
              "#ed7953"
             ],
             [
              0.7777777777777778,
              "#fb9f3a"
             ],
             [
              0.8888888888888888,
              "#fdca26"
             ],
             [
              1,
              "#f0f921"
             ]
            ],
            "type": "surface"
           }
          ],
          "table": [
           {
            "cells": {
             "fill": {
              "color": "#EBF0F8"
             },
             "line": {
              "color": "white"
             }
            },
            "header": {
             "fill": {
              "color": "#C8D4E3"
             },
             "line": {
              "color": "white"
             }
            },
            "type": "table"
           }
          ]
         },
         "layout": {
          "annotationdefaults": {
           "arrowcolor": "#2a3f5f",
           "arrowhead": 0,
           "arrowwidth": 1
          },
          "autotypenumbers": "strict",
          "coloraxis": {
           "colorbar": {
            "outlinewidth": 0,
            "ticks": ""
           }
          },
          "colorscale": {
           "diverging": [
            [
             0,
             "#8e0152"
            ],
            [
             0.1,
             "#c51b7d"
            ],
            [
             0.2,
             "#de77ae"
            ],
            [
             0.3,
             "#f1b6da"
            ],
            [
             0.4,
             "#fde0ef"
            ],
            [
             0.5,
             "#f7f7f7"
            ],
            [
             0.6,
             "#e6f5d0"
            ],
            [
             0.7,
             "#b8e186"
            ],
            [
             0.8,
             "#7fbc41"
            ],
            [
             0.9,
             "#4d9221"
            ],
            [
             1,
             "#276419"
            ]
           ],
           "sequential": [
            [
             0,
             "#0d0887"
            ],
            [
             0.1111111111111111,
             "#46039f"
            ],
            [
             0.2222222222222222,
             "#7201a8"
            ],
            [
             0.3333333333333333,
             "#9c179e"
            ],
            [
             0.4444444444444444,
             "#bd3786"
            ],
            [
             0.5555555555555556,
             "#d8576b"
            ],
            [
             0.6666666666666666,
             "#ed7953"
            ],
            [
             0.7777777777777778,
             "#fb9f3a"
            ],
            [
             0.8888888888888888,
             "#fdca26"
            ],
            [
             1,
             "#f0f921"
            ]
           ],
           "sequentialminus": [
            [
             0,
             "#0d0887"
            ],
            [
             0.1111111111111111,
             "#46039f"
            ],
            [
             0.2222222222222222,
             "#7201a8"
            ],
            [
             0.3333333333333333,
             "#9c179e"
            ],
            [
             0.4444444444444444,
             "#bd3786"
            ],
            [
             0.5555555555555556,
             "#d8576b"
            ],
            [
             0.6666666666666666,
             "#ed7953"
            ],
            [
             0.7777777777777778,
             "#fb9f3a"
            ],
            [
             0.8888888888888888,
             "#fdca26"
            ],
            [
             1,
             "#f0f921"
            ]
           ]
          },
          "colorway": [
           "#636efa",
           "#EF553B",
           "#00cc96",
           "#ab63fa",
           "#FFA15A",
           "#19d3f3",
           "#FF6692",
           "#B6E880",
           "#FF97FF",
           "#FECB52"
          ],
          "font": {
           "color": "#2a3f5f"
          },
          "geo": {
           "bgcolor": "white",
           "lakecolor": "white",
           "landcolor": "#E5ECF6",
           "showlakes": true,
           "showland": true,
           "subunitcolor": "white"
          },
          "hoverlabel": {
           "align": "left"
          },
          "hovermode": "closest",
          "mapbox": {
           "style": "light"
          },
          "paper_bgcolor": "white",
          "plot_bgcolor": "#E5ECF6",
          "polar": {
           "angularaxis": {
            "gridcolor": "white",
            "linecolor": "white",
            "ticks": ""
           },
           "bgcolor": "#E5ECF6",
           "radialaxis": {
            "gridcolor": "white",
            "linecolor": "white",
            "ticks": ""
           }
          },
          "scene": {
           "xaxis": {
            "backgroundcolor": "#E5ECF6",
            "gridcolor": "white",
            "gridwidth": 2,
            "linecolor": "white",
            "showbackground": true,
            "ticks": "",
            "zerolinecolor": "white"
           },
           "yaxis": {
            "backgroundcolor": "#E5ECF6",
            "gridcolor": "white",
            "gridwidth": 2,
            "linecolor": "white",
            "showbackground": true,
            "ticks": "",
            "zerolinecolor": "white"
           },
           "zaxis": {
            "backgroundcolor": "#E5ECF6",
            "gridcolor": "white",
            "gridwidth": 2,
            "linecolor": "white",
            "showbackground": true,
            "ticks": "",
            "zerolinecolor": "white"
           }
          },
          "shapedefaults": {
           "line": {
            "color": "#2a3f5f"
           }
          },
          "ternary": {
           "aaxis": {
            "gridcolor": "white",
            "linecolor": "white",
            "ticks": ""
           },
           "baxis": {
            "gridcolor": "white",
            "linecolor": "white",
            "ticks": ""
           },
           "bgcolor": "#E5ECF6",
           "caxis": {
            "gridcolor": "white",
            "linecolor": "white",
            "ticks": ""
           }
          },
          "title": {
           "x": 0.05
          },
          "xaxis": {
           "automargin": true,
           "gridcolor": "white",
           "linecolor": "white",
           "ticks": "",
           "title": {
            "standoff": 15
           },
           "zerolinecolor": "white",
           "zerolinewidth": 2
          },
          "yaxis": {
           "automargin": true,
           "gridcolor": "white",
           "linecolor": "white",
           "ticks": "",
           "title": {
            "standoff": 15
           },
           "zerolinecolor": "white",
           "zerolinewidth": 2
          }
         }
        },
        "xaxis": {
         "anchor": "y",
         "domain": [
          0,
          1
         ],
         "title": {
          "text": "variables"
         }
        },
        "yaxis": {
         "anchor": "x",
         "domain": [
          0,
          1
         ],
         "title": {
          "text": "correlation_score"
         }
        }
       }
      },
      "text/html": [
       "<div>                            <div id=\"e54b840a-4ee7-4acb-ab9d-512cb7c72b4b\" class=\"plotly-graph-div\" style=\"height:525px; width:100%;\"></div>            <script type=\"text/javascript\">                require([\"plotly\"], function(Plotly) {                    window.PLOTLYENV=window.PLOTLYENV || {};                                    if (document.getElementById(\"e54b840a-4ee7-4acb-ab9d-512cb7c72b4b\")) {                    Plotly.newPlot(                        \"e54b840a-4ee7-4acb-ab9d-512cb7c72b4b\",                        [{\"alignmentgroup\": \"True\", \"hovertemplate\": \"variables=%{x}<br>correlation_score=%{y}<extra></extra>\", \"legendgroup\": \"\", \"marker\": {\"color\": \"#636efa\"}, \"name\": \"\", \"offsetgroup\": \"\", \"orientation\": \"v\", \"showlegend\": false, \"textposition\": \"auto\", \"type\": \"bar\", \"x\": [\"polarity_L1\", \"Volume_BTC_L2\", \"avg_pos_scr_L1\", \"avg_like_cnt_L2\", \"positive_L0\", \"polarity_L2\", \"avg_retweet_cnt_L0\", \"positive_L1\", \"Close_prices_L0\", \"Volume_BTC_L1\", \"negative_L2\", \"avg_followers_cnt_L2\", \"avg_neg_scr_L2\", \"avg_cmp_scr_L1\", \"Volume_BTC_L0\", \"tweet_vol_L0\", \"uniq_tweet_vol_L2\", \"positive_L2\", \"negative_L1\", \"avg_like_cnt_L0\", \"avg_retweet_cnt_L1\", \"neutral_L0\", \"Bullish_Ratio_L1\", \"uniq_tweet_vol_L0\", \"tweet_vol_L2\", \"neutral_L2\", \"uniq_tweet_vol_L1\", \"Bullish_Ratio_L0\", \"tweet_vol_L1\", \"avg_cmp_scr_L0\", \"neutral_L1\", \"High_prices_L0\", \"avg_neg_scr_L1\", \"negative_L0\", \"Low_prices_L0\", \"avg_like_cnt_L1\", \"avg_pos_scr_L0\", \"polarity_L0\", \"avg_pos_scr_L2\", \"avg_neg_scr_L0\", \"avg_retweet_cnt_L2\", \"Negative_share_L2\", \"avg_followers_cnt_L1\", \"Close_prices_L1\", \"Bullish_Ratio_L2\", \"Open_prices_L0\", \"Close_prices_L2\", \"High_prices_L2\", \"Open_prices_L1\", \"Low_prices_L1\", \"Close_L0\", \"High_prices_L1\", \"avg_tweet_len_L1\", \"Low_prices_L2\", \"Open_prices_L2\", \"avg_cmp_scr_L2\", \"Close_L1\", \"avg_tweet_len_L0\", \"avg_followers_cnt_L0\", \"Negative_share_L1\", \"avg_neu_scr_L0\", \"avg_tweet_len_L2\", \"avg_neu_scr_L2\", \"Negative_share_L0\", \"Close_L2\", \"avg_neu_scr_L1\"], \"xaxis\": \"x\", \"y\": [0.2831288457925791, 0.2640467907187738, 0.2573898598114356, 0.22526025648889741, 0.22021132450533928, 0.2163095178204644, 0.20877177518038662, 0.20591188784914846, 0.19733222585543392, 0.19447233852419574, 0.19244088137130974, 0.19244088137130974, 0.1894573018151654, 0.1887525638617194, 0.1887525638617194, 0.18303278919924307, 0.17155582447829937, 0.159621506253722, 0.1572938032180995, 0.15443391588686134, 0.148714141224385, 0.14585425389314682, 0.14013447923067046, 0.14013447923067046, 0.13873644936071167, 0.13575286980456733, 0.1286949299057178, 0.1286949299057178, 0.1258350425744796, 0.11725538058076508, 0.11439549324952691, 0.11153560591828875, 0.1058158312558124, 0.10009605659333605, 0.09723616926209787, 0.0943762819308597, 0.09151639459962153, 0.08007684527466884, 0.07608127868168059, 0.0314587606436199, 0.01640968755879385, 0.0014917897780721684, 0.0, -0.002859887331238173, -0.004475369334216505, -0.005719774662476346, -0.010442528446505178, -0.010442528446505178, -0.011439549324952692, -0.011439549324952692, -0.015923577556887388, -0.025738985981143558, -0.0314587606436199, -0.03729474445180421, -0.04326190356409289, -0.04922906267638155, -0.05495186589336263, -0.05719774662476346, -0.06577740861847797, -0.08007684527466884, -0.08865650726838335, -0.09696633557469095, -0.10591707424312397, -0.11439549324952691, -0.1493542287081334, -0.29170850778629365], \"yaxis\": \"y\"}],                        {\"barmode\": \"relative\", \"legend\": {\"tracegroupgap\": 0}, \"margin\": {\"t\": 60}, \"template\": {\"data\": {\"bar\": [{\"error_x\": {\"color\": \"#2a3f5f\"}, \"error_y\": {\"color\": \"#2a3f5f\"}, \"marker\": {\"line\": {\"color\": \"#E5ECF6\", \"width\": 0.5}}, \"type\": \"bar\"}], \"barpolar\": [{\"marker\": {\"line\": {\"color\": \"#E5ECF6\", \"width\": 0.5}}, \"type\": \"barpolar\"}], \"carpet\": [{\"aaxis\": {\"endlinecolor\": \"#2a3f5f\", \"gridcolor\": \"white\", \"linecolor\": \"white\", \"minorgridcolor\": \"white\", \"startlinecolor\": \"#2a3f5f\"}, \"baxis\": {\"endlinecolor\": \"#2a3f5f\", \"gridcolor\": \"white\", \"linecolor\": \"white\", \"minorgridcolor\": \"white\", \"startlinecolor\": \"#2a3f5f\"}, \"type\": \"carpet\"}], \"choropleth\": [{\"colorbar\": {\"outlinewidth\": 0, \"ticks\": \"\"}, \"type\": \"choropleth\"}], \"contour\": [{\"colorbar\": {\"outlinewidth\": 0, \"ticks\": \"\"}, \"colorscale\": [[0.0, \"#0d0887\"], [0.1111111111111111, \"#46039f\"], [0.2222222222222222, \"#7201a8\"], [0.3333333333333333, \"#9c179e\"], [0.4444444444444444, \"#bd3786\"], [0.5555555555555556, \"#d8576b\"], [0.6666666666666666, \"#ed7953\"], [0.7777777777777778, \"#fb9f3a\"], [0.8888888888888888, \"#fdca26\"], [1.0, \"#f0f921\"]], \"type\": \"contour\"}], \"contourcarpet\": [{\"colorbar\": {\"outlinewidth\": 0, \"ticks\": \"\"}, \"type\": \"contourcarpet\"}], \"heatmap\": [{\"colorbar\": {\"outlinewidth\": 0, \"ticks\": \"\"}, \"colorscale\": [[0.0, \"#0d0887\"], [0.1111111111111111, \"#46039f\"], [0.2222222222222222, \"#7201a8\"], [0.3333333333333333, \"#9c179e\"], [0.4444444444444444, \"#bd3786\"], [0.5555555555555556, \"#d8576b\"], [0.6666666666666666, \"#ed7953\"], [0.7777777777777778, \"#fb9f3a\"], [0.8888888888888888, \"#fdca26\"], [1.0, \"#f0f921\"]], \"type\": \"heatmap\"}], \"heatmapgl\": [{\"colorbar\": {\"outlinewidth\": 0, \"ticks\": \"\"}, \"colorscale\": [[0.0, \"#0d0887\"], [0.1111111111111111, \"#46039f\"], [0.2222222222222222, \"#7201a8\"], [0.3333333333333333, \"#9c179e\"], [0.4444444444444444, \"#bd3786\"], [0.5555555555555556, \"#d8576b\"], [0.6666666666666666, \"#ed7953\"], [0.7777777777777778, \"#fb9f3a\"], [0.8888888888888888, \"#fdca26\"], [1.0, \"#f0f921\"]], \"type\": \"heatmapgl\"}], \"histogram\": [{\"marker\": {\"colorbar\": {\"outlinewidth\": 0, \"ticks\": \"\"}}, \"type\": \"histogram\"}], \"histogram2d\": [{\"colorbar\": {\"outlinewidth\": 0, \"ticks\": \"\"}, \"colorscale\": [[0.0, \"#0d0887\"], [0.1111111111111111, \"#46039f\"], [0.2222222222222222, \"#7201a8\"], [0.3333333333333333, \"#9c179e\"], [0.4444444444444444, \"#bd3786\"], [0.5555555555555556, \"#d8576b\"], [0.6666666666666666, \"#ed7953\"], [0.7777777777777778, \"#fb9f3a\"], [0.8888888888888888, \"#fdca26\"], [1.0, \"#f0f921\"]], \"type\": \"histogram2d\"}], \"histogram2dcontour\": [{\"colorbar\": {\"outlinewidth\": 0, \"ticks\": \"\"}, \"colorscale\": [[0.0, \"#0d0887\"], [0.1111111111111111, \"#46039f\"], [0.2222222222222222, \"#7201a8\"], [0.3333333333333333, \"#9c179e\"], [0.4444444444444444, \"#bd3786\"], [0.5555555555555556, \"#d8576b\"], [0.6666666666666666, \"#ed7953\"], [0.7777777777777778, \"#fb9f3a\"], [0.8888888888888888, \"#fdca26\"], [1.0, \"#f0f921\"]], \"type\": \"histogram2dcontour\"}], \"mesh3d\": [{\"colorbar\": {\"outlinewidth\": 0, \"ticks\": \"\"}, \"type\": \"mesh3d\"}], \"parcoords\": [{\"line\": {\"colorbar\": {\"outlinewidth\": 0, \"ticks\": \"\"}}, \"type\": \"parcoords\"}], \"pie\": [{\"automargin\": true, \"type\": \"pie\"}], \"scatter\": [{\"marker\": {\"colorbar\": {\"outlinewidth\": 0, \"ticks\": \"\"}}, \"type\": \"scatter\"}], \"scatter3d\": [{\"line\": {\"colorbar\": {\"outlinewidth\": 0, \"ticks\": \"\"}}, \"marker\": {\"colorbar\": {\"outlinewidth\": 0, \"ticks\": \"\"}}, \"type\": \"scatter3d\"}], \"scattercarpet\": [{\"marker\": {\"colorbar\": {\"outlinewidth\": 0, \"ticks\": \"\"}}, \"type\": \"scattercarpet\"}], \"scattergeo\": [{\"marker\": {\"colorbar\": {\"outlinewidth\": 0, \"ticks\": \"\"}}, \"type\": \"scattergeo\"}], \"scattergl\": [{\"marker\": {\"colorbar\": {\"outlinewidth\": 0, \"ticks\": \"\"}}, \"type\": \"scattergl\"}], \"scattermapbox\": [{\"marker\": {\"colorbar\": {\"outlinewidth\": 0, \"ticks\": \"\"}}, \"type\": \"scattermapbox\"}], \"scatterpolar\": [{\"marker\": {\"colorbar\": {\"outlinewidth\": 0, \"ticks\": \"\"}}, \"type\": \"scatterpolar\"}], \"scatterpolargl\": [{\"marker\": {\"colorbar\": {\"outlinewidth\": 0, \"ticks\": \"\"}}, \"type\": \"scatterpolargl\"}], \"scatterternary\": [{\"marker\": {\"colorbar\": {\"outlinewidth\": 0, \"ticks\": \"\"}}, \"type\": \"scatterternary\"}], \"surface\": [{\"colorbar\": {\"outlinewidth\": 0, \"ticks\": \"\"}, \"colorscale\": [[0.0, \"#0d0887\"], [0.1111111111111111, \"#46039f\"], [0.2222222222222222, \"#7201a8\"], [0.3333333333333333, \"#9c179e\"], [0.4444444444444444, \"#bd3786\"], [0.5555555555555556, \"#d8576b\"], [0.6666666666666666, \"#ed7953\"], [0.7777777777777778, \"#fb9f3a\"], [0.8888888888888888, \"#fdca26\"], [1.0, \"#f0f921\"]], \"type\": \"surface\"}], \"table\": [{\"cells\": {\"fill\": {\"color\": \"#EBF0F8\"}, \"line\": {\"color\": \"white\"}}, \"header\": {\"fill\": {\"color\": \"#C8D4E3\"}, \"line\": {\"color\": \"white\"}}, \"type\": \"table\"}]}, \"layout\": {\"annotationdefaults\": {\"arrowcolor\": \"#2a3f5f\", \"arrowhead\": 0, \"arrowwidth\": 1}, \"autotypenumbers\": \"strict\", \"coloraxis\": {\"colorbar\": {\"outlinewidth\": 0, \"ticks\": \"\"}}, \"colorscale\": {\"diverging\": [[0, \"#8e0152\"], [0.1, \"#c51b7d\"], [0.2, \"#de77ae\"], [0.3, \"#f1b6da\"], [0.4, \"#fde0ef\"], [0.5, \"#f7f7f7\"], [0.6, \"#e6f5d0\"], [0.7, \"#b8e186\"], [0.8, \"#7fbc41\"], [0.9, \"#4d9221\"], [1, \"#276419\"]], \"sequential\": [[0.0, \"#0d0887\"], [0.1111111111111111, \"#46039f\"], [0.2222222222222222, \"#7201a8\"], [0.3333333333333333, \"#9c179e\"], [0.4444444444444444, \"#bd3786\"], [0.5555555555555556, \"#d8576b\"], [0.6666666666666666, \"#ed7953\"], [0.7777777777777778, \"#fb9f3a\"], [0.8888888888888888, \"#fdca26\"], [1.0, \"#f0f921\"]], \"sequentialminus\": [[0.0, \"#0d0887\"], [0.1111111111111111, \"#46039f\"], [0.2222222222222222, \"#7201a8\"], [0.3333333333333333, \"#9c179e\"], [0.4444444444444444, \"#bd3786\"], [0.5555555555555556, \"#d8576b\"], [0.6666666666666666, \"#ed7953\"], [0.7777777777777778, \"#fb9f3a\"], [0.8888888888888888, \"#fdca26\"], [1.0, \"#f0f921\"]]}, \"colorway\": [\"#636efa\", \"#EF553B\", \"#00cc96\", \"#ab63fa\", \"#FFA15A\", \"#19d3f3\", \"#FF6692\", \"#B6E880\", \"#FF97FF\", \"#FECB52\"], \"font\": {\"color\": \"#2a3f5f\"}, \"geo\": {\"bgcolor\": \"white\", \"lakecolor\": \"white\", \"landcolor\": \"#E5ECF6\", \"showlakes\": true, \"showland\": true, \"subunitcolor\": \"white\"}, \"hoverlabel\": {\"align\": \"left\"}, \"hovermode\": \"closest\", \"mapbox\": {\"style\": \"light\"}, \"paper_bgcolor\": \"white\", \"plot_bgcolor\": \"#E5ECF6\", \"polar\": {\"angularaxis\": {\"gridcolor\": \"white\", \"linecolor\": \"white\", \"ticks\": \"\"}, \"bgcolor\": \"#E5ECF6\", \"radialaxis\": {\"gridcolor\": \"white\", \"linecolor\": \"white\", \"ticks\": \"\"}}, \"scene\": {\"xaxis\": {\"backgroundcolor\": \"#E5ECF6\", \"gridcolor\": \"white\", \"gridwidth\": 2, \"linecolor\": \"white\", \"showbackground\": true, \"ticks\": \"\", \"zerolinecolor\": \"white\"}, \"yaxis\": {\"backgroundcolor\": \"#E5ECF6\", \"gridcolor\": \"white\", \"gridwidth\": 2, \"linecolor\": \"white\", \"showbackground\": true, \"ticks\": \"\", \"zerolinecolor\": \"white\"}, \"zaxis\": {\"backgroundcolor\": \"#E5ECF6\", \"gridcolor\": \"white\", \"gridwidth\": 2, \"linecolor\": \"white\", \"showbackground\": true, \"ticks\": \"\", \"zerolinecolor\": \"white\"}}, \"shapedefaults\": {\"line\": {\"color\": \"#2a3f5f\"}}, \"ternary\": {\"aaxis\": {\"gridcolor\": \"white\", \"linecolor\": \"white\", \"ticks\": \"\"}, \"baxis\": {\"gridcolor\": \"white\", \"linecolor\": \"white\", \"ticks\": \"\"}, \"bgcolor\": \"#E5ECF6\", \"caxis\": {\"gridcolor\": \"white\", \"linecolor\": \"white\", \"ticks\": \"\"}}, \"title\": {\"x\": 0.05}, \"xaxis\": {\"automargin\": true, \"gridcolor\": \"white\", \"linecolor\": \"white\", \"ticks\": \"\", \"title\": {\"standoff\": 15}, \"zerolinecolor\": \"white\", \"zerolinewidth\": 2}, \"yaxis\": {\"automargin\": true, \"gridcolor\": \"white\", \"linecolor\": \"white\", \"ticks\": \"\", \"title\": {\"standoff\": 15}, \"zerolinecolor\": \"white\", \"zerolinewidth\": 2}}}, \"xaxis\": {\"anchor\": \"y\", \"domain\": [0.0, 1.0], \"title\": {\"text\": \"variables\"}}, \"yaxis\": {\"anchor\": \"x\", \"domain\": [0.0, 1.0], \"title\": {\"text\": \"correlation_score\"}}},                        {\"responsive\": true}                    ).then(function(){\n",
       "                            \n",
       "var gd = document.getElementById('e54b840a-4ee7-4acb-ab9d-512cb7c72b4b');\n",
       "var x = new MutationObserver(function (mutations, observer) {{\n",
       "        var display = window.getComputedStyle(gd).display;\n",
       "        if (!display || display === 'none') {{\n",
       "            console.log([gd, 'removed!']);\n",
       "            Plotly.purge(gd);\n",
       "            observer.disconnect();\n",
       "        }}\n",
       "}});\n",
       "\n",
       "// Listen for the removal of the full notebook cells\n",
       "var notebookContainer = gd.closest('#notebook-container');\n",
       "if (notebookContainer) {{\n",
       "    x.observe(notebookContainer, {childList: true});\n",
       "}}\n",
       "\n",
       "// Listen for the clearing of the current output cell\n",
       "var outputEl = gd.closest('.output');\n",
       "if (outputEl) {{\n",
       "    x.observe(outputEl, {childList: true});\n",
       "}}\n",
       "\n",
       "                        })                };                });            </script>        </div>"
      ]
     },
     "metadata": {},
     "output_type": "display_data"
    }
   ],
   "source": [
    "import plotly.express as px\n",
    "fig = px.bar(df, x='variables', y='correlation_score')\n",
    "fig.show()"
   ]
  },
  {
   "cell_type": "markdown",
   "metadata": {},
   "source": [
    "It is evident that open crypto prices, sentiment score and tweet attributes like length has almost insignificant correlation with direction variable at lag 0"
   ]
  },
  {
   "cell_type": "code",
   "execution_count": 9,
   "metadata": {},
   "outputs": [
    {
     "data": {
      "text/html": [
       "<div>\n",
       "<style scoped>\n",
       "    .dataframe tbody tr th:only-of-type {\n",
       "        vertical-align: middle;\n",
       "    }\n",
       "\n",
       "    .dataframe tbody tr th {\n",
       "        vertical-align: top;\n",
       "    }\n",
       "\n",
       "    .dataframe thead th {\n",
       "        text-align: right;\n",
       "    }\n",
       "</style>\n",
       "<table border=\"1\" class=\"dataframe\">\n",
       "  <thead>\n",
       "    <tr style=\"text-align: right;\">\n",
       "      <th></th>\n",
       "      <th>variables</th>\n",
       "      <th>correlation_score</th>\n",
       "    </tr>\n",
       "  </thead>\n",
       "  <tbody>\n",
       "    <tr>\n",
       "      <th>61</th>\n",
       "      <td>polarity_L1</td>\n",
       "      <td>0.283129</td>\n",
       "    </tr>\n",
       "    <tr>\n",
       "      <th>59</th>\n",
       "      <td>Volume_BTC_L2</td>\n",
       "      <td>0.264047</td>\n",
       "    </tr>\n",
       "    <tr>\n",
       "      <th>7</th>\n",
       "      <td>avg_pos_scr_L1</td>\n",
       "      <td>0.257390</td>\n",
       "    </tr>\n",
       "    <tr>\n",
       "      <th>17</th>\n",
       "      <td>avg_like_cnt_L2</td>\n",
       "      <td>0.225260</td>\n",
       "    </tr>\n",
       "    <tr>\n",
       "      <th>36</th>\n",
       "      <td>positive_L0</td>\n",
       "      <td>0.220211</td>\n",
       "    </tr>\n",
       "    <tr>\n",
       "      <th>62</th>\n",
       "      <td>polarity_L2</td>\n",
       "      <td>0.216310</td>\n",
       "    </tr>\n",
       "    <tr>\n",
       "      <th>12</th>\n",
       "      <td>avg_retweet_cnt_L0</td>\n",
       "      <td>0.208772</td>\n",
       "    </tr>\n",
       "    <tr>\n",
       "      <th>37</th>\n",
       "      <td>positive_L1</td>\n",
       "      <td>0.205912</td>\n",
       "    </tr>\n",
       "    <tr>\n",
       "      <th>54</th>\n",
       "      <td>Close_prices_L0</td>\n",
       "      <td>0.197332</td>\n",
       "    </tr>\n",
       "    <tr>\n",
       "      <th>58</th>\n",
       "      <td>Volume_BTC_L1</td>\n",
       "      <td>0.194472</td>\n",
       "    </tr>\n",
       "    <tr>\n",
       "      <th>32</th>\n",
       "      <td>negative_L2</td>\n",
       "      <td>0.192441</td>\n",
       "    </tr>\n",
       "    <tr>\n",
       "      <th>29</th>\n",
       "      <td>avg_followers_cnt_L2</td>\n",
       "      <td>0.192441</td>\n",
       "    </tr>\n",
       "    <tr>\n",
       "      <th>2</th>\n",
       "      <td>avg_neg_scr_L2</td>\n",
       "      <td>0.189457</td>\n",
       "    </tr>\n",
       "    <tr>\n",
       "      <th>10</th>\n",
       "      <td>avg_cmp_scr_L1</td>\n",
       "      <td>0.188753</td>\n",
       "    </tr>\n",
       "    <tr>\n",
       "      <th>57</th>\n",
       "      <td>Volume_BTC_L0</td>\n",
       "      <td>0.188753</td>\n",
       "    </tr>\n",
       "    <tr>\n",
       "      <th>18</th>\n",
       "      <td>tweet_vol_L0</td>\n",
       "      <td>0.183033</td>\n",
       "    </tr>\n",
       "    <tr>\n",
       "      <th>23</th>\n",
       "      <td>uniq_tweet_vol_L2</td>\n",
       "      <td>0.171556</td>\n",
       "    </tr>\n",
       "    <tr>\n",
       "      <th>38</th>\n",
       "      <td>positive_L2</td>\n",
       "      <td>0.159622</td>\n",
       "    </tr>\n",
       "    <tr>\n",
       "      <th>31</th>\n",
       "      <td>negative_L1</td>\n",
       "      <td>0.157294</td>\n",
       "    </tr>\n",
       "    <tr>\n",
       "      <th>15</th>\n",
       "      <td>avg_like_cnt_L0</td>\n",
       "      <td>0.154434</td>\n",
       "    </tr>\n",
       "    <tr>\n",
       "      <th>5</th>\n",
       "      <td>avg_neu_scr_L2</td>\n",
       "      <td>-0.105917</td>\n",
       "    </tr>\n",
       "    <tr>\n",
       "      <th>42</th>\n",
       "      <td>Negative_share_L0</td>\n",
       "      <td>-0.114395</td>\n",
       "    </tr>\n",
       "    <tr>\n",
       "      <th>65</th>\n",
       "      <td>Close_L2</td>\n",
       "      <td>-0.149354</td>\n",
       "    </tr>\n",
       "    <tr>\n",
       "      <th>4</th>\n",
       "      <td>avg_neu_scr_L1</td>\n",
       "      <td>-0.291709</td>\n",
       "    </tr>\n",
       "  </tbody>\n",
       "</table>\n",
       "</div>"
      ],
      "text/plain": [
       "               variables  correlation_score\n",
       "61           polarity_L1           0.283129\n",
       "59         Volume_BTC_L2           0.264047\n",
       "7         avg_pos_scr_L1           0.257390\n",
       "17       avg_like_cnt_L2           0.225260\n",
       "36           positive_L0           0.220211\n",
       "62           polarity_L2           0.216310\n",
       "12    avg_retweet_cnt_L0           0.208772\n",
       "37           positive_L1           0.205912\n",
       "54       Close_prices_L0           0.197332\n",
       "58         Volume_BTC_L1           0.194472\n",
       "32           negative_L2           0.192441\n",
       "29  avg_followers_cnt_L2           0.192441\n",
       "2         avg_neg_scr_L2           0.189457\n",
       "10        avg_cmp_scr_L1           0.188753\n",
       "57         Volume_BTC_L0           0.188753\n",
       "18          tweet_vol_L0           0.183033\n",
       "23     uniq_tweet_vol_L2           0.171556\n",
       "38           positive_L2           0.159622\n",
       "31           negative_L1           0.157294\n",
       "15       avg_like_cnt_L0           0.154434\n",
       "5         avg_neu_scr_L2          -0.105917\n",
       "42     Negative_share_L0          -0.114395\n",
       "65              Close_L2          -0.149354\n",
       "4         avg_neu_scr_L1          -0.291709"
      ]
     },
     "execution_count": 9,
     "metadata": {},
     "output_type": "execute_result"
    }
   ],
   "source": [
    "df[(df['correlation_score']>=0.15) | (df['correlation_score']<=-0.10)]"
   ]
  },
  {
   "cell_type": "code",
   "execution_count": 8,
   "metadata": {},
   "outputs": [
    {
     "data": {
      "text/plain": [
       "['polarity_L1',\n",
       " 'Volume_BTC_L2',\n",
       " 'avg_pos_scr_L1',\n",
       " 'avg_like_cnt_L2',\n",
       " 'positive_L0',\n",
       " 'polarity_L2',\n",
       " 'avg_retweet_cnt_L0',\n",
       " 'positive_L1',\n",
       " 'Close_prices_L0',\n",
       " 'Volume_BTC_L1',\n",
       " 'negative_L2',\n",
       " 'avg_followers_cnt_L2',\n",
       " 'avg_neg_scr_L2',\n",
       " 'avg_cmp_scr_L1',\n",
       " 'Volume_BTC_L0',\n",
       " 'tweet_vol_L0',\n",
       " 'uniq_tweet_vol_L2',\n",
       " 'positive_L2',\n",
       " 'negative_L1',\n",
       " 'avg_like_cnt_L0',\n",
       " 'avg_neu_scr_L2',\n",
       " 'Negative_share_L0',\n",
       " 'Close_L2',\n",
       " 'avg_neu_scr_L1']"
      ]
     },
     "execution_count": 8,
     "metadata": {},
     "output_type": "execute_result"
    }
   ],
   "source": [
    "df[(df['correlation_score']>=0.15) | (df['correlation_score']<=-0.10)]['variables'].values.tolist()\n"
   ]
  },
  {
   "cell_type": "markdown",
   "metadata": {},
   "source": [
    "### 5.2 Models with tweet data"
   ]
  },
  {
   "cell_type": "code",
   "execution_count": 9,
   "metadata": {},
   "outputs": [
    {
     "data": {
      "text/plain": [
       "Index(['Date', 'avg_neg_scr', 'avg_neu_scr', 'avg_pos_scr', 'avg_cmp_scr',\n",
       "       'avg_retweet_cnt', 'avg_like_cnt', 'tweet_vol', 'uniq_tweet_vol',\n",
       "       'avg_tweet_len', 'avg_followers_cnt', 'negative', 'neutral', 'positive',\n",
       "       'Bullish_Ratio', 'Negative_share', 'Open_prices', 'High_prices',\n",
       "       'Low_prices', 'Close_prices', 'Volume_BTC', 'polarity', 'pct_change',\n",
       "       'direction', 'Close'],\n",
       "      dtype='object')"
      ]
     },
     "execution_count": 9,
     "metadata": {},
     "output_type": "execute_result"
    }
   ],
   "source": [
    "summarised_all.columns"
   ]
  },
  {
   "cell_type": "code",
   "execution_count": 10,
   "metadata": {},
   "outputs": [
    {
     "data": {
      "text/html": [
       "<div>\n",
       "<style scoped>\n",
       "    .dataframe tbody tr th:only-of-type {\n",
       "        vertical-align: middle;\n",
       "    }\n",
       "\n",
       "    .dataframe tbody tr th {\n",
       "        vertical-align: top;\n",
       "    }\n",
       "\n",
       "    .dataframe thead th {\n",
       "        text-align: right;\n",
       "    }\n",
       "</style>\n",
       "<table border=\"1\" class=\"dataframe\">\n",
       "  <thead>\n",
       "    <tr style=\"text-align: right;\">\n",
       "      <th></th>\n",
       "      <th>polarity_L1</th>\n",
       "      <th>avg_pos_scr_L1</th>\n",
       "      <th>avg_like_cnt_L2</th>\n",
       "      <th>positive_L0</th>\n",
       "      <th>polarity_L2</th>\n",
       "      <th>avg_retweet_cnt_L0</th>\n",
       "      <th>positive_L1</th>\n",
       "      <th>negative_L2</th>\n",
       "      <th>avg_followers_cnt_L2</th>\n",
       "      <th>avg_neg_scr_L2</th>\n",
       "      <th>avg_cmp_scr_L1</th>\n",
       "      <th>tweet_vol_L0</th>\n",
       "      <th>uniq_tweet_vol_L2</th>\n",
       "      <th>positive_L2</th>\n",
       "      <th>negative_L1</th>\n",
       "      <th>avg_like_cnt_L0</th>\n",
       "      <th>avg_neu_scr_L2</th>\n",
       "      <th>Negative_share_L0</th>\n",
       "      <th>avg_neu_scr_L1</th>\n",
       "      <th>direction_L0</th>\n",
       "    </tr>\n",
       "    <tr>\n",
       "      <th>Date</th>\n",
       "      <th></th>\n",
       "      <th></th>\n",
       "      <th></th>\n",
       "      <th></th>\n",
       "      <th></th>\n",
       "      <th></th>\n",
       "      <th></th>\n",
       "      <th></th>\n",
       "      <th></th>\n",
       "      <th></th>\n",
       "      <th></th>\n",
       "      <th></th>\n",
       "      <th></th>\n",
       "      <th></th>\n",
       "      <th></th>\n",
       "      <th></th>\n",
       "      <th></th>\n",
       "      <th></th>\n",
       "      <th></th>\n",
       "      <th></th>\n",
       "    </tr>\n",
       "  </thead>\n",
       "  <tbody>\n",
       "    <tr>\n",
       "      <th>2021-07-01</th>\n",
       "      <td>NaN</td>\n",
       "      <td>NaN</td>\n",
       "      <td>NaN</td>\n",
       "      <td>52226</td>\n",
       "      <td>NaN</td>\n",
       "      <td>2096.803213</td>\n",
       "      <td>NaN</td>\n",
       "      <td>NaN</td>\n",
       "      <td>NaN</td>\n",
       "      <td>NaN</td>\n",
       "      <td>NaN</td>\n",
       "      <td>121675</td>\n",
       "      <td>NaN</td>\n",
       "      <td>NaN</td>\n",
       "      <td>NaN</td>\n",
       "      <td>1.747746</td>\n",
       "      <td>NaN</td>\n",
       "      <td>0.075546</td>\n",
       "      <td>NaN</td>\n",
       "      <td>NaN</td>\n",
       "    </tr>\n",
       "    <tr>\n",
       "      <th>2021-07-02</th>\n",
       "      <td>0.046195</td>\n",
       "      <td>0.101582</td>\n",
       "      <td>NaN</td>\n",
       "      <td>46556</td>\n",
       "      <td>NaN</td>\n",
       "      <td>2542.598358</td>\n",
       "      <td>52226.0</td>\n",
       "      <td>NaN</td>\n",
       "      <td>NaN</td>\n",
       "      <td>NaN</td>\n",
       "      <td>0.220600</td>\n",
       "      <td>109249</td>\n",
       "      <td>NaN</td>\n",
       "      <td>NaN</td>\n",
       "      <td>9192.0</td>\n",
       "      <td>1.644665</td>\n",
       "      <td>NaN</td>\n",
       "      <td>0.067506</td>\n",
       "      <td>0.877197</td>\n",
       "      <td>1.0</td>\n",
       "    </tr>\n",
       "    <tr>\n",
       "      <th>2021-07-03</th>\n",
       "      <td>0.039852</td>\n",
       "      <td>0.093512</td>\n",
       "      <td>1.747746</td>\n",
       "      <td>55244</td>\n",
       "      <td>0.046195</td>\n",
       "      <td>5788.559491</td>\n",
       "      <td>46556.0</td>\n",
       "      <td>9192.0</td>\n",
       "      <td>2179.789094</td>\n",
       "      <td>0.021007</td>\n",
       "      <td>0.210509</td>\n",
       "      <td>126263</td>\n",
       "      <td>54104.0</td>\n",
       "      <td>52226.0</td>\n",
       "      <td>7375.0</td>\n",
       "      <td>1.976620</td>\n",
       "      <td>0.877197</td>\n",
       "      <td>0.066385</td>\n",
       "      <td>0.889221</td>\n",
       "      <td>1.0</td>\n",
       "    </tr>\n",
       "    <tr>\n",
       "      <th>2021-07-04</th>\n",
       "      <td>0.038510</td>\n",
       "      <td>0.098290</td>\n",
       "      <td>1.644665</td>\n",
       "      <td>55071</td>\n",
       "      <td>0.039852</td>\n",
       "      <td>3349.956329</td>\n",
       "      <td>55244.0</td>\n",
       "      <td>7375.0</td>\n",
       "      <td>2010.086582</td>\n",
       "      <td>0.016984</td>\n",
       "      <td>0.215499</td>\n",
       "      <td>108334</td>\n",
       "      <td>45549.0</td>\n",
       "      <td>46556.0</td>\n",
       "      <td>8382.0</td>\n",
       "      <td>1.801355</td>\n",
       "      <td>0.889221</td>\n",
       "      <td>0.060230</td>\n",
       "      <td>0.886210</td>\n",
       "      <td>1.0</td>\n",
       "    </tr>\n",
       "    <tr>\n",
       "      <th>2021-07-05</th>\n",
       "      <td>0.040139</td>\n",
       "      <td>0.112238</td>\n",
       "      <td>1.976620</td>\n",
       "      <td>60639</td>\n",
       "      <td>0.038510</td>\n",
       "      <td>2227.247343</td>\n",
       "      <td>55071.0</td>\n",
       "      <td>8382.0</td>\n",
       "      <td>1688.782803</td>\n",
       "      <td>0.015089</td>\n",
       "      <td>0.257782</td>\n",
       "      <td>120897</td>\n",
       "      <td>44563.0</td>\n",
       "      <td>55244.0</td>\n",
       "      <td>6525.0</td>\n",
       "      <td>1.701465</td>\n",
       "      <td>0.886210</td>\n",
       "      <td>0.070754</td>\n",
       "      <td>0.873028</td>\n",
       "      <td>0.0</td>\n",
       "    </tr>\n",
       "  </tbody>\n",
       "</table>\n",
       "</div>"
      ],
      "text/plain": [
       "            polarity_L1  avg_pos_scr_L1  avg_like_cnt_L2  positive_L0  \\\n",
       "Date                                                                    \n",
       "2021-07-01          NaN             NaN              NaN        52226   \n",
       "2021-07-02     0.046195        0.101582              NaN        46556   \n",
       "2021-07-03     0.039852        0.093512         1.747746        55244   \n",
       "2021-07-04     0.038510        0.098290         1.644665        55071   \n",
       "2021-07-05     0.040139        0.112238         1.976620        60639   \n",
       "\n",
       "            polarity_L2  avg_retweet_cnt_L0  positive_L1  negative_L2  \\\n",
       "Date                                                                    \n",
       "2021-07-01          NaN         2096.803213          NaN          NaN   \n",
       "2021-07-02          NaN         2542.598358      52226.0          NaN   \n",
       "2021-07-03     0.046195         5788.559491      46556.0       9192.0   \n",
       "2021-07-04     0.039852         3349.956329      55244.0       7375.0   \n",
       "2021-07-05     0.038510         2227.247343      55071.0       8382.0   \n",
       "\n",
       "            avg_followers_cnt_L2  avg_neg_scr_L2  avg_cmp_scr_L1  \\\n",
       "Date                                                               \n",
       "2021-07-01                   NaN             NaN             NaN   \n",
       "2021-07-02                   NaN             NaN        0.220600   \n",
       "2021-07-03           2179.789094        0.021007        0.210509   \n",
       "2021-07-04           2010.086582        0.016984        0.215499   \n",
       "2021-07-05           1688.782803        0.015089        0.257782   \n",
       "\n",
       "            tweet_vol_L0  uniq_tweet_vol_L2  positive_L2  negative_L1  \\\n",
       "Date                                                                    \n",
       "2021-07-01        121675                NaN          NaN          NaN   \n",
       "2021-07-02        109249                NaN          NaN       9192.0   \n",
       "2021-07-03        126263            54104.0      52226.0       7375.0   \n",
       "2021-07-04        108334            45549.0      46556.0       8382.0   \n",
       "2021-07-05        120897            44563.0      55244.0       6525.0   \n",
       "\n",
       "            avg_like_cnt_L0  avg_neu_scr_L2  Negative_share_L0  \\\n",
       "Date                                                             \n",
       "2021-07-01         1.747746             NaN           0.075546   \n",
       "2021-07-02         1.644665             NaN           0.067506   \n",
       "2021-07-03         1.976620        0.877197           0.066385   \n",
       "2021-07-04         1.801355        0.889221           0.060230   \n",
       "2021-07-05         1.701465        0.886210           0.070754   \n",
       "\n",
       "            avg_neu_scr_L1  direction_L0  \n",
       "Date                                      \n",
       "2021-07-01             NaN           NaN  \n",
       "2021-07-02        0.877197           1.0  \n",
       "2021-07-03        0.889221           1.0  \n",
       "2021-07-04        0.886210           1.0  \n",
       "2021-07-05        0.873028           0.0  "
      ]
     },
     "execution_count": 10,
     "metadata": {},
     "output_type": "execute_result"
    }
   ],
   "source": [
    "model_data = summarised_all[summarised_all['Date']>='2021-07-01'].set_index('Date')\n",
    "\n",
    "df_shift_1 = model_data.shift(1).add_suffix('_L1')\n",
    "df_shift_2 = model_data.shift(2).add_suffix('_L2')\n",
    "model_data2 = model_data.add_suffix('_L0').merge(df_shift_1,on='Date', how='left')\n",
    "model_data2 = model_data2.merge(df_shift_2,on='Date', how='left')\n",
    "\n",
    "model_data = model_data2[['polarity_L1',\n",
    " 'avg_pos_scr_L1',\n",
    " 'avg_like_cnt_L2',\n",
    " 'positive_L0',\n",
    " 'polarity_L2',\n",
    " 'avg_retweet_cnt_L0',\n",
    " 'positive_L1',\n",
    " 'negative_L2',\n",
    " 'avg_followers_cnt_L2',\n",
    " 'avg_neg_scr_L2',\n",
    " 'avg_cmp_scr_L1',\n",
    " 'tweet_vol_L0',\n",
    " 'uniq_tweet_vol_L2',\n",
    " 'positive_L2',\n",
    " 'negative_L1',\n",
    " 'avg_like_cnt_L0',\n",
    " 'avg_neu_scr_L2',\n",
    " 'Negative_share_L0',\n",
    " 'avg_neu_scr_L1',\n",
    "'direction_L0']]\n",
    "\n",
    "model_data.head()\n",
    " "
   ]
  },
  {
   "cell_type": "code",
   "execution_count": 11,
   "metadata": {},
   "outputs": [
    {
     "data": {
      "text/html": [
       "<div>\n",
       "<style scoped>\n",
       "    .dataframe tbody tr th:only-of-type {\n",
       "        vertical-align: middle;\n",
       "    }\n",
       "\n",
       "    .dataframe tbody tr th {\n",
       "        vertical-align: top;\n",
       "    }\n",
       "\n",
       "    .dataframe thead th {\n",
       "        text-align: right;\n",
       "    }\n",
       "</style>\n",
       "<table border=\"1\" class=\"dataframe\">\n",
       "  <thead>\n",
       "    <tr style=\"text-align: right;\">\n",
       "      <th></th>\n",
       "      <th>polarity_L1</th>\n",
       "      <th>avg_pos_scr_L1</th>\n",
       "      <th>avg_like_cnt_L2</th>\n",
       "      <th>positive_L0</th>\n",
       "      <th>polarity_L2</th>\n",
       "      <th>avg_retweet_cnt_L0</th>\n",
       "      <th>positive_L1</th>\n",
       "      <th>negative_L2</th>\n",
       "      <th>avg_followers_cnt_L2</th>\n",
       "      <th>avg_neg_scr_L2</th>\n",
       "      <th>avg_cmp_scr_L1</th>\n",
       "      <th>tweet_vol_L0</th>\n",
       "      <th>uniq_tweet_vol_L2</th>\n",
       "      <th>positive_L2</th>\n",
       "      <th>negative_L1</th>\n",
       "      <th>avg_like_cnt_L0</th>\n",
       "      <th>avg_neu_scr_L2</th>\n",
       "      <th>Negative_share_L0</th>\n",
       "      <th>avg_neu_scr_L1</th>\n",
       "      <th>direction_L0</th>\n",
       "    </tr>\n",
       "    <tr>\n",
       "      <th>Date</th>\n",
       "      <th></th>\n",
       "      <th></th>\n",
       "      <th></th>\n",
       "      <th></th>\n",
       "      <th></th>\n",
       "      <th></th>\n",
       "      <th></th>\n",
       "      <th></th>\n",
       "      <th></th>\n",
       "      <th></th>\n",
       "      <th></th>\n",
       "      <th></th>\n",
       "      <th></th>\n",
       "      <th></th>\n",
       "      <th></th>\n",
       "      <th></th>\n",
       "      <th></th>\n",
       "      <th></th>\n",
       "      <th></th>\n",
       "      <th></th>\n",
       "    </tr>\n",
       "  </thead>\n",
       "  <tbody>\n",
       "    <tr>\n",
       "      <th>2021-07-03</th>\n",
       "      <td>0.039852</td>\n",
       "      <td>0.093512</td>\n",
       "      <td>1.747746</td>\n",
       "      <td>55244</td>\n",
       "      <td>0.046195</td>\n",
       "      <td>5788.559491</td>\n",
       "      <td>46556.0</td>\n",
       "      <td>9192.0</td>\n",
       "      <td>2179.789094</td>\n",
       "      <td>0.021007</td>\n",
       "      <td>0.210509</td>\n",
       "      <td>126263</td>\n",
       "      <td>54104.0</td>\n",
       "      <td>52226.0</td>\n",
       "      <td>7375.0</td>\n",
       "      <td>1.976620</td>\n",
       "      <td>0.877197</td>\n",
       "      <td>0.066385</td>\n",
       "      <td>0.889221</td>\n",
       "      <td>1.0</td>\n",
       "    </tr>\n",
       "    <tr>\n",
       "      <th>2021-07-04</th>\n",
       "      <td>0.038510</td>\n",
       "      <td>0.098290</td>\n",
       "      <td>1.644665</td>\n",
       "      <td>55071</td>\n",
       "      <td>0.039852</td>\n",
       "      <td>3349.956329</td>\n",
       "      <td>55244.0</td>\n",
       "      <td>7375.0</td>\n",
       "      <td>2010.086582</td>\n",
       "      <td>0.016984</td>\n",
       "      <td>0.215499</td>\n",
       "      <td>108334</td>\n",
       "      <td>45549.0</td>\n",
       "      <td>46556.0</td>\n",
       "      <td>8382.0</td>\n",
       "      <td>1.801355</td>\n",
       "      <td>0.889221</td>\n",
       "      <td>0.060230</td>\n",
       "      <td>0.886210</td>\n",
       "      <td>1.0</td>\n",
       "    </tr>\n",
       "    <tr>\n",
       "      <th>2021-07-05</th>\n",
       "      <td>0.040139</td>\n",
       "      <td>0.112238</td>\n",
       "      <td>1.976620</td>\n",
       "      <td>60639</td>\n",
       "      <td>0.038510</td>\n",
       "      <td>2227.247343</td>\n",
       "      <td>55071.0</td>\n",
       "      <td>8382.0</td>\n",
       "      <td>1688.782803</td>\n",
       "      <td>0.015089</td>\n",
       "      <td>0.257782</td>\n",
       "      <td>120897</td>\n",
       "      <td>44563.0</td>\n",
       "      <td>55244.0</td>\n",
       "      <td>6525.0</td>\n",
       "      <td>1.701465</td>\n",
       "      <td>0.886210</td>\n",
       "      <td>0.070754</td>\n",
       "      <td>0.873028</td>\n",
       "      <td>0.0</td>\n",
       "    </tr>\n",
       "    <tr>\n",
       "      <th>2021-07-06</th>\n",
       "      <td>0.042958</td>\n",
       "      <td>0.112665</td>\n",
       "      <td>1.801355</td>\n",
       "      <td>66354</td>\n",
       "      <td>0.040139</td>\n",
       "      <td>2098.188073</td>\n",
       "      <td>60639.0</td>\n",
       "      <td>6525.0</td>\n",
       "      <td>1777.710857</td>\n",
       "      <td>0.014355</td>\n",
       "      <td>0.259466</td>\n",
       "      <td>123314</td>\n",
       "      <td>40391.0</td>\n",
       "      <td>55071.0</td>\n",
       "      <td>8554.0</td>\n",
       "      <td>1.974374</td>\n",
       "      <td>0.873028</td>\n",
       "      <td>0.088384</td>\n",
       "      <td>0.870216</td>\n",
       "      <td>1.0</td>\n",
       "    </tr>\n",
       "    <tr>\n",
       "      <th>2021-07-07</th>\n",
       "      <td>0.045953</td>\n",
       "      <td>0.115642</td>\n",
       "      <td>1.701465</td>\n",
       "      <td>46998</td>\n",
       "      <td>0.042958</td>\n",
       "      <td>2605.157232</td>\n",
       "      <td>66354.0</td>\n",
       "      <td>8554.0</td>\n",
       "      <td>1873.034095</td>\n",
       "      <td>0.016379</td>\n",
       "      <td>0.270794</td>\n",
       "      <td>110175</td>\n",
       "      <td>50291.0</td>\n",
       "      <td>60639.0</td>\n",
       "      <td>10899.0</td>\n",
       "      <td>1.723612</td>\n",
       "      <td>0.870216</td>\n",
       "      <td>0.061339</td>\n",
       "      <td>0.865466</td>\n",
       "      <td>0.0</td>\n",
       "    </tr>\n",
       "  </tbody>\n",
       "</table>\n",
       "</div>"
      ],
      "text/plain": [
       "            polarity_L1  avg_pos_scr_L1  avg_like_cnt_L2  positive_L0  \\\n",
       "Date                                                                    \n",
       "2021-07-03     0.039852        0.093512         1.747746        55244   \n",
       "2021-07-04     0.038510        0.098290         1.644665        55071   \n",
       "2021-07-05     0.040139        0.112238         1.976620        60639   \n",
       "2021-07-06     0.042958        0.112665         1.801355        66354   \n",
       "2021-07-07     0.045953        0.115642         1.701465        46998   \n",
       "\n",
       "            polarity_L2  avg_retweet_cnt_L0  positive_L1  negative_L2  \\\n",
       "Date                                                                    \n",
       "2021-07-03     0.046195         5788.559491      46556.0       9192.0   \n",
       "2021-07-04     0.039852         3349.956329      55244.0       7375.0   \n",
       "2021-07-05     0.038510         2227.247343      55071.0       8382.0   \n",
       "2021-07-06     0.040139         2098.188073      60639.0       6525.0   \n",
       "2021-07-07     0.042958         2605.157232      66354.0       8554.0   \n",
       "\n",
       "            avg_followers_cnt_L2  avg_neg_scr_L2  avg_cmp_scr_L1  \\\n",
       "Date                                                               \n",
       "2021-07-03           2179.789094        0.021007        0.210509   \n",
       "2021-07-04           2010.086582        0.016984        0.215499   \n",
       "2021-07-05           1688.782803        0.015089        0.257782   \n",
       "2021-07-06           1777.710857        0.014355        0.259466   \n",
       "2021-07-07           1873.034095        0.016379        0.270794   \n",
       "\n",
       "            tweet_vol_L0  uniq_tweet_vol_L2  positive_L2  negative_L1  \\\n",
       "Date                                                                    \n",
       "2021-07-03        126263            54104.0      52226.0       7375.0   \n",
       "2021-07-04        108334            45549.0      46556.0       8382.0   \n",
       "2021-07-05        120897            44563.0      55244.0       6525.0   \n",
       "2021-07-06        123314            40391.0      55071.0       8554.0   \n",
       "2021-07-07        110175            50291.0      60639.0      10899.0   \n",
       "\n",
       "            avg_like_cnt_L0  avg_neu_scr_L2  Negative_share_L0  \\\n",
       "Date                                                             \n",
       "2021-07-03         1.976620        0.877197           0.066385   \n",
       "2021-07-04         1.801355        0.889221           0.060230   \n",
       "2021-07-05         1.701465        0.886210           0.070754   \n",
       "2021-07-06         1.974374        0.873028           0.088384   \n",
       "2021-07-07         1.723612        0.870216           0.061339   \n",
       "\n",
       "            avg_neu_scr_L1  direction_L0  \n",
       "Date                                      \n",
       "2021-07-03        0.889221           1.0  \n",
       "2021-07-04        0.886210           1.0  \n",
       "2021-07-05        0.873028           0.0  \n",
       "2021-07-06        0.870216           1.0  \n",
       "2021-07-07        0.865466           0.0  "
      ]
     },
     "execution_count": 11,
     "metadata": {},
     "output_type": "execute_result"
    }
   ],
   "source": [
    "model_data = model_data.dropna()\n",
    "model_data.head()"
   ]
  },
  {
   "cell_type": "markdown",
   "metadata": {},
   "source": [
    "### Test and train split\n",
    "\n",
    "Input data is split into taining and test in 70:30 ratio."
   ]
  },
  {
   "cell_type": "code",
   "execution_count": 12,
   "metadata": {},
   "outputs": [],
   "source": [
    "## Splitting 70/30\n",
    "index = round(len(model_data['direction_L0'])*.70)\n",
    "\n",
    "train =  model_data.iloc[:index]\n",
    "test =  model_data.iloc[index:]\n",
    "\n",
    "X=model_data.drop(columns=['direction_L0'])\n",
    "y=model_data[['direction_L0']]\n"
   ]
  },
  {
   "cell_type": "code",
   "execution_count": 13,
   "metadata": {},
   "outputs": [],
   "source": [
    "X_train = train.drop(columns=['direction_L0'])\n",
    "X_test = test.drop(columns=['direction_L0'])\n",
    "Y_train = train[['direction_L0']]\n",
    "Y_test = test[['direction_L0']]"
   ]
  },
  {
   "cell_type": "code",
   "execution_count": 14,
   "metadata": {},
   "outputs": [
    {
     "name": "stdout",
     "output_type": "stream",
     "text": [
      "train:(31, 20)\n",
      "test:(13, 20)\n",
      "X:(44, 19)\n",
      "y:(44, 1)\n",
      "X_train:(31, 19)\n",
      "X_test:(13, 19)\n",
      "Y_train:(31, 1)\n",
      "Y_test:(13, 1)\n"
     ]
    }
   ],
   "source": [
    "print('train:'+ str(train.shape))\n",
    "print('test:'+ str(test.shape))\n",
    "print('X:'+ str(X.shape))\n",
    "print('y:'+ str(y.shape))\n",
    "print('X_train:'+ str(X_train.shape))\n",
    "print('X_test:'+ str(X_test.shape))\n",
    "print('Y_train:'+ str(Y_train.shape))\n",
    "print('Y_test:'+ str(Y_test.shape))"
   ]
  },
  {
   "cell_type": "code",
   "execution_count": 15,
   "metadata": {},
   "outputs": [
    {
     "data": {
      "text/plain": [
       "<AxesSubplot:xlabel='direction_L0', ylabel='count'>"
      ]
     },
     "execution_count": 15,
     "metadata": {},
     "output_type": "execute_result"
    },
    {
     "data": {
      "image/png": "[encoded data removed]",
      "text/plain": [
       "<Figure size 432x288 with 1 Axes>"
      ]
     },
     "metadata": {
      "needs_background": "light"
     },
     "output_type": "display_data"
    }
   ],
   "source": [
    "sns.countplot(x = \"direction_L0\", data=train)"
   ]
  },
  {
   "cell_type": "markdown",
   "metadata": {},
   "source": [
    "### 1. Logistic Regression\n",
    "\n",
    "Logistic Regression is a discriminative classifier that uses a linear regression model to represent the probability through a logistic function in matrix notation: \n",
    "\\begin{equation}\n",
    "p(X) = \\frac{exp(w^Tx)}{1+exp(w^Tx)}\n",
    "\\end{equation}\n",
    "where $w^T$ represents the matrix for coefficients for each feature and x represents the observations. \n",
    "\n",
    "Logistic regression is popular machine learning method for binary classification. While simple, it gives good accuracy and has low training time. Additionally, it outputs a probability of the event being classified as class 0 or 1, which can then be adjusted using different threshold values depending on our classification purpose. For example, if the cost of misclassifying class 1 is too high, we would want to have a higher recall rate for class 1, thus we can do so by increasing the threshold value for the model to classify obsevation as class 1.  "
   ]
  },
  {
   "cell_type": "code",
   "execution_count": 16,
   "metadata": {
    "scrolled": true
   },
   "outputs": [
    {
     "name": "stderr",
     "output_type": "stream",
     "text": [
      "C:\\Users\\saggarwal\\anaconda3\\lib\\site-packages\\sklearn\\model_selection\\_search.py:922: UserWarning:\n",
      "\n",
      "One or more of the test scores are non-finite: [0.5        0.61111111        nan 0.5        0.5        0.47777778\n",
      "        nan 0.5        0.5        0.5               nan 0.5\n",
      " 0.5        0.5               nan 0.5        0.5        0.5\n",
      "        nan 0.5        0.5        0.5               nan 0.5\n",
      " 0.5        0.5               nan 0.5        0.5        0.5\n",
      "        nan 0.5        0.5        0.5               nan 0.5\n",
      " 0.5        0.5               nan 0.5       ]\n",
      "\n",
      "C:\\Users\\saggarwal\\anaconda3\\lib\\site-packages\\sklearn\\linear_model\\_sag.py:328: ConvergenceWarning:\n",
      "\n",
      "The max_iter was reached which means the coef_ did not converge\n",
      "\n"
     ]
    },
    {
     "data": {
      "text/plain": [
       "LogisticRegression(C=1e-05, penalty='l1', random_state=0, solver='saga')"
      ]
     },
     "execution_count": 16,
     "metadata": {},
     "output_type": "execute_result"
    }
   ],
   "source": [
    "#Fit Logistic Regression on new dataset\n",
    "params = {\"C\": [0.00001,0.0001,0.001,0.01,0.1, 1, 10, 100, 500, 1000],\n",
    "    \"penalty\": [\"l2\", \"l1\", \"elasticnet\", \"none\"]}\n",
    "model = LogisticRegression(solver ='saga', random_state=0) #saga supports all penalty and faster for large dataset\n",
    "logreg = GridSearchCV(model, param_grid=params, n_jobs=-1, cv=5, scoring='roc_auc', refit=True)\n",
    "logreg.fit(X_train, Y_train.values.ravel())\n",
    "logreg.best_estimator_"
   ]
  },
  {
   "cell_type": "code",
   "execution_count": 17,
   "metadata": {},
   "outputs": [],
   "source": [
    "#make predictions using LR model\n",
    "y_pred = logreg.predict(X_test)"
   ]
  },
  {
   "cell_type": "code",
   "execution_count": 18,
   "metadata": {},
   "outputs": [
    {
     "data": {
      "image/png": "[encoded data removed]",
      "text/plain": [
       "<Figure size 432x288 with 1 Axes>"
      ]
     },
     "metadata": {
      "needs_background": "light"
     },
     "output_type": "display_data"
    }
   ],
   "source": [
    "#Create ROC curve\n",
    "logit_roc_auc = roc_auc_score(Y_test, logreg.predict(X_test))\n",
    "fpr, tpr, thresholds = roc_curve(Y_test, logreg.predict_proba(X_test)[:,1])\n",
    "plt.figure()\n",
    "plt.plot(fpr, tpr, label='Logistic Regression (area = %0.2f)' % logit_roc_auc)\n",
    "plt.plot([0, 1], [0, 1],'r--')\n",
    "plt.xlim([0.0, 1.0])\n",
    "plt.ylim([0.0, 1.05])\n",
    "plt.xlabel('False Positive Rate')\n",
    "plt.ylabel('True Positive Rate')\n",
    "plt.title('Receiver operating characteristic')\n",
    "plt.legend(loc=\"lower right\")\n",
    "plt.show()"
   ]
  },
  {
   "cell_type": "code",
   "execution_count": 19,
   "metadata": {},
   "outputs": [
    {
     "name": "stdout",
     "output_type": "stream",
     "text": [
      "Threshold value is: 0.609957884541093\n"
     ]
    }
   ],
   "source": [
    "optimal_idx = np.argmax(tpr - fpr)\n",
    "optimal_threshold = thresholds[optimal_idx]\n",
    "print(\"Threshold value is:\", optimal_threshold)"
   ]
  },
  {
   "cell_type": "code",
   "execution_count": 20,
   "metadata": {},
   "outputs": [
    {
     "data": {
      "text/plain": [
       "(4, 1, 5, 3)"
      ]
     },
     "execution_count": 20,
     "metadata": {},
     "output_type": "execute_result"
    }
   ],
   "source": [
    "#results based on optimal threshold\n",
    "THRESHOLD = optimal_threshold\n",
    "preds = np.where(logreg.predict_proba(X_test)[:,1] > THRESHOLD, 1, 0)\n",
    "\n",
    "tn, fp, fn, tp = confusion_matrix(Y_test, preds).ravel()\n",
    "(tn, fp, fn, tp)"
   ]
  },
  {
   "cell_type": "code",
   "execution_count": 21,
   "metadata": {
    "scrolled": true
   },
   "outputs": [
    {
     "name": "stdout",
     "output_type": "stream",
     "text": [
      "              precision    recall  f1-score   support\n",
      "\n",
      "         0.0       0.44      0.80      0.57         5\n",
      "         1.0       0.75      0.38      0.50         8\n",
      "\n",
      "    accuracy                           0.54        13\n",
      "   macro avg       0.60      0.59      0.54        13\n",
      "weighted avg       0.63      0.54      0.53        13\n",
      "\n"
     ]
    }
   ],
   "source": [
    "print(classification_report(Y_test, preds))"
   ]
  },
  {
   "cell_type": "markdown",
   "metadata": {},
   "source": [
    "**Result - Logistic Regression Classifier is a weak classifier with very poor accuracy of 54%**"
   ]
  },
  {
   "cell_type": "markdown",
   "metadata": {},
   "source": [
    "### 2. XGBoost: an example of Boosting algorithm"
   ]
  },
  {
   "cell_type": "markdown",
   "metadata": {},
   "source": [
    "Next, we tried a gradiant boosting machine learning method called XGBoost (extreme Gradient Boosting), which is an implementation of gradiant boosted decision trees. Boosting is an ensemble method, where models are added consecutively to improve accuracy of the previous ones, and gradient boosting uses gradient descent algorithm to minimise the loss when adding new models. \n",
    "\n",
    "XGBoost is popular as it provides results with high accuracy in both classification and regression problems. Before implementing XGBoost, we will tune 4 of its parameters:\n",
    "1. *n_estimators*: number of estimators when boosting is terminated. \n",
    "2. *max_depth*: maximum depth of a tree. Higher value can make the tree overfit\n",
    "3. *gamma*: minimum loss reduction required to make partition on a leaf node of the tree. the higher value of gamma, the more conservative the algorithm will be\n",
    "4. *scale_pos_weight*: parameter that control the balance for positive and negative weights. Since our data is slightly imbalance, we will tune a few values to see if it makes a big difference to our results\n",
    "\n",
    "To tune these parameters, we will use *GridSearchCV()* which performs exhaustive search over specified parameter values for a model. It works by cross-validating grid-search over parameter grid."
   ]
  },
  {
   "cell_type": "code",
   "execution_count": 22,
   "metadata": {},
   "outputs": [
    {
     "data": {
      "text/plain": [
       "{'n_estimators': 1}"
      ]
     },
     "execution_count": 22,
     "metadata": {},
     "output_type": "execute_result"
    }
   ],
   "source": [
    "#tuning number of estimators\n",
    "param_test = {'n_estimators': range(1,100,4)}\n",
    "gsearch1 = GridSearchCV(estimator = XGBClassifier(objective='binary:logistic', learning_rate=0.2, use_label_encoder =False, eval_metric = 'auc'), \n",
    "                   param_grid = param_test, scoring='roc_auc', n_jobs=-1, cv=5)\n",
    "gsearch1.fit(X_train, Y_train)\n",
    "gsearch1.best_params_"
   ]
  },
  {
   "cell_type": "code",
   "execution_count": 23,
   "metadata": {},
   "outputs": [
    {
     "data": {
      "text/plain": [
       "{'max_depth': 3}"
      ]
     },
     "execution_count": 23,
     "metadata": {},
     "output_type": "execute_result"
    }
   ],
   "source": [
    "#tuning maximum tree depth\n",
    "param_test2 = {'max_depth':range(1,10,2)}\n",
    "gsearch2 = GridSearchCV(estimator = XGBClassifier(objective='binary:logistic', n_estimators = gsearch1.best_params_['n_estimators'], learning_rate = 0.2, use_label_encoder =False, eval_metric = 'auc'), \n",
    "                        param_grid = param_test2, scoring='roc_auc', n_jobs=-1, cv=5)\n",
    "\n",
    "gsearch2.fit(X_train, Y_train)\n",
    "gsearch2.best_params_"
   ]
  },
  {
   "cell_type": "code",
   "execution_count": 24,
   "metadata": {},
   "outputs": [
    {
     "data": {
      "text/plain": [
       "{'gamma': 0.0}"
      ]
     },
     "execution_count": 24,
     "metadata": {},
     "output_type": "execute_result"
    }
   ],
   "source": [
    "#tuning gamma parameter\n",
    "param_test3 = {'gamma': [i/10.0 for i in range(0,5)]} \n",
    "gsearch3 = GridSearchCV(estimator = XGBClassifier(objective='binary:logistic', n_estimators = gsearch1.best_params_['n_estimators'], learning_rate = 0.2, use_label_encoder =False, eval_metric = 'auc',\n",
    "                                                 max_depth = gsearch2.best_params_['max_depth']), \n",
    "                                                 param_grid = param_test3, scoring='roc_auc', n_jobs=-1, cv=5)\n",
    "\n",
    "gsearch3.fit(X_train, Y_train)\n",
    "gsearch3.best_params_"
   ]
  },
  {
   "cell_type": "code",
   "execution_count": 25,
   "metadata": {},
   "outputs": [
    {
     "data": {
      "text/plain": [
       "{'scale_pos_weight': 3}"
      ]
     },
     "execution_count": 25,
     "metadata": {},
     "output_type": "execute_result"
    }
   ],
   "source": [
    "#tuning scale_pos_weight because data is imbalanced\n",
    "param_test4 = {'scale_pos_weight': range(1,10,2)} ## Imbalance ratio of approx 1 to 1.14, so we iterate through a few weights\n",
    "gsearch4 = GridSearchCV(estimator = XGBClassifier(objective='binary:logistic', n_estimators = gsearch1.best_params_['n_estimators'], learning_rate = 0.2, use_label_encoder =False, eval_metric = 'auc',\n",
    "                                                 max_depth = gsearch2.best_params_['max_depth'], gamma = gsearch3.best_params_['gamma']),\n",
    "                                                 param_grid = param_test4, scoring='roc_auc', n_jobs=-1, cv=5)\n",
    "\n",
    "gsearch4.fit(X_train, Y_train)\n",
    "gsearch4.best_params_"
   ]
  },
  {
   "cell_type": "markdown",
   "metadata": {},
   "source": [
    "We will fit the final model using the optimised parameters we have found above."
   ]
  },
  {
   "cell_type": "code",
   "execution_count": 26,
   "metadata": {},
   "outputs": [
    {
     "name": "stderr",
     "output_type": "stream",
     "text": [
      "C:\\Users\\saggarwal\\anaconda3\\lib\\site-packages\\xgboost\\data.py:112: UserWarning:\n",
      "\n",
      "Use subset (sliced data) of np.ndarray is not recommended because it will generate extra copies and increase memory consumption\n",
      "\n"
     ]
    }
   ],
   "source": [
    "#Final model\n",
    "XGB_model = XGBClassifier(objective='binary:logistic', n_estimators = gsearch1.best_params_['n_estimators'], max_depth = gsearch2.best_params_['max_depth'],\n",
    "                    gamma = gsearch3.best_params_['gamma'], scale_pos_weight = gsearch4.best_params_['scale_pos_weight'], n_jobs=-1, learning_rate = 0.2, use_label_encoder =False, eval_metric = 'auc')\n",
    "\n",
    "XGB_model.fit(X_train, Y_train.values.ravel())\n",
    "XGB_model_predict = XGB_model.predict(X_test)"
   ]
  },
  {
   "cell_type": "code",
   "execution_count": 27,
   "metadata": {
    "scrolled": true
   },
   "outputs": [
    {
     "data": {
      "text/plain": [
       "XGBClassifier(base_score=0.5, booster='gbtree', colsample_bylevel=1,\n",
       "              colsample_bynode=1, colsample_bytree=1, eval_metric='auc',\n",
       "              gamma=0.0, gpu_id=-1, importance_type='gain',\n",
       "              interaction_constraints='', learning_rate=0.2, max_delta_step=0,\n",
       "              max_depth=3, min_child_weight=1, missing=nan,\n",
       "              monotone_constraints='()', n_estimators=1, n_jobs=-1,\n",
       "              num_parallel_tree=1, random_state=0, reg_alpha=0, reg_lambda=1,\n",
       "              scale_pos_weight=3, subsample=1, tree_method='exact',\n",
       "              use_label_encoder=False, validate_parameters=1, verbosity=None)"
      ]
     },
     "execution_count": 27,
     "metadata": {},
     "output_type": "execute_result"
    }
   ],
   "source": [
    "XGB_model"
   ]
  },
  {
   "cell_type": "code",
   "execution_count": 28,
   "metadata": {
    "scrolled": true
   },
   "outputs": [
    {
     "name": "stdout",
     "output_type": "stream",
     "text": [
      "              precision    recall  f1-score   support\n",
      "\n",
      "         0.0       0.45      1.00      0.62         5\n",
      "         1.0       1.00      0.25      0.40         8\n",
      "\n",
      "    accuracy                           0.54        13\n",
      "   macro avg       0.73      0.62      0.51        13\n",
      "weighted avg       0.79      0.54      0.49        13\n",
      "\n",
      "(5, 0, 6, 2) \n",
      "\n"
     ]
    }
   ],
   "source": [
    "print(classification_report(Y_test, XGB_model_predict))\n",
    "tn, fp, fn, tp = confusion_matrix(Y_test, XGB_model_predict).ravel()\n",
    "print((tn, fp, fn, tp), '\\n')"
   ]
  },
  {
   "cell_type": "markdown",
   "metadata": {},
   "source": [
    "**Result - XgBoost is equally a poor classifier with accuracy of 54%**"
   ]
  },
  {
   "cell_type": "markdown",
   "metadata": {},
   "source": [
    "### 3. SVM Model"
   ]
  },
  {
   "cell_type": "markdown",
   "metadata": {},
   "source": [
    "Here, we tried a non-probabilistic classifier called Support Vector Machine (SVM). This method is effective in high dimensional space and can control overfitting using its regularisation term. Additionally, it can use different kernel tricks, like polynomial or radial basis function, to transform non-linear problems to linearly separable cases. \n",
    "\n",
    "*SVC()* from sklearn.svm package only works well for dataset with tens of thousands observations. We will also try *SGDClassifier()* or *LinearSVC()* with different tuning parameters. Here, we will also explore different kernel approximations: linear, Radial Basis Function, and polynomial.\n",
    "\n",
    "We will tune 3 parameters: \n",
    "1. *loss*: the loss function to be used for classification\n",
    "2. *alpha*: a constant that multiplies by the regularisation term \n",
    "3. *penalty*: the penalty or regularisation term "
   ]
  },
  {
   "cell_type": "markdown",
   "metadata": {},
   "source": [
    "**SVM using SVC and SGDClassifier() function**"
   ]
  },
  {
   "cell_type": "code",
   "execution_count": 29,
   "metadata": {},
   "outputs": [
    {
     "name": "stdout",
     "output_type": "stream",
     "text": [
      "SVC(C=0.0001, gamma=0.001)\n"
     ]
    }
   ],
   "source": [
    "from sklearn import svm\n",
    "scaler = StandardScaler()\n",
    "SVM_Xtrain = scaler.fit_transform(X_train)\n",
    "SVM_Xtest = scaler.transform(X_test)\n",
    "\n",
    "tuned_parameters = [{'kernel': ['rbf'], 'gamma': [1e-3, 1e-4],\n",
    "                     'C': [0.0001,0.001, 0.01, 0.1,1, 10, 100, 1000]},\n",
    "                    {'kernel': ['linear'], 'C': [0.0001,0.001, 0.01, 0.1,1, 10, 100, 1000]}]\n",
    "#model = svm.SVC(kernel='linear')\n",
    "clf = GridSearchCV(svm.SVC(), param_grid=tuned_parameters, n_jobs=-1, cv=5,\n",
    "                  scoring='roc_auc', refit=True)\n",
    "clf.fit(SVM_Xtrain, Y_train.values.ravel())\n",
    "print(clf.best_estimator_)"
   ]
  },
  {
   "cell_type": "code",
   "execution_count": 30,
   "metadata": {
    "scrolled": true
   },
   "outputs": [
    {
     "name": "stderr",
     "output_type": "stream",
     "text": [
      "C:\\Users\\saggarwal\\anaconda3\\lib\\site-packages\\sklearn\\metrics\\_classification.py:1248: UndefinedMetricWarning:\n",
      "\n",
      "Precision and F-score are ill-defined and being set to 0.0 in labels with no predicted samples. Use `zero_division` parameter to control this behavior.\n",
      "\n"
     ]
    },
    {
     "name": "stdout",
     "output_type": "stream",
     "text": [
      "              precision    recall  f1-score   support\n",
      "\n",
      "         0.0       0.00      0.00      0.00         5\n",
      "         1.0       0.62      1.00      0.76         8\n",
      "\n",
      "    accuracy                           0.62        13\n",
      "   macro avg       0.31      0.50      0.38        13\n",
      "weighted avg       0.38      0.62      0.47        13\n",
      "\n",
      "(0, 5, 0, 8) \n",
      "\n"
     ]
    },
    {
     "name": "stderr",
     "output_type": "stream",
     "text": [
      "C:\\Users\\saggarwal\\anaconda3\\lib\\site-packages\\sklearn\\metrics\\_classification.py:1248: UndefinedMetricWarning:\n",
      "\n",
      "Precision and F-score are ill-defined and being set to 0.0 in labels with no predicted samples. Use `zero_division` parameter to control this behavior.\n",
      "\n",
      "C:\\Users\\saggarwal\\anaconda3\\lib\\site-packages\\sklearn\\metrics\\_classification.py:1248: UndefinedMetricWarning:\n",
      "\n",
      "Precision and F-score are ill-defined and being set to 0.0 in labels with no predicted samples. Use `zero_division` parameter to control this behavior.\n",
      "\n"
     ]
    }
   ],
   "source": [
    "y_preds = clf.predict(SVM_Xtest)\n",
    "print(classification_report(Y_test, y_preds))\n",
    "tn, fp, fn, tp = confusion_matrix(Y_test, y_preds).ravel()\n",
    "print((tn, fp, fn, tp), '\\n')"
   ]
  },
  {
   "cell_type": "markdown",
   "metadata": {},
   "source": [
    "a. SVM as Linear classifier"
   ]
  },
  {
   "cell_type": "code",
   "execution_count": 31,
   "metadata": {},
   "outputs": [
    {
     "name": "stdout",
     "output_type": "stream",
     "text": [
      "SGDClassifier(alpha=0.1, loss='log', max_iter=100, penalty='elasticnet',\n",
      "              random_state=0)\n"
     ]
    }
   ],
   "source": [
    "scaler = StandardScaler()\n",
    "SVM_Xtrain = scaler.fit_transform(X_train)\n",
    "SVM_Xtest = scaler.transform(X_test)\n",
    "\n",
    "params = {\n",
    "    \"loss\": [\"hinge\", \"log\", \"squared_hinge\", \"modified_huber\", \"perceptron\"],\n",
    "    \"alpha\": [0.0001, 0.001, 0.01, 0.1],\n",
    "    \"penalty\": [\"l2\", \"l1\", \"elasticnet\"]\n",
    "}\n",
    "model = SGDClassifier(max_iter=100, random_state=0)\n",
    "clf = GridSearchCV(model, param_grid=params, n_jobs=-1, cv=5,\n",
    "                  scoring='roc_auc', refit=True)\n",
    "clf.fit(SVM_Xtrain, Y_train.values.ravel())\n",
    "print(clf.best_estimator_)"
   ]
  },
  {
   "cell_type": "code",
   "execution_count": 32,
   "metadata": {},
   "outputs": [
    {
     "name": "stdout",
     "output_type": "stream",
     "text": [
      "              precision    recall  f1-score   support\n",
      "\n",
      "         0.0       0.40      0.40      0.40         5\n",
      "         1.0       0.62      0.62      0.62         8\n",
      "\n",
      "    accuracy                           0.54        13\n",
      "   macro avg       0.51      0.51      0.51        13\n",
      "weighted avg       0.54      0.54      0.54        13\n",
      "\n",
      "(2, 3, 3, 5) \n",
      "\n"
     ]
    }
   ],
   "source": [
    "y_preds = clf.predict(SVM_Xtest)\n",
    "print(classification_report(Y_test, y_preds))\n",
    "tn, fp, fn, tp = confusion_matrix(Y_test, y_preds).ravel()\n",
    "print((tn, fp, fn, tp), '\\n')"
   ]
  },
  {
   "cell_type": "markdown",
   "metadata": {},
   "source": [
    "b. SVM using Radial Basis Function Kernel"
   ]
  },
  {
   "cell_type": "code",
   "execution_count": 33,
   "metadata": {},
   "outputs": [
    {
     "name": "stderr",
     "output_type": "stream",
     "text": [
      "C:\\Users\\saggarwal\\anaconda3\\lib\\site-packages\\sklearn\\model_selection\\_search.py:922: UserWarning:\n",
      "\n",
      "One or more of the test scores are non-finite: [nan nan nan nan]\n",
      "\n"
     ]
    },
    {
     "name": "stdout",
     "output_type": "stream",
     "text": [
      "SGDClassifier(alpha=0.01, max_iter=100, penalty='l1', random_state=0)\n"
     ]
    }
   ],
   "source": [
    "params = {'gamma': [1, 0.1, 0.01, 0.001]}\n",
    "rbf_feature = GridSearchCV(RBFSampler(), param_grid = params, n_jobs=-1, cv=5, scoring='explained_variance')\n",
    "rbf_feature.fit(X_train)\n",
    "SVM_Xtrain = rbf_feature.transform(X_train)\n",
    "SVM_Xtest = rbf_feature.transform(X_test)\n",
    "\n",
    "params = {\n",
    "    \"loss\": [\"hinge\", \"log\", \"squared_hinge\", \"modified_huber\", \"perceptron\"],\n",
    "    \"alpha\": [0.0001, 0.001, 0.01, 0.1],\n",
    "    \"penalty\": [\"l2\", \"l1\", \"elasticnet\"]\n",
    "}\n",
    "model = SGDClassifier(max_iter=100, random_state=0)\n",
    "clf = GridSearchCV(model, param_grid=params, n_jobs=-1, cv=5,\n",
    "                  scoring='roc_auc', refit=True)\n",
    "clf.fit(SVM_Xtrain, Y_train.values.ravel())\n",
    "print(clf.best_estimator_)"
   ]
  },
  {
   "cell_type": "code",
   "execution_count": 34,
   "metadata": {},
   "outputs": [
    {
     "name": "stdout",
     "output_type": "stream",
     "text": [
      "              precision    recall  f1-score   support\n",
      "\n",
      "         0.0       0.33      0.40      0.36         5\n",
      "         1.0       0.57      0.50      0.53         8\n",
      "\n",
      "    accuracy                           0.46        13\n",
      "   macro avg       0.45      0.45      0.45        13\n",
      "weighted avg       0.48      0.46      0.47        13\n",
      "\n",
      "(2, 3, 4, 4) \n",
      "\n"
     ]
    }
   ],
   "source": [
    "y_preds = clf.predict(SVM_Xtest)\n",
    "print(classification_report(Y_test, y_preds))\n",
    "tn, fp, fn, tp = confusion_matrix(Y_test, y_preds).ravel()\n",
    "print((tn, fp, fn, tp), '\\n')"
   ]
  },
  {
   "cell_type": "markdown",
   "metadata": {},
   "source": [
    "c. SVM using Polynomial Kernel"
   ]
  },
  {
   "cell_type": "code",
   "execution_count": 35,
   "metadata": {},
   "outputs": [
    {
     "name": "stdout",
     "output_type": "stream",
     "text": [
      "SGDClassifier(alpha=0.01, loss='log', max_iter=100, random_state=0)\n"
     ]
    }
   ],
   "source": [
    "poly_feature = PolynomialCountSketch(degree = 2, n_components = 200) #optimal n_components = 10*n_features\n",
    "SVM_Xtrain = poly_feature.fit_transform(X_train)\n",
    "SVM_Xtest = poly_feature.transform(X_test)\n",
    "\n",
    "params = {\n",
    "    \"loss\": [\"hinge\", \"log\", \"squared_hinge\", \"modified_huber\", \"perceptron\"],\n",
    "    \"alpha\": [0.0001, 0.001, 0.01, 0.1],\n",
    "    \"penalty\": [\"l2\", \"l1\", \"elasticnet\"]\n",
    "}\n",
    "model = SGDClassifier(max_iter=100, random_state=0)\n",
    "clf = GridSearchCV(model, param_grid=params, n_jobs=-1, cv=5,\n",
    "                  scoring='roc_auc', refit=True)\n",
    "clf.fit(SVM_Xtrain, Y_train.values.ravel())\n",
    "print(clf.best_estimator_)"
   ]
  },
  {
   "cell_type": "code",
   "execution_count": 36,
   "metadata": {},
   "outputs": [
    {
     "name": "stdout",
     "output_type": "stream",
     "text": [
      "              precision    recall  f1-score   support\n",
      "\n",
      "         0.0       0.38      1.00      0.56         5\n",
      "         1.0       0.00      0.00      0.00         8\n",
      "\n",
      "    accuracy                           0.38        13\n",
      "   macro avg       0.19      0.50      0.28        13\n",
      "weighted avg       0.15      0.38      0.21        13\n",
      "\n",
      "(5, 0, 8, 0) \n",
      "\n"
     ]
    },
    {
     "name": "stderr",
     "output_type": "stream",
     "text": [
      "C:\\Users\\saggarwal\\anaconda3\\lib\\site-packages\\sklearn\\metrics\\_classification.py:1248: UndefinedMetricWarning:\n",
      "\n",
      "Precision and F-score are ill-defined and being set to 0.0 in labels with no predicted samples. Use `zero_division` parameter to control this behavior.\n",
      "\n",
      "C:\\Users\\saggarwal\\anaconda3\\lib\\site-packages\\sklearn\\metrics\\_classification.py:1248: UndefinedMetricWarning:\n",
      "\n",
      "Precision and F-score are ill-defined and being set to 0.0 in labels with no predicted samples. Use `zero_division` parameter to control this behavior.\n",
      "\n",
      "C:\\Users\\saggarwal\\anaconda3\\lib\\site-packages\\sklearn\\metrics\\_classification.py:1248: UndefinedMetricWarning:\n",
      "\n",
      "Precision and F-score are ill-defined and being set to 0.0 in labels with no predicted samples. Use `zero_division` parameter to control this behavior.\n",
      "\n"
     ]
    }
   ],
   "source": [
    "y_preds = clf.predict(SVM_Xtest)\n",
    "print(classification_report(Y_test, y_preds))\n",
    "tn, fp, fn, tp = confusion_matrix(Y_test, y_preds).ravel()\n",
    "print((tn, fp, fn, tp), '\\n')"
   ]
  },
  {
   "cell_type": "markdown",
   "metadata": {},
   "source": [
    "**SVM using LinearSVC() function**"
   ]
  },
  {
   "cell_type": "markdown",
   "metadata": {},
   "source": [
    "As SVM with the radial basis function and polynomial kernel did not give good results as observed earlier when implementing with *SGDClassifier()*, we will try to implement here - linear and polynomial kernel instead."
   ]
  },
  {
   "cell_type": "markdown",
   "metadata": {},
   "source": [
    "a. SVM as Linear Classifier"
   ]
  },
  {
   "cell_type": "code",
   "execution_count": 37,
   "metadata": {},
   "outputs": [
    {
     "name": "stdout",
     "output_type": "stream",
     "text": [
      "LinearSVC(C=0.001, dual=False, random_state=0)\n"
     ]
    },
    {
     "name": "stderr",
     "output_type": "stream",
     "text": [
      "C:\\Users\\saggarwal\\anaconda3\\lib\\site-packages\\sklearn\\model_selection\\_search.py:922: UserWarning:\n",
      "\n",
      "One or more of the test scores are non-finite: [       nan        nan        nan        nan        nan        nan\n",
      " 0.75833333 0.5               nan        nan        nan        nan\n",
      "        nan        nan        nan        nan        nan        nan\n",
      "        nan        nan        nan 0.78333333 0.5               nan\n",
      "        nan        nan        nan        nan        nan        nan\n",
      "        nan        nan        nan        nan        nan        nan\n",
      " 0.77777778 0.5               nan        nan        nan        nan\n",
      "        nan        nan        nan        nan        nan        nan\n",
      "        nan        nan        nan 0.59722222 0.58333333        nan\n",
      "        nan        nan        nan        nan        nan        nan\n",
      "        nan        nan        nan        nan        nan        nan\n",
      " 0.68333333 0.59444444        nan        nan        nan        nan\n",
      "        nan        nan        nan        nan        nan        nan\n",
      "        nan        nan        nan 0.73888889 0.70277778        nan\n",
      "        nan        nan        nan        nan        nan        nan\n",
      "        nan        nan        nan        nan        nan        nan\n",
      " 0.72222222 0.72777778        nan        nan        nan        nan\n",
      "        nan        nan        nan        nan        nan        nan\n",
      "        nan        nan        nan 0.72222222 0.72777778        nan\n",
      "        nan        nan        nan        nan        nan        nan\n",
      "        nan        nan        nan        nan        nan        nan\n",
      " 0.73888889 0.72777778        nan        nan        nan        nan\n",
      "        nan        nan        nan]\n",
      "\n"
     ]
    }
   ],
   "source": [
    "scaler = StandardScaler()\n",
    "SVM_Xtrain = scaler.fit_transform(X_train)\n",
    "SVM_Xtest = scaler.transform(X_test)\n",
    "\n",
    "params = {\n",
    "    \"loss\": [\"hinge\", \"log\", \"squared_hinge\", \"modified_huber\", \"perceptron\"],\n",
    "    \"C\": [0.0001, 0.001, 0.01,0.1, 1, 10, 100, 500, 1000],\n",
    "    \"penalty\": [\"l2\", \"l1\", \"elasticnet\"]\n",
    "}\n",
    "model = LinearSVC(dual=False, random_state=0)\n",
    "clf = GridSearchCV(model, param_grid=params, n_jobs=-1, cv=5, scoring='roc_auc', refit=True)\n",
    "clf.fit(SVM_Xtrain, Y_train.values.ravel())\n",
    "print(clf.best_estimator_)"
   ]
  },
  {
   "cell_type": "code",
   "execution_count": 38,
   "metadata": {},
   "outputs": [
    {
     "name": "stdout",
     "output_type": "stream",
     "text": [
      "              precision    recall  f1-score   support\n",
      "\n",
      "         0.0       0.67      0.40      0.50         5\n",
      "         1.0       0.70      0.88      0.78         8\n",
      "\n",
      "    accuracy                           0.69        13\n",
      "   macro avg       0.68      0.64      0.64        13\n",
      "weighted avg       0.69      0.69      0.67        13\n",
      "\n",
      "(2, 3, 1, 7) \n",
      "\n"
     ]
    }
   ],
   "source": [
    "y_preds = clf.predict(SVM_Xtest)\n",
    "print(classification_report(Y_test, y_preds))\n",
    "tn, fp, fn, tp = confusion_matrix(Y_test, y_preds).ravel()\n",
    "print((tn, fp, fn, tp), '\\n')"
   ]
  },
  {
   "cell_type": "markdown",
   "metadata": {},
   "source": [
    "b. SVM using Polynomial Kernel"
   ]
  },
  {
   "cell_type": "code",
   "execution_count": 39,
   "metadata": {},
   "outputs": [
    {
     "name": "stdout",
     "output_type": "stream",
     "text": [
      "LinearSVC(C=0.1, dual=False, max_iter=10000, penalty='l1', random_state=0)\n"
     ]
    },
    {
     "name": "stderr",
     "output_type": "stream",
     "text": [
      "C:\\Users\\saggarwal\\anaconda3\\lib\\site-packages\\sklearn\\model_selection\\_search.py:922: UserWarning:\n",
      "\n",
      "One or more of the test scores are non-finite: [       nan        nan        nan        nan        nan        nan\n",
      " 0.56111111 0.72222222        nan        nan        nan        nan\n",
      "        nan        nan        nan        nan        nan        nan\n",
      "        nan        nan        nan 0.51666667 0.71944444        nan\n",
      "        nan        nan        nan        nan        nan        nan\n",
      "        nan        nan        nan        nan        nan        nan\n",
      " 0.53888889 0.72222222        nan        nan        nan        nan\n",
      "        nan        nan        nan        nan        nan        nan\n",
      "        nan        nan        nan 0.56111111 0.69722222        nan\n",
      "        nan        nan        nan        nan        nan        nan\n",
      "        nan        nan        nan        nan        nan        nan\n",
      " 0.51666667 0.69722222        nan        nan        nan        nan\n",
      "        nan        nan        nan        nan        nan        nan\n",
      "        nan        nan        nan 0.51666667 0.71944444        nan\n",
      "        nan        nan        nan        nan        nan        nan]\n",
      "\n",
      "C:\\Users\\saggarwal\\anaconda3\\lib\\site-packages\\sklearn\\svm\\_base.py:985: ConvergenceWarning:\n",
      "\n",
      "Liblinear failed to converge, increase the number of iterations.\n",
      "\n"
     ]
    }
   ],
   "source": [
    "poly_feature = PolynomialCountSketch(degree = 2, n_components = 180) #optimal n_components = 10*n_features\n",
    "SVM_Xtrain = poly_feature.fit_transform(X_train)\n",
    "SVM_Xtest = poly_feature.transform(X_test)\n",
    "\n",
    "params = {\n",
    "    \"loss\": [\"hinge\", \"log\", \"squared_hinge\", \"modified_huber\", \"perceptron\"],\n",
    "    \"C\": [0.1, 1, 10, 100, 500, 1000],\n",
    "    \"penalty\": [\"l2\", \"l1\", \"elasticnet\"],\n",
    "    \"max_iter\": [10000]\n",
    "}\n",
    "model = LinearSVC(dual=False, random_state=0)\n",
    "clf = GridSearchCV(model, param_grid=params, n_jobs=-1, cv=5, scoring='roc_auc', refit=True)\n",
    "clf.fit(SVM_Xtrain, Y_train.values.ravel())\n",
    "print(clf.best_estimator_)"
   ]
  },
  {
   "cell_type": "code",
   "execution_count": 40,
   "metadata": {
    "scrolled": true
   },
   "outputs": [
    {
     "name": "stdout",
     "output_type": "stream",
     "text": [
      "              precision    recall  f1-score   support\n",
      "\n",
      "         0.0       0.50      1.00      0.67         5\n",
      "         1.0       1.00      0.38      0.55         8\n",
      "\n",
      "    accuracy                           0.62        13\n",
      "   macro avg       0.75      0.69      0.61        13\n",
      "weighted avg       0.81      0.62      0.59        13\n",
      "\n",
      "(5, 0, 5, 3) \n",
      "\n"
     ]
    }
   ],
   "source": [
    "y_preds = clf.predict(SVM_Xtest)\n",
    "print(classification_report(Y_test, y_preds))\n",
    "tn, fp, fn, tp = confusion_matrix(Y_test, y_preds).ravel()\n",
    "print((tn, fp, fn, tp), '\\n')"
   ]
  },
  {
   "cell_type": "markdown",
   "metadata": {},
   "source": [
    "**Result - Out of all the SVM classifiers, LinearSVC() has the highest accuracy of 69%**"
   ]
  },
  {
   "cell_type": "markdown",
   "metadata": {},
   "source": [
    "### 4. Random Forest"
   ]
  },
  {
   "cell_type": "markdown",
   "metadata": {},
   "source": [
    "Random Forest is a ensemble method called bagging, where it constructs multiple trees using random features on a sub-set of data while training and the average prediction of individual trees is returned. It is superior to decision trees as it can control overfitting and improve predictive accuracy. It also works well on large dataset.\n",
    "\n",
    "To implement Random Forest, we will tune 2 of its parameters: \n",
    "1. *n_estimators*: number of tress in the forest  \n",
    "2. *max_features*: number of features to consider when looking for the best split"
   ]
  },
  {
   "cell_type": "markdown",
   "metadata": {},
   "source": [
    "### Random Forest - Hyper parameter tuning using GridSearchCV"
   ]
  },
  {
   "cell_type": "code",
   "execution_count": 41,
   "metadata": {},
   "outputs": [
    {
     "name": "stdout",
     "output_type": "stream",
     "text": [
      "RandomForestClassifier(n_estimators=41, n_jobs=-1, random_state=0)\n"
     ]
    }
   ],
   "source": [
    "params = {'n_estimators': range(1, 200, 20),\n",
    "         'max_features': ['auto', 'log2']}\n",
    "model = RandomForestClassifier(n_jobs=-1, random_state=0)\n",
    "rfc = GridSearchCV(model, param_grid = params, n_jobs=-1, cv=5, scoring='roc_auc', refit=True)\n",
    "rfc.fit(X_train, Y_train.values.ravel())\n",
    "print(rfc.best_estimator_) "
   ]
  },
  {
   "cell_type": "code",
   "execution_count": 42,
   "metadata": {},
   "outputs": [
    {
     "name": "stdout",
     "output_type": "stream",
     "text": [
      "              precision    recall  f1-score   support\n",
      "\n",
      "         0.0       0.62      1.00      0.77         5\n",
      "         1.0       1.00      0.62      0.77         8\n",
      "\n",
      "    accuracy                           0.77        13\n",
      "   macro avg       0.81      0.81      0.77        13\n",
      "weighted avg       0.86      0.77      0.77        13\n",
      "\n",
      "(5, 0, 3, 5) \n",
      "\n"
     ]
    }
   ],
   "source": [
    "y_preds = rfc.predict(X_test)\n",
    "print(classification_report(Y_test, y_preds))\n",
    "tn, fp, fn, tp = confusion_matrix(Y_test, y_preds).ravel()\n",
    "print((tn, fp, fn, tp), '\\n')"
   ]
  },
  {
   "cell_type": "code",
   "execution_count": 43,
   "metadata": {
    "scrolled": false
   },
   "outputs": [
    {
     "data": {
      "text/plain": [
       "<BarContainer object of 19 artists>"
      ]
     },
     "execution_count": 43,
     "metadata": {},
     "output_type": "execute_result"
    },
    {
     "data": {
      "image/png": "[encoded data removed]",
      "text/plain": [
       "<Figure size 432x288 with 1 Axes>"
      ]
     },
     "metadata": {
      "needs_background": "light"
     },
     "output_type": "display_data"
    }
   ],
   "source": [
    "#Feature importance refers to techniques that assign a score to input features based on \n",
    "#how useful they are at predicting a target variable.\n",
    "importances_ML = pd.DataFrame({'feature':X_train.columns,'importance':np.round(rfc.best_estimator_.feature_importances_,3)})\n",
    "importances_ML = importances_ML.sort_values('importance',ascending=True)\n",
    "ml = importances_ML.loc[importances_ML['importance'] > 0]\n",
    "ml.sort_values('importance', inplace=True)\n",
    "plt.barh(ml['feature'], ml['importance'])"
   ]
  },
  {
   "cell_type": "markdown",
   "metadata": {},
   "source": [
    "### Random Forest - Hyper parameter tuning using RandomisedSearchCV"
   ]
  },
  {
   "cell_type": "code",
   "execution_count": 44,
   "metadata": {},
   "outputs": [],
   "source": [
    "rfc = RandomForestClassifier()\n",
    "rfc.fit(X_train,Y_train.values.ravel())\n",
    "# predictions\n",
    "rfc_predict = rfc.predict(X_test)"
   ]
  },
  {
   "cell_type": "code",
   "execution_count": 45,
   "metadata": {},
   "outputs": [],
   "source": [
    "rfc_cv_score = cross_val_score(rfc, X, y.values.ravel(), cv=10, scoring='roc_auc')"
   ]
  },
  {
   "cell_type": "code",
   "execution_count": 46,
   "metadata": {},
   "outputs": [
    {
     "name": "stdout",
     "output_type": "stream",
     "text": [
      "=== Confusion Matrix ===\n",
      "[[4 1]\n",
      " [4 4]]\n",
      "\n",
      "\n",
      "=== Classification Report ===\n",
      "              precision    recall  f1-score   support\n",
      "\n",
      "         0.0       0.50      0.80      0.62         5\n",
      "         1.0       0.80      0.50      0.62         8\n",
      "\n",
      "    accuracy                           0.62        13\n",
      "   macro avg       0.65      0.65      0.62        13\n",
      "weighted avg       0.68      0.62      0.62        13\n",
      "\n",
      "\n",
      "\n",
      "=== All AUC Scores ===\n",
      "[0.16666667 0.16666667 0.16666667 0.83333333 1.         1.\n",
      " 1.         0.5        0.5        0.75      ]\n",
      "\n",
      "\n",
      "=== Mean AUC Score ===\n",
      "Mean AUC Score - Random Forest:  0.6083333333333333\n"
     ]
    }
   ],
   "source": [
    "print(\"=== Confusion Matrix ===\")\n",
    "print(confusion_matrix(Y_test, rfc_predict))\n",
    "print('\\n')\n",
    "print(\"=== Classification Report ===\")\n",
    "print(classification_report(Y_test, rfc_predict))\n",
    "print('\\n')\n",
    "print(\"=== All AUC Scores ===\")\n",
    "print(rfc_cv_score)\n",
    "print('\\n')\n",
    "print(\"=== Mean AUC Score ===\")\n",
    "print(\"Mean AUC Score - Random Forest: \", rfc_cv_score.mean())"
   ]
  },
  {
   "cell_type": "code",
   "execution_count": 47,
   "metadata": {},
   "outputs": [
    {
     "name": "stdout",
     "output_type": "stream",
     "text": [
      "Fitting 3 folds for each of 100 candidates, totalling 300 fits\n",
      "{'n_estimators': 800, 'max_features': 'auto', 'max_depth': 380}\n"
     ]
    }
   ],
   "source": [
    "from sklearn.model_selection import RandomizedSearchCV\n",
    "# number of trees in random forest\n",
    "n_estimators = [int(x) for x in np.linspace(start = 200, stop = 2000, num = 10)]\n",
    "# number of features at every split\n",
    "max_features = ['auto', 'sqrt']\n",
    "\n",
    "# max depth\n",
    "max_depth = [int(x) for x in np.linspace(100, 500, num = 11)]\n",
    "max_depth.append(None)\n",
    "# create random grid\n",
    "random_grid = {\n",
    " 'n_estimators': n_estimators,\n",
    " 'max_features': max_features,\n",
    " 'max_depth': max_depth\n",
    " }\n",
    "# Random search of parameters\n",
    "rfc_random = RandomizedSearchCV(estimator = rfc, param_distributions = random_grid, n_iter = 100, cv = 3, verbose=2, random_state=42, n_jobs = -1)\n",
    "# Fit the model\n",
    "rfc_random.fit(X_train, Y_train.values.ravel())\n",
    "# print results\n",
    "print(rfc_random.best_params_)"
   ]
  },
  {
   "cell_type": "code",
   "execution_count": 48,
   "metadata": {
    "scrolled": true
   },
   "outputs": [
    {
     "name": "stdout",
     "output_type": "stream",
     "text": [
      "=== Confusion Matrix ===\n",
      "[[5 0]\n",
      " [3 5]]\n",
      "\n",
      "\n",
      "=== Classification Report ===\n",
      "              precision    recall  f1-score   support\n",
      "\n",
      "         0.0       0.62      1.00      0.77         5\n",
      "         1.0       1.00      0.62      0.77         8\n",
      "\n",
      "    accuracy                           0.77        13\n",
      "   macro avg       0.81      0.81      0.77        13\n",
      "weighted avg       0.86      0.77      0.77        13\n",
      "\n",
      "\n",
      "\n",
      "=== All AUC Scores ===\n",
      "[0.16666667 0.16666667 0.16666667 0.83333333 1.         1.\n",
      " 1.         0.5        0.5        0.75      ]\n",
      "\n",
      "\n",
      "=== Mean AUC Score ===\n",
      "Mean AUC Score - Random Forest:  0.6083333333333333\n"
     ]
    }
   ],
   "source": [
    "rfc = RandomForestClassifier(n_estimators=800, max_depth=380, max_features='auto', random_state=0)\n",
    "rfc.fit(X_train,Y_train.values.ravel())\n",
    "rfc_predict = rfc.predict(X_test)\n",
    "rfc_cv_score = cross_val_score(rfc, X, y.values.ravel(), cv=10, scoring='roc_auc')\n",
    "print(\"=== Confusion Matrix ===\")\n",
    "print(confusion_matrix(Y_test, rfc_predict))\n",
    "print('\\n')\n",
    "print(\"=== Classification Report ===\")\n",
    "print(classification_report(Y_test, rfc_predict))\n",
    "print('\\n')\n",
    "print(\"=== All AUC Scores ===\")\n",
    "print(rfc_cv_score)\n",
    "print('\\n')\n",
    "print(\"=== Mean AUC Score ===\")\n",
    "print(\"Mean AUC Score - Random Forest: \", rfc_cv_score.mean())"
   ]
  },
  {
   "cell_type": "markdown",
   "metadata": {},
   "source": [
    "**Results - Random Forest with hyper parameter tuning method gave the highest accuracy of 77%**"
   ]
  },
  {
   "cell_type": "markdown",
   "metadata": {},
   "source": [
    "### 4. Neural Networks"
   ]
  },
  {
   "cell_type": "markdown",
   "metadata": {},
   "source": [
    "Here, we tried Neural Networks method, which is superior at capturing complex relationships between varibles by searching through different models in its black box to find patterns. In its black box, there can be one or more linear or non-linear hidden layers. \n",
    "\n",
    "We need to normalise the data before running neural networks as it is sensitive to feature scaling. We also specify that it will train using 2 hidden layers as 1 or 2 should give a decent performance for most problems, and 20 as number of neurons as we have 20 features in our dataset. "
   ]
  },
  {
   "cell_type": "code",
   "execution_count": 49,
   "metadata": {},
   "outputs": [
    {
     "name": "stdout",
     "output_type": "stream",
     "text": [
      "MLPClassifier(activation='logistic', alpha=0.001, hidden_layer_sizes=(20, 20),\n",
      "              max_iter=100, random_state=0)\n"
     ]
    },
    {
     "name": "stderr",
     "output_type": "stream",
     "text": [
      "C:\\Users\\saggarwal\\anaconda3\\lib\\site-packages\\sklearn\\neural_network\\_multilayer_perceptron.py:614: ConvergenceWarning:\n",
      "\n",
      "Stochastic Optimizer: Maximum iterations (100) reached and the optimization hasn't converged yet.\n",
      "\n"
     ]
    }
   ],
   "source": [
    "scaler = StandardScaler()\n",
    "NN_Xtrain = scaler.fit_transform(X_train)\n",
    "NN_Xtest = scaler.transform(X_test)\n",
    "\n",
    "params = {'activation': ['identity', 'logistic', 'tanh', 'relu'],\n",
    "          'alpha': [0.001, 0.01, 0.1, 1, 10, 100]}\n",
    "model = MLPClassifier(hidden_layer_sizes = (20, 20), max_iter = 100, solver='adam', random_state=0) \n",
    "#2 hidden layers and 'adam' optimizer works well for large dataset\n",
    "mlp = GridSearchCV(model, param_grid = params, n_jobs=-1, cv=5, scoring='roc_auc', refit=True)\n",
    "mlp.fit(NN_Xtrain, Y_train.values.ravel())\n",
    "print(mlp.best_estimator_) "
   ]
  },
  {
   "cell_type": "code",
   "execution_count": 50,
   "metadata": {
    "scrolled": true
   },
   "outputs": [
    {
     "name": "stdout",
     "output_type": "stream",
     "text": [
      "              precision    recall  f1-score   support\n",
      "\n",
      "         0.0       0.00      0.00      0.00         5\n",
      "         1.0       0.58      0.88      0.70         8\n",
      "\n",
      "    accuracy                           0.54        13\n",
      "   macro avg       0.29      0.44      0.35        13\n",
      "weighted avg       0.36      0.54      0.43        13\n",
      "\n",
      "(0, 5, 1, 7) \n",
      "\n"
     ]
    }
   ],
   "source": [
    "y_preds = mlp.predict(NN_Xtest)\n",
    "print(classification_report(Y_test, y_preds))\n",
    "tn, fp, fn, tp = confusion_matrix(Y_test, y_preds).ravel()\n",
    "print((tn, fp, fn, tp), '\\n')"
   ]
  },
  {
   "cell_type": "markdown",
   "metadata": {},
   "source": [
    "### 2. Models with twitter and Crypto data"
   ]
  },
  {
   "cell_type": "code",
   "execution_count": 9,
   "metadata": {},
   "outputs": [
    {
     "data": {
      "text/plain": [
       "Index(['Date', 'avg_neg_scr', 'avg_neu_scr', 'avg_pos_scr', 'avg_cmp_scr',\n",
       "       'avg_retweet_cnt', 'avg_like_cnt', 'tweet_vol', 'uniq_tweet_vol',\n",
       "       'avg_tweet_len', 'avg_followers_cnt', 'negative', 'neutral', 'positive',\n",
       "       'Bullish_Ratio', 'Negative_share', 'Open_prices', 'High_prices',\n",
       "       'Low_prices', 'Close_prices', 'Volume_BTC', 'polarity', 'pct_change',\n",
       "       'direction', 'Close'],\n",
       "      dtype='object')"
      ]
     },
     "execution_count": 9,
     "metadata": {},
     "output_type": "execute_result"
    }
   ],
   "source": [
    "summarised_all.columns"
   ]
  },
  {
   "cell_type": "code",
   "execution_count": 10,
   "metadata": {},
   "outputs": [
    {
     "data": {
      "text/html": [
       "<div>\n",
       "<style scoped>\n",
       "    .dataframe tbody tr th:only-of-type {\n",
       "        vertical-align: middle;\n",
       "    }\n",
       "\n",
       "    .dataframe tbody tr th {\n",
       "        vertical-align: top;\n",
       "    }\n",
       "\n",
       "    .dataframe thead th {\n",
       "        text-align: right;\n",
       "    }\n",
       "</style>\n",
       "<table border=\"1\" class=\"dataframe\">\n",
       "  <thead>\n",
       "    <tr style=\"text-align: right;\">\n",
       "      <th></th>\n",
       "      <th>polarity_L1</th>\n",
       "      <th>Volume_BTC_L2</th>\n",
       "      <th>avg_pos_scr_L1</th>\n",
       "      <th>avg_like_cnt_L2</th>\n",
       "      <th>positive_L0</th>\n",
       "      <th>polarity_L2</th>\n",
       "      <th>avg_retweet_cnt_L0</th>\n",
       "      <th>positive_L1</th>\n",
       "      <th>Close_prices_L0</th>\n",
       "      <th>Volume_BTC_L1</th>\n",
       "      <th>...</th>\n",
       "      <th>tweet_vol_L0</th>\n",
       "      <th>uniq_tweet_vol_L2</th>\n",
       "      <th>positive_L2</th>\n",
       "      <th>negative_L1</th>\n",
       "      <th>avg_like_cnt_L0</th>\n",
       "      <th>avg_neu_scr_L2</th>\n",
       "      <th>Negative_share_L0</th>\n",
       "      <th>Close_L2</th>\n",
       "      <th>avg_neu_scr_L1</th>\n",
       "      <th>direction_L0</th>\n",
       "    </tr>\n",
       "    <tr>\n",
       "      <th>Date</th>\n",
       "      <th></th>\n",
       "      <th></th>\n",
       "      <th></th>\n",
       "      <th></th>\n",
       "      <th></th>\n",
       "      <th></th>\n",
       "      <th></th>\n",
       "      <th></th>\n",
       "      <th></th>\n",
       "      <th></th>\n",
       "      <th></th>\n",
       "      <th></th>\n",
       "      <th></th>\n",
       "      <th></th>\n",
       "      <th></th>\n",
       "      <th></th>\n",
       "      <th></th>\n",
       "      <th></th>\n",
       "      <th></th>\n",
       "      <th></th>\n",
       "      <th></th>\n",
       "    </tr>\n",
       "  </thead>\n",
       "  <tbody>\n",
       "    <tr>\n",
       "      <th>2021-07-01</th>\n",
       "      <td>NaN</td>\n",
       "      <td>NaN</td>\n",
       "      <td>NaN</td>\n",
       "      <td>NaN</td>\n",
       "      <td>52226</td>\n",
       "      <td>NaN</td>\n",
       "      <td>2096.803213</td>\n",
       "      <td>NaN</td>\n",
       "      <td>33248.825</td>\n",
       "      <td>NaN</td>\n",
       "      <td>...</td>\n",
       "      <td>121675</td>\n",
       "      <td>NaN</td>\n",
       "      <td>NaN</td>\n",
       "      <td>NaN</td>\n",
       "      <td>1.747746</td>\n",
       "      <td>NaN</td>\n",
       "      <td>0.075546</td>\n",
       "      <td>NaN</td>\n",
       "      <td>NaN</td>\n",
       "      <td>NaN</td>\n",
       "    </tr>\n",
       "    <tr>\n",
       "      <th>2021-07-02</th>\n",
       "      <td>0.046195</td>\n",
       "      <td>NaN</td>\n",
       "      <td>0.101582</td>\n",
       "      <td>NaN</td>\n",
       "      <td>46556</td>\n",
       "      <td>NaN</td>\n",
       "      <td>2542.598358</td>\n",
       "      <td>52226.0</td>\n",
       "      <td>33676.020</td>\n",
       "      <td>1.784648e+08</td>\n",
       "      <td>...</td>\n",
       "      <td>109249</td>\n",
       "      <td>NaN</td>\n",
       "      <td>NaN</td>\n",
       "      <td>9192.0</td>\n",
       "      <td>1.644665</td>\n",
       "      <td>NaN</td>\n",
       "      <td>0.067506</td>\n",
       "      <td>NaN</td>\n",
       "      <td>0.877197</td>\n",
       "      <td>1.0</td>\n",
       "    </tr>\n",
       "    <tr>\n",
       "      <th>2021-07-03</th>\n",
       "      <td>0.039852</td>\n",
       "      <td>1.784648e+08</td>\n",
       "      <td>0.093512</td>\n",
       "      <td>1.747746</td>\n",
       "      <td>55244</td>\n",
       "      <td>0.046195</td>\n",
       "      <td>5788.559491</td>\n",
       "      <td>46556.0</td>\n",
       "      <td>34679.150</td>\n",
       "      <td>1.148738e+08</td>\n",
       "      <td>...</td>\n",
       "      <td>126263</td>\n",
       "      <td>54104.0</td>\n",
       "      <td>52226.0</td>\n",
       "      <td>7375.0</td>\n",
       "      <td>1.976620</td>\n",
       "      <td>0.877197</td>\n",
       "      <td>0.066385</td>\n",
       "      <td>63.50</td>\n",
       "      <td>0.889221</td>\n",
       "      <td>1.0</td>\n",
       "    </tr>\n",
       "    <tr>\n",
       "      <th>2021-07-04</th>\n",
       "      <td>0.038510</td>\n",
       "      <td>1.148738e+08</td>\n",
       "      <td>0.098290</td>\n",
       "      <td>1.644665</td>\n",
       "      <td>55071</td>\n",
       "      <td>0.039852</td>\n",
       "      <td>3349.956329</td>\n",
       "      <td>55244.0</td>\n",
       "      <td>34825.025</td>\n",
       "      <td>6.563334e+07</td>\n",
       "      <td>...</td>\n",
       "      <td>108334</td>\n",
       "      <td>45549.0</td>\n",
       "      <td>46556.0</td>\n",
       "      <td>8382.0</td>\n",
       "      <td>1.801355</td>\n",
       "      <td>0.889221</td>\n",
       "      <td>0.060230</td>\n",
       "      <td>63.51</td>\n",
       "      <td>0.886210</td>\n",
       "      <td>1.0</td>\n",
       "    </tr>\n",
       "    <tr>\n",
       "      <th>2021-07-05</th>\n",
       "      <td>0.040139</td>\n",
       "      <td>6.563334e+07</td>\n",
       "      <td>0.112238</td>\n",
       "      <td>1.976620</td>\n",
       "      <td>60639</td>\n",
       "      <td>0.038510</td>\n",
       "      <td>2227.247343</td>\n",
       "      <td>55071.0</td>\n",
       "      <td>33823.215</td>\n",
       "      <td>7.937801e+07</td>\n",
       "      <td>...</td>\n",
       "      <td>120897</td>\n",
       "      <td>44563.0</td>\n",
       "      <td>55244.0</td>\n",
       "      <td>6525.0</td>\n",
       "      <td>1.701465</td>\n",
       "      <td>0.886210</td>\n",
       "      <td>0.070754</td>\n",
       "      <td>63.51</td>\n",
       "      <td>0.873028</td>\n",
       "      <td>0.0</td>\n",
       "    </tr>\n",
       "  </tbody>\n",
       "</table>\n",
       "<p>5 rows × 25 columns</p>\n",
       "</div>"
      ],
      "text/plain": [
       "            polarity_L1  Volume_BTC_L2  avg_pos_scr_L1  avg_like_cnt_L2  \\\n",
       "Date                                                                      \n",
       "2021-07-01          NaN            NaN             NaN              NaN   \n",
       "2021-07-02     0.046195            NaN        0.101582              NaN   \n",
       "2021-07-03     0.039852   1.784648e+08        0.093512         1.747746   \n",
       "2021-07-04     0.038510   1.148738e+08        0.098290         1.644665   \n",
       "2021-07-05     0.040139   6.563334e+07        0.112238         1.976620   \n",
       "\n",
       "            positive_L0  polarity_L2  avg_retweet_cnt_L0  positive_L1  \\\n",
       "Date                                                                    \n",
       "2021-07-01        52226          NaN         2096.803213          NaN   \n",
       "2021-07-02        46556          NaN         2542.598358      52226.0   \n",
       "2021-07-03        55244     0.046195         5788.559491      46556.0   \n",
       "2021-07-04        55071     0.039852         3349.956329      55244.0   \n",
       "2021-07-05        60639     0.038510         2227.247343      55071.0   \n",
       "\n",
       "            Close_prices_L0  Volume_BTC_L1  ...  tweet_vol_L0  \\\n",
       "Date                                        ...                 \n",
       "2021-07-01        33248.825            NaN  ...        121675   \n",
       "2021-07-02        33676.020   1.784648e+08  ...        109249   \n",
       "2021-07-03        34679.150   1.148738e+08  ...        126263   \n",
       "2021-07-04        34825.025   6.563334e+07  ...        108334   \n",
       "2021-07-05        33823.215   7.937801e+07  ...        120897   \n",
       "\n",
       "            uniq_tweet_vol_L2  positive_L2  negative_L1  avg_like_cnt_L0  \\\n",
       "Date                                                                       \n",
       "2021-07-01                NaN          NaN          NaN         1.747746   \n",
       "2021-07-02                NaN          NaN       9192.0         1.644665   \n",
       "2021-07-03            54104.0      52226.0       7375.0         1.976620   \n",
       "2021-07-04            45549.0      46556.0       8382.0         1.801355   \n",
       "2021-07-05            44563.0      55244.0       6525.0         1.701465   \n",
       "\n",
       "            avg_neu_scr_L2  Negative_share_L0  Close_L2  avg_neu_scr_L1  \\\n",
       "Date                                                                      \n",
       "2021-07-01             NaN           0.075546       NaN             NaN   \n",
       "2021-07-02             NaN           0.067506       NaN        0.877197   \n",
       "2021-07-03        0.877197           0.066385     63.50        0.889221   \n",
       "2021-07-04        0.889221           0.060230     63.51        0.886210   \n",
       "2021-07-05        0.886210           0.070754     63.51        0.873028   \n",
       "\n",
       "            direction_L0  \n",
       "Date                      \n",
       "2021-07-01           NaN  \n",
       "2021-07-02           1.0  \n",
       "2021-07-03           1.0  \n",
       "2021-07-04           1.0  \n",
       "2021-07-05           0.0  \n",
       "\n",
       "[5 rows x 25 columns]"
      ]
     },
     "execution_count": 10,
     "metadata": {},
     "output_type": "execute_result"
    }
   ],
   "source": [
    "model_data = summarised_all[summarised_all['Date']>='2021-07-01'].set_index('Date')\n",
    "\n",
    "df_shift_1 = model_data.shift(1).add_suffix('_L1')\n",
    "df_shift_2 = model_data.shift(2).add_suffix('_L2')\n",
    "model_data2 = model_data.add_suffix('_L0').merge(df_shift_1,on='Date', how='left')\n",
    "model_data2 = model_data2.merge(df_shift_2,on='Date', how='left')\n",
    "\n",
    "model_data = model_data2[['polarity_L1',\n",
    " 'Volume_BTC_L2',\n",
    " 'avg_pos_scr_L1',\n",
    " 'avg_like_cnt_L2',\n",
    " 'positive_L0',\n",
    " 'polarity_L2',\n",
    " 'avg_retweet_cnt_L0',\n",
    " 'positive_L1',\n",
    " 'Close_prices_L0',\n",
    " 'Volume_BTC_L1',\n",
    " 'negative_L2',\n",
    " 'avg_followers_cnt_L2',\n",
    " 'avg_neg_scr_L2',\n",
    " 'avg_cmp_scr_L1',\n",
    " 'Volume_BTC_L0',\n",
    " 'tweet_vol_L0',\n",
    " 'uniq_tweet_vol_L2',\n",
    " 'positive_L2',\n",
    " 'negative_L1',\n",
    " 'avg_like_cnt_L0',\n",
    " 'avg_neu_scr_L2',\n",
    " 'Negative_share_L0',\n",
    " 'Close_L2',\n",
    " 'avg_neu_scr_L1',\n",
    "'direction_L0']]\n",
    "\n",
    "model_data.head()\n",
    " "
   ]
  },
  {
   "cell_type": "code",
   "execution_count": 11,
   "metadata": {},
   "outputs": [
    {
     "data": {
      "text/html": [
       "<div>\n",
       "<style scoped>\n",
       "    .dataframe tbody tr th:only-of-type {\n",
       "        vertical-align: middle;\n",
       "    }\n",
       "\n",
       "    .dataframe tbody tr th {\n",
       "        vertical-align: top;\n",
       "    }\n",
       "\n",
       "    .dataframe thead th {\n",
       "        text-align: right;\n",
       "    }\n",
       "</style>\n",
       "<table border=\"1\" class=\"dataframe\">\n",
       "  <thead>\n",
       "    <tr style=\"text-align: right;\">\n",
       "      <th></th>\n",
       "      <th>polarity_L1</th>\n",
       "      <th>Volume_BTC_L2</th>\n",
       "      <th>avg_pos_scr_L1</th>\n",
       "      <th>avg_like_cnt_L2</th>\n",
       "      <th>positive_L0</th>\n",
       "      <th>polarity_L2</th>\n",
       "      <th>avg_retweet_cnt_L0</th>\n",
       "      <th>positive_L1</th>\n",
       "      <th>Close_prices_L0</th>\n",
       "      <th>Volume_BTC_L1</th>\n",
       "      <th>...</th>\n",
       "      <th>tweet_vol_L0</th>\n",
       "      <th>uniq_tweet_vol_L2</th>\n",
       "      <th>positive_L2</th>\n",
       "      <th>negative_L1</th>\n",
       "      <th>avg_like_cnt_L0</th>\n",
       "      <th>avg_neu_scr_L2</th>\n",
       "      <th>Negative_share_L0</th>\n",
       "      <th>Close_L2</th>\n",
       "      <th>avg_neu_scr_L1</th>\n",
       "      <th>direction_L0</th>\n",
       "    </tr>\n",
       "    <tr>\n",
       "      <th>Date</th>\n",
       "      <th></th>\n",
       "      <th></th>\n",
       "      <th></th>\n",
       "      <th></th>\n",
       "      <th></th>\n",
       "      <th></th>\n",
       "      <th></th>\n",
       "      <th></th>\n",
       "      <th></th>\n",
       "      <th></th>\n",
       "      <th></th>\n",
       "      <th></th>\n",
       "      <th></th>\n",
       "      <th></th>\n",
       "      <th></th>\n",
       "      <th></th>\n",
       "      <th></th>\n",
       "      <th></th>\n",
       "      <th></th>\n",
       "      <th></th>\n",
       "      <th></th>\n",
       "    </tr>\n",
       "  </thead>\n",
       "  <tbody>\n",
       "    <tr>\n",
       "      <th>2021-07-03</th>\n",
       "      <td>0.039852</td>\n",
       "      <td>1.784648e+08</td>\n",
       "      <td>0.093512</td>\n",
       "      <td>1.747746</td>\n",
       "      <td>55244</td>\n",
       "      <td>0.046195</td>\n",
       "      <td>5788.559491</td>\n",
       "      <td>46556.0</td>\n",
       "      <td>34679.150</td>\n",
       "      <td>1.148738e+08</td>\n",
       "      <td>...</td>\n",
       "      <td>126263</td>\n",
       "      <td>54104.0</td>\n",
       "      <td>52226.0</td>\n",
       "      <td>7375.0</td>\n",
       "      <td>1.976620</td>\n",
       "      <td>0.877197</td>\n",
       "      <td>0.066385</td>\n",
       "      <td>63.50</td>\n",
       "      <td>0.889221</td>\n",
       "      <td>1.0</td>\n",
       "    </tr>\n",
       "    <tr>\n",
       "      <th>2021-07-04</th>\n",
       "      <td>0.038510</td>\n",
       "      <td>1.148738e+08</td>\n",
       "      <td>0.098290</td>\n",
       "      <td>1.644665</td>\n",
       "      <td>55071</td>\n",
       "      <td>0.039852</td>\n",
       "      <td>3349.956329</td>\n",
       "      <td>55244.0</td>\n",
       "      <td>34825.025</td>\n",
       "      <td>6.563334e+07</td>\n",
       "      <td>...</td>\n",
       "      <td>108334</td>\n",
       "      <td>45549.0</td>\n",
       "      <td>46556.0</td>\n",
       "      <td>8382.0</td>\n",
       "      <td>1.801355</td>\n",
       "      <td>0.889221</td>\n",
       "      <td>0.060230</td>\n",
       "      <td>63.51</td>\n",
       "      <td>0.886210</td>\n",
       "      <td>1.0</td>\n",
       "    </tr>\n",
       "    <tr>\n",
       "      <th>2021-07-05</th>\n",
       "      <td>0.040139</td>\n",
       "      <td>6.563334e+07</td>\n",
       "      <td>0.112238</td>\n",
       "      <td>1.976620</td>\n",
       "      <td>60639</td>\n",
       "      <td>0.038510</td>\n",
       "      <td>2227.247343</td>\n",
       "      <td>55071.0</td>\n",
       "      <td>33823.215</td>\n",
       "      <td>7.937801e+07</td>\n",
       "      <td>...</td>\n",
       "      <td>120897</td>\n",
       "      <td>44563.0</td>\n",
       "      <td>55244.0</td>\n",
       "      <td>6525.0</td>\n",
       "      <td>1.701465</td>\n",
       "      <td>0.886210</td>\n",
       "      <td>0.070754</td>\n",
       "      <td>63.51</td>\n",
       "      <td>0.873028</td>\n",
       "      <td>0.0</td>\n",
       "    </tr>\n",
       "    <tr>\n",
       "      <th>2021-07-06</th>\n",
       "      <td>0.042958</td>\n",
       "      <td>7.937801e+07</td>\n",
       "      <td>0.112665</td>\n",
       "      <td>1.801355</td>\n",
       "      <td>66354</td>\n",
       "      <td>0.040139</td>\n",
       "      <td>2098.188073</td>\n",
       "      <td>60639.0</td>\n",
       "      <td>34354.720</td>\n",
       "      <td>1.209090e+08</td>\n",
       "      <td>...</td>\n",
       "      <td>123314</td>\n",
       "      <td>40391.0</td>\n",
       "      <td>55071.0</td>\n",
       "      <td>8554.0</td>\n",
       "      <td>1.974374</td>\n",
       "      <td>0.873028</td>\n",
       "      <td>0.088384</td>\n",
       "      <td>63.51</td>\n",
       "      <td>0.870216</td>\n",
       "      <td>1.0</td>\n",
       "    </tr>\n",
       "    <tr>\n",
       "      <th>2021-07-07</th>\n",
       "      <td>0.045953</td>\n",
       "      <td>1.209090e+08</td>\n",
       "      <td>0.115642</td>\n",
       "      <td>1.701465</td>\n",
       "      <td>46998</td>\n",
       "      <td>0.042958</td>\n",
       "      <td>2605.157232</td>\n",
       "      <td>66354.0</td>\n",
       "      <td>33609.735</td>\n",
       "      <td>1.520159e+08</td>\n",
       "      <td>...</td>\n",
       "      <td>110175</td>\n",
       "      <td>50291.0</td>\n",
       "      <td>60639.0</td>\n",
       "      <td>10899.0</td>\n",
       "      <td>1.723612</td>\n",
       "      <td>0.870216</td>\n",
       "      <td>0.061339</td>\n",
       "      <td>63.51</td>\n",
       "      <td>0.865466</td>\n",
       "      <td>0.0</td>\n",
       "    </tr>\n",
       "  </tbody>\n",
       "</table>\n",
       "<p>5 rows × 25 columns</p>\n",
       "</div>"
      ],
      "text/plain": [
       "            polarity_L1  Volume_BTC_L2  avg_pos_scr_L1  avg_like_cnt_L2  \\\n",
       "Date                                                                      \n",
       "2021-07-03     0.039852   1.784648e+08        0.093512         1.747746   \n",
       "2021-07-04     0.038510   1.148738e+08        0.098290         1.644665   \n",
       "2021-07-05     0.040139   6.563334e+07        0.112238         1.976620   \n",
       "2021-07-06     0.042958   7.937801e+07        0.112665         1.801355   \n",
       "2021-07-07     0.045953   1.209090e+08        0.115642         1.701465   \n",
       "\n",
       "            positive_L0  polarity_L2  avg_retweet_cnt_L0  positive_L1  \\\n",
       "Date                                                                    \n",
       "2021-07-03        55244     0.046195         5788.559491      46556.0   \n",
       "2021-07-04        55071     0.039852         3349.956329      55244.0   \n",
       "2021-07-05        60639     0.038510         2227.247343      55071.0   \n",
       "2021-07-06        66354     0.040139         2098.188073      60639.0   \n",
       "2021-07-07        46998     0.042958         2605.157232      66354.0   \n",
       "\n",
       "            Close_prices_L0  Volume_BTC_L1  ...  tweet_vol_L0  \\\n",
       "Date                                        ...                 \n",
       "2021-07-03        34679.150   1.148738e+08  ...        126263   \n",
       "2021-07-04        34825.025   6.563334e+07  ...        108334   \n",
       "2021-07-05        33823.215   7.937801e+07  ...        120897   \n",
       "2021-07-06        34354.720   1.209090e+08  ...        123314   \n",
       "2021-07-07        33609.735   1.520159e+08  ...        110175   \n",
       "\n",
       "            uniq_tweet_vol_L2  positive_L2  negative_L1  avg_like_cnt_L0  \\\n",
       "Date                                                                       \n",
       "2021-07-03            54104.0      52226.0       7375.0         1.976620   \n",
       "2021-07-04            45549.0      46556.0       8382.0         1.801355   \n",
       "2021-07-05            44563.0      55244.0       6525.0         1.701465   \n",
       "2021-07-06            40391.0      55071.0       8554.0         1.974374   \n",
       "2021-07-07            50291.0      60639.0      10899.0         1.723612   \n",
       "\n",
       "            avg_neu_scr_L2  Negative_share_L0  Close_L2  avg_neu_scr_L1  \\\n",
       "Date                                                                      \n",
       "2021-07-03        0.877197           0.066385     63.50        0.889221   \n",
       "2021-07-04        0.889221           0.060230     63.51        0.886210   \n",
       "2021-07-05        0.886210           0.070754     63.51        0.873028   \n",
       "2021-07-06        0.873028           0.088384     63.51        0.870216   \n",
       "2021-07-07        0.870216           0.061339     63.51        0.865466   \n",
       "\n",
       "            direction_L0  \n",
       "Date                      \n",
       "2021-07-03           1.0  \n",
       "2021-07-04           1.0  \n",
       "2021-07-05           0.0  \n",
       "2021-07-06           1.0  \n",
       "2021-07-07           0.0  \n",
       "\n",
       "[5 rows x 25 columns]"
      ]
     },
     "execution_count": 11,
     "metadata": {},
     "output_type": "execute_result"
    }
   ],
   "source": [
    "model_data = model_data.dropna()\n",
    "model_data.head()"
   ]
  },
  {
   "cell_type": "markdown",
   "metadata": {},
   "source": [
    "### Test and train split\n",
    "\n",
    "Input data is split into taining and test in 70:30 ratio."
   ]
  },
  {
   "cell_type": "code",
   "execution_count": 12,
   "metadata": {},
   "outputs": [],
   "source": [
    "## Splitting 70/30\n",
    "index = round(len(model_data['direction_L0'])*.70)\n",
    "\n",
    "train =  model_data.iloc[:index]\n",
    "test =  model_data.iloc[index:]\n",
    "\n",
    "X=model_data.drop(columns=['direction_L0'])\n",
    "y=model_data[['direction_L0']]\n"
   ]
  },
  {
   "cell_type": "code",
   "execution_count": 13,
   "metadata": {},
   "outputs": [],
   "source": [
    "X_train = train.drop(columns=['direction_L0'])\n",
    "X_test = test.drop(columns=['direction_L0'])\n",
    "Y_train = train[['direction_L0']]\n",
    "Y_test = test[['direction_L0']]"
   ]
  },
  {
   "cell_type": "code",
   "execution_count": 14,
   "metadata": {},
   "outputs": [
    {
     "name": "stdout",
     "output_type": "stream",
     "text": [
      "train:(31, 25)\n",
      "test:(13, 25)\n",
      "X:(44, 24)\n",
      "y:(44, 1)\n",
      "X_train:(31, 24)\n",
      "X_test:(13, 24)\n",
      "Y_train:(31, 1)\n",
      "Y_test:(13, 1)\n"
     ]
    }
   ],
   "source": [
    "print('train:'+ str(train.shape))\n",
    "print('test:'+ str(test.shape))\n",
    "print('X:'+ str(X.shape))\n",
    "print('y:'+ str(y.shape))\n",
    "print('X_train:'+ str(X_train.shape))\n",
    "print('X_test:'+ str(X_test.shape))\n",
    "print('Y_train:'+ str(Y_train.shape))\n",
    "print('Y_test:'+ str(Y_test.shape))"
   ]
  },
  {
   "cell_type": "code",
   "execution_count": 15,
   "metadata": {},
   "outputs": [
    {
     "data": {
      "text/plain": [
       "<AxesSubplot:xlabel='direction_L0', ylabel='count'>"
      ]
     },
     "execution_count": 15,
     "metadata": {},
     "output_type": "execute_result"
    },
    {
     "data": {
      "image/png": "[encoded data removed]",
      "text/plain": [
       "<Figure size 432x288 with 1 Axes>"
      ]
     },
     "metadata": {
      "needs_background": "light"
     },
     "output_type": "display_data"
    }
   ],
   "source": [
    "sns.countplot(x = \"direction_L0\", data=train)"
   ]
  },
  {
   "cell_type": "markdown",
   "metadata": {},
   "source": [
    "### 1. Logistic Regression\n",
    "\n",
    "Logistic Regression is a discriminative classifier that uses a linear regression model to represent the probability through a logistic function in matrix notation: \n",
    "\\begin{equation}\n",
    "p(X) = \\frac{exp(w^Tx)}{1+exp(w^Tx)}\n",
    "\\end{equation}\n",
    "where $w^T$ represents the matrix for coefficients for each feature and x represents the observations. \n",
    "\n",
    "Logistic regression is popular machine learning method for binary classification. While simple, it gives good accuracy and has low training time. Additionally, it outputs a probability of the event being classified as class 0 or 1, which can then be adjusted using different threshold values depending on our classification purpose. For example, if the cost of misclassifying class 1 is too high, we would want to have a higher recall rate for class 1, thus we can do so by increasing the threshold value for the model to classify obsevation as class 1.  "
   ]
  },
  {
   "cell_type": "code",
   "execution_count": 16,
   "metadata": {
    "scrolled": true
   },
   "outputs": [
    {
     "name": "stderr",
     "output_type": "stream",
     "text": [
      "C:\\Users\\saggarwal\\anaconda3\\lib\\site-packages\\sklearn\\model_selection\\_search.py:922: UserWarning:\n",
      "\n",
      "One or more of the test scores are non-finite: [0.53611111 0.53611111        nan 0.53611111 0.53611111 0.53611111\n",
      "        nan 0.53611111 0.53611111 0.53611111        nan 0.53611111\n",
      " 0.53611111 0.53611111        nan 0.53611111 0.53611111 0.53611111\n",
      "        nan 0.53611111 0.53611111 0.53611111        nan 0.53611111\n",
      " 0.53611111 0.53611111        nan 0.53611111 0.53611111 0.53611111\n",
      "        nan 0.53611111 0.53611111 0.53611111        nan 0.53611111\n",
      " 0.53611111 0.53611111        nan 0.53611111]\n",
      "\n",
      "C:\\Users\\saggarwal\\anaconda3\\lib\\site-packages\\sklearn\\linear_model\\_sag.py:328: ConvergenceWarning:\n",
      "\n",
      "The max_iter was reached which means the coef_ did not converge\n",
      "\n"
     ]
    },
    {
     "data": {
      "text/plain": [
       "LogisticRegression(C=1e-05, random_state=0, solver='saga')"
      ]
     },
     "execution_count": 16,
     "metadata": {},
     "output_type": "execute_result"
    }
   ],
   "source": [
    "#Fit Logistic Regression on new dataset\n",
    "params = {\"C\": [0.00001,0.0001,0.001,0.01,0.1, 1, 10, 100, 500, 1000],\n",
    "    \"penalty\": [\"l2\", \"l1\", \"elasticnet\", \"none\"]}\n",
    "model = LogisticRegression(solver ='saga', random_state=0) #saga supports all penalty and faster for large dataset\n",
    "logreg = GridSearchCV(model, param_grid=params, n_jobs=-1, cv=5, scoring='roc_auc', refit=True)\n",
    "logreg.fit(X_train, Y_train.values.ravel())\n",
    "logreg.best_estimator_"
   ]
  },
  {
   "cell_type": "code",
   "execution_count": 17,
   "metadata": {},
   "outputs": [],
   "source": [
    "#make predictions using LR model\n",
    "y_pred = logreg.predict(X_test)"
   ]
  },
  {
   "cell_type": "code",
   "execution_count": 18,
   "metadata": {},
   "outputs": [
    {
     "data": {
      "image/png": "[encoded data removed]",
      "text/plain": [
       "<Figure size 432x288 with 1 Axes>"
      ]
     },
     "metadata": {
      "needs_background": "light"
     },
     "output_type": "display_data"
    }
   ],
   "source": [
    "#Create ROC curve\n",
    "logit_roc_auc = roc_auc_score(Y_test, logreg.predict(X_test))\n",
    "fpr, tpr, thresholds = roc_curve(Y_test, logreg.predict_proba(X_test)[:,1])\n",
    "plt.figure()\n",
    "plt.plot(fpr, tpr, label='Logistic Regression (area = %0.2f)' % logit_roc_auc)\n",
    "plt.plot([0, 1], [0, 1],'r--')\n",
    "plt.xlim([0.0, 1.0])\n",
    "plt.ylim([0.0, 1.05])\n",
    "plt.xlabel('False Positive Rate')\n",
    "plt.ylabel('True Positive Rate')\n",
    "plt.title('Receiver operating characteristic')\n",
    "plt.legend(loc=\"lower right\")\n",
    "plt.show()"
   ]
  },
  {
   "cell_type": "code",
   "execution_count": 19,
   "metadata": {},
   "outputs": [
    {
     "name": "stdout",
     "output_type": "stream",
     "text": [
      "Threshold value is: 0.732019269355021\n"
     ]
    }
   ],
   "source": [
    "optimal_idx = np.argmax(tpr - fpr)\n",
    "optimal_threshold = thresholds[optimal_idx]\n",
    "print(\"Threshold value is:\", optimal_threshold)"
   ]
  },
  {
   "cell_type": "code",
   "execution_count": 20,
   "metadata": {},
   "outputs": [
    {
     "data": {
      "text/plain": [
       "(5, 0, 5, 3)"
      ]
     },
     "execution_count": 20,
     "metadata": {},
     "output_type": "execute_result"
    }
   ],
   "source": [
    "#results based on optimal threshold\n",
    "THRESHOLD = optimal_threshold\n",
    "preds = np.where(logreg.predict_proba(X_test)[:,1] > THRESHOLD, 1, 0)\n",
    "\n",
    "tn, fp, fn, tp = confusion_matrix(Y_test, preds).ravel()\n",
    "(tn, fp, fn, tp)"
   ]
  },
  {
   "cell_type": "code",
   "execution_count": 21,
   "metadata": {
    "scrolled": true
   },
   "outputs": [
    {
     "name": "stdout",
     "output_type": "stream",
     "text": [
      "              precision    recall  f1-score   support\n",
      "\n",
      "         0.0       0.50      1.00      0.67         5\n",
      "         1.0       1.00      0.38      0.55         8\n",
      "\n",
      "    accuracy                           0.62        13\n",
      "   macro avg       0.75      0.69      0.61        13\n",
      "weighted avg       0.81      0.62      0.59        13\n",
      "\n"
     ]
    }
   ],
   "source": [
    "print(classification_report(Y_test, preds))"
   ]
  },
  {
   "cell_type": "markdown",
   "metadata": {},
   "source": [
    "**Result - Logistic Regression Classifier performs better with crypto and dow rpices with an accuracy of 62%**"
   ]
  },
  {
   "cell_type": "markdown",
   "metadata": {},
   "source": [
    "### 2. XGBoost: an example of Boosting algorithm"
   ]
  },
  {
   "cell_type": "markdown",
   "metadata": {},
   "source": [
    "Next, we tried a gradiant boosting machine learning method called XGBoost (extreme Gradient Boosting), which is an implementation of gradiant boosted decision trees. Boosting is an ensemble method, where models are added consecutively to improve accuracy of the previous ones, and gradient boosting uses gradient descent algorithm to minimise the loss when adding new models. \n",
    "\n",
    "XGBoost is popular as it provides results with high accuracy in both classification and regression problems. Before implementing XGBoost, we will tune 4 of its parameters:\n",
    "1. *n_estimators*: number of estimators when boosting is terminated. \n",
    "2. *max_depth*: maximum depth of a tree. Higher value can make the tree overfit\n",
    "3. *gamma*: minimum loss reduction required to make partition on a leaf node of the tree. the higher value of gamma, the more conservative the algorithm will be\n",
    "4. *scale_pos_weight*: parameter that control the balance for positive and negative weights. Since our data is slightly imbalance, we will tune a few values to see if it makes a big difference to our results\n",
    "\n",
    "To tune these parameters, we will use *GridSearchCV()* which performs exhaustive search over specified parameter values for a model. It works by cross-validating grid-search over parameter grid."
   ]
  },
  {
   "cell_type": "code",
   "execution_count": 22,
   "metadata": {},
   "outputs": [
    {
     "data": {
      "text/plain": [
       "{'n_estimators': 97}"
      ]
     },
     "execution_count": 22,
     "metadata": {},
     "output_type": "execute_result"
    }
   ],
   "source": [
    "#tuning number of estimators\n",
    "param_test = {'n_estimators': range(1,100,4)}\n",
    "gsearch1 = GridSearchCV(estimator = XGBClassifier(objective='binary:logistic', learning_rate=0.2, use_label_encoder =False, eval_metric = 'auc'), \n",
    "                   param_grid = param_test, scoring='roc_auc', n_jobs=-1, cv=5)\n",
    "gsearch1.fit(X_train, Y_train)\n",
    "gsearch1.best_params_"
   ]
  },
  {
   "cell_type": "code",
   "execution_count": 23,
   "metadata": {},
   "outputs": [
    {
     "data": {
      "text/plain": [
       "{'max_depth': 3}"
      ]
     },
     "execution_count": 23,
     "metadata": {},
     "output_type": "execute_result"
    }
   ],
   "source": [
    "#tuning maximum tree depth\n",
    "param_test2 = {'max_depth':range(1,10,2)}\n",
    "gsearch2 = GridSearchCV(estimator = XGBClassifier(objective='binary:logistic', n_estimators = gsearch1.best_params_['n_estimators'], learning_rate = 0.2, use_label_encoder =False, eval_metric = 'auc'), \n",
    "                        param_grid = param_test2, scoring='roc_auc', n_jobs=-1, cv=5)\n",
    "\n",
    "gsearch2.fit(X_train, Y_train)\n",
    "gsearch2.best_params_"
   ]
  },
  {
   "cell_type": "code",
   "execution_count": 24,
   "metadata": {},
   "outputs": [
    {
     "data": {
      "text/plain": [
       "{'gamma': 0.0}"
      ]
     },
     "execution_count": 24,
     "metadata": {},
     "output_type": "execute_result"
    }
   ],
   "source": [
    "#tuning gamma parameter\n",
    "param_test3 = {'gamma': [i/10.0 for i in range(0,5)]} \n",
    "gsearch3 = GridSearchCV(estimator = XGBClassifier(objective='binary:logistic', n_estimators = gsearch1.best_params_['n_estimators'], learning_rate = 0.2, use_label_encoder =False, eval_metric = 'auc',\n",
    "                                                 max_depth = gsearch2.best_params_['max_depth']), \n",
    "                                                 param_grid = param_test3, scoring='roc_auc', n_jobs=-1, cv=5)\n",
    "\n",
    "gsearch3.fit(X_train, Y_train)\n",
    "gsearch3.best_params_"
   ]
  },
  {
   "cell_type": "code",
   "execution_count": 25,
   "metadata": {},
   "outputs": [
    {
     "data": {
      "text/plain": [
       "{'scale_pos_weight': 1}"
      ]
     },
     "execution_count": 25,
     "metadata": {},
     "output_type": "execute_result"
    }
   ],
   "source": [
    "#tuning scale_pos_weight because data is imbalanced\n",
    "param_test4 = {'scale_pos_weight': range(1,10,2)} ## Imbalance ratio of approx 1 to 1.14, so we iterate through a few weights\n",
    "gsearch4 = GridSearchCV(estimator = XGBClassifier(objective='binary:logistic', n_estimators = gsearch1.best_params_['n_estimators'], learning_rate = 0.2, use_label_encoder =False, eval_metric = 'auc',\n",
    "                                                 max_depth = gsearch2.best_params_['max_depth'], gamma = gsearch3.best_params_['gamma']),\n",
    "                                                 param_grid = param_test4, scoring='roc_auc', n_jobs=-1, cv=5)\n",
    "\n",
    "gsearch4.fit(X_train, Y_train)\n",
    "gsearch4.best_params_"
   ]
  },
  {
   "cell_type": "markdown",
   "metadata": {},
   "source": [
    "We will fit the final model using the optimised parameters we have found above."
   ]
  },
  {
   "cell_type": "code",
   "execution_count": 26,
   "metadata": {},
   "outputs": [
    {
     "name": "stderr",
     "output_type": "stream",
     "text": [
      "C:\\Users\\saggarwal\\anaconda3\\lib\\site-packages\\xgboost\\data.py:112: UserWarning:\n",
      "\n",
      "Use subset (sliced data) of np.ndarray is not recommended because it will generate extra copies and increase memory consumption\n",
      "\n"
     ]
    }
   ],
   "source": [
    "#Final model\n",
    "XGB_model = XGBClassifier(objective='binary:logistic', n_estimators = gsearch1.best_params_['n_estimators'], max_depth = gsearch2.best_params_['max_depth'],\n",
    "                    gamma = gsearch3.best_params_['gamma'], scale_pos_weight = gsearch4.best_params_['scale_pos_weight'], n_jobs=-1, learning_rate = 0.2, use_label_encoder =False, eval_metric = 'auc')\n",
    "\n",
    "XGB_model.fit(X_train, Y_train.values.ravel())\n",
    "XGB_model_predict = XGB_model.predict(X_test)"
   ]
  },
  {
   "cell_type": "code",
   "execution_count": 27,
   "metadata": {
    "scrolled": true
   },
   "outputs": [
    {
     "data": {
      "text/plain": [
       "XGBClassifier(base_score=0.5, booster='gbtree', colsample_bylevel=1,\n",
       "              colsample_bynode=1, colsample_bytree=1, eval_metric='auc',\n",
       "              gamma=0.0, gpu_id=-1, importance_type='gain',\n",
       "              interaction_constraints='', learning_rate=0.2, max_delta_step=0,\n",
       "              max_depth=3, min_child_weight=1, missing=nan,\n",
       "              monotone_constraints='()', n_estimators=97, n_jobs=-1,\n",
       "              num_parallel_tree=1, random_state=0, reg_alpha=0, reg_lambda=1,\n",
       "              scale_pos_weight=1, subsample=1, tree_method='exact',\n",
       "              use_label_encoder=False, validate_parameters=1, verbosity=None)"
      ]
     },
     "execution_count": 27,
     "metadata": {},
     "output_type": "execute_result"
    }
   ],
   "source": [
    "XGB_model"
   ]
  },
  {
   "cell_type": "code",
   "execution_count": 28,
   "metadata": {
    "scrolled": true
   },
   "outputs": [
    {
     "name": "stdout",
     "output_type": "stream",
     "text": [
      "              precision    recall  f1-score   support\n",
      "\n",
      "         0.0       0.56      1.00      0.71         5\n",
      "         1.0       1.00      0.50      0.67         8\n",
      "\n",
      "    accuracy                           0.69        13\n",
      "   macro avg       0.78      0.75      0.69        13\n",
      "weighted avg       0.83      0.69      0.68        13\n",
      "\n",
      "(5, 0, 4, 4) \n",
      "\n"
     ]
    }
   ],
   "source": [
    "print(classification_report(Y_test, XGB_model_predict))\n",
    "tn, fp, fn, tp = confusion_matrix(Y_test, XGB_model_predict).ravel()\n",
    "print((tn, fp, fn, tp), '\\n')"
   ]
  },
  {
   "cell_type": "markdown",
   "metadata": {},
   "source": [
    "**Result - XgBoostClassifier also performed well with an overall model accuracy of 69%**"
   ]
  },
  {
   "cell_type": "markdown",
   "metadata": {},
   "source": [
    "### 3. SVM Model"
   ]
  },
  {
   "cell_type": "markdown",
   "metadata": {},
   "source": [
    "Here, we tried a non-probabilistic classifier called Support Vector Machine (SVM). This method is effective in high dimensional space and can control overfitting using its regularisation term. Additionally, it can use different kernel tricks, like polynomial or radial basis function, to transform non-linear problems to linearly separable cases. \n",
    "\n",
    "*SVC()* from sklearn.svm package only works well for dataset with tens of thousands observations. We will also try *SGDClassifier()* or *LinearSVC()* with different tuning parameters. Here, we will also explore different kernel approximations: linear, Radial Basis Function, and polynomial.\n",
    "\n",
    "We will tune 3 parameters: \n",
    "1. *loss*: the loss function to be used for classification\n",
    "2. *alpha*: a constant that multiplies by the regularisation term \n",
    "3. *penalty*: the penalty or regularisation term "
   ]
  },
  {
   "cell_type": "markdown",
   "metadata": {},
   "source": [
    "**SVM using SVC and SGDClassifier() function**"
   ]
  },
  {
   "cell_type": "code",
   "execution_count": 29,
   "metadata": {},
   "outputs": [
    {
     "name": "stdout",
     "output_type": "stream",
     "text": [
      "SVC(C=0.0001, gamma=0.001)\n"
     ]
    }
   ],
   "source": [
    "from sklearn import svm\n",
    "scaler = StandardScaler()\n",
    "SVM_Xtrain = scaler.fit_transform(X_train)\n",
    "SVM_Xtest = scaler.transform(X_test)\n",
    "\n",
    "tuned_parameters = [{'kernel': ['rbf'], 'gamma': [1e-3, 1e-4],\n",
    "                     'C': [0.0001,0.001, 0.01, 0.1,1, 10, 100, 1000]},\n",
    "                    {'kernel': ['linear'], 'C': [0.0001,0.001, 0.01, 0.1,1, 10, 100, 1000]}]\n",
    "#model = svm.SVC(kernel='linear')\n",
    "clf = GridSearchCV(svm.SVC(), param_grid=tuned_parameters, n_jobs=-1, cv=5,\n",
    "                  scoring='roc_auc', refit=True)\n",
    "clf.fit(SVM_Xtrain, Y_train.values.ravel())\n",
    "print(clf.best_estimator_)"
   ]
  },
  {
   "cell_type": "code",
   "execution_count": 30,
   "metadata": {
    "scrolled": true
   },
   "outputs": [
    {
     "name": "stdout",
     "output_type": "stream",
     "text": [
      "              precision    recall  f1-score   support\n",
      "\n",
      "         0.0       0.00      0.00      0.00         5\n",
      "         1.0       0.62      1.00      0.76         8\n",
      "\n",
      "    accuracy                           0.62        13\n",
      "   macro avg       0.31      0.50      0.38        13\n",
      "weighted avg       0.38      0.62      0.47        13\n",
      "\n",
      "(0, 5, 0, 8) \n",
      "\n"
     ]
    },
    {
     "name": "stderr",
     "output_type": "stream",
     "text": [
      "C:\\Users\\saggarwal\\anaconda3\\lib\\site-packages\\sklearn\\metrics\\_classification.py:1248: UndefinedMetricWarning:\n",
      "\n",
      "Precision and F-score are ill-defined and being set to 0.0 in labels with no predicted samples. Use `zero_division` parameter to control this behavior.\n",
      "\n",
      "C:\\Users\\saggarwal\\anaconda3\\lib\\site-packages\\sklearn\\metrics\\_classification.py:1248: UndefinedMetricWarning:\n",
      "\n",
      "Precision and F-score are ill-defined and being set to 0.0 in labels with no predicted samples. Use `zero_division` parameter to control this behavior.\n",
      "\n",
      "C:\\Users\\saggarwal\\anaconda3\\lib\\site-packages\\sklearn\\metrics\\_classification.py:1248: UndefinedMetricWarning:\n",
      "\n",
      "Precision and F-score are ill-defined and being set to 0.0 in labels with no predicted samples. Use `zero_division` parameter to control this behavior.\n",
      "\n"
     ]
    }
   ],
   "source": [
    "y_preds = clf.predict(SVM_Xtest)\n",
    "print(classification_report(Y_test, y_preds))\n",
    "tn, fp, fn, tp = confusion_matrix(Y_test, y_preds).ravel()\n",
    "print((tn, fp, fn, tp), '\\n')"
   ]
  },
  {
   "cell_type": "markdown",
   "metadata": {},
   "source": [
    "a. SVM as Linear classifier"
   ]
  },
  {
   "cell_type": "code",
   "execution_count": 31,
   "metadata": {},
   "outputs": [
    {
     "name": "stdout",
     "output_type": "stream",
     "text": [
      "SGDClassifier(alpha=0.1, loss='perceptron', max_iter=100, penalty='l1',\n",
      "              random_state=0)\n"
     ]
    }
   ],
   "source": [
    "scaler = StandardScaler()\n",
    "SVM_Xtrain = scaler.fit_transform(X_train)\n",
    "SVM_Xtest = scaler.transform(X_test)\n",
    "\n",
    "params = {\n",
    "    \"loss\": [\"hinge\", \"log\", \"squared_hinge\", \"modified_huber\", \"perceptron\"],\n",
    "    \"alpha\": [0.0001, 0.001, 0.01, 0.1],\n",
    "    \"penalty\": [\"l2\", \"l1\", \"elasticnet\"]\n",
    "}\n",
    "model = SGDClassifier(max_iter=100, random_state=0)\n",
    "clf = GridSearchCV(model, param_grid=params, n_jobs=-1, cv=5,\n",
    "                  scoring='roc_auc', refit=True)\n",
    "clf.fit(SVM_Xtrain, Y_train.values.ravel())\n",
    "print(clf.best_estimator_)"
   ]
  },
  {
   "cell_type": "code",
   "execution_count": 32,
   "metadata": {},
   "outputs": [
    {
     "name": "stdout",
     "output_type": "stream",
     "text": [
      "              precision    recall  f1-score   support\n",
      "\n",
      "         0.0       0.00      0.00      0.00         5\n",
      "         1.0       0.62      1.00      0.76         8\n",
      "\n",
      "    accuracy                           0.62        13\n",
      "   macro avg       0.31      0.50      0.38        13\n",
      "weighted avg       0.38      0.62      0.47        13\n",
      "\n",
      "(0, 5, 0, 8) \n",
      "\n"
     ]
    },
    {
     "name": "stderr",
     "output_type": "stream",
     "text": [
      "C:\\Users\\saggarwal\\anaconda3\\lib\\site-packages\\sklearn\\metrics\\_classification.py:1248: UndefinedMetricWarning:\n",
      "\n",
      "Precision and F-score are ill-defined and being set to 0.0 in labels with no predicted samples. Use `zero_division` parameter to control this behavior.\n",
      "\n",
      "C:\\Users\\saggarwal\\anaconda3\\lib\\site-packages\\sklearn\\metrics\\_classification.py:1248: UndefinedMetricWarning:\n",
      "\n",
      "Precision and F-score are ill-defined and being set to 0.0 in labels with no predicted samples. Use `zero_division` parameter to control this behavior.\n",
      "\n",
      "C:\\Users\\saggarwal\\anaconda3\\lib\\site-packages\\sklearn\\metrics\\_classification.py:1248: UndefinedMetricWarning:\n",
      "\n",
      "Precision and F-score are ill-defined and being set to 0.0 in labels with no predicted samples. Use `zero_division` parameter to control this behavior.\n",
      "\n"
     ]
    }
   ],
   "source": [
    "y_preds = clf.predict(SVM_Xtest)\n",
    "print(classification_report(Y_test, y_preds))\n",
    "tn, fp, fn, tp = confusion_matrix(Y_test, y_preds).ravel()\n",
    "print((tn, fp, fn, tp), '\\n')"
   ]
  },
  {
   "cell_type": "markdown",
   "metadata": {},
   "source": [
    "b. SVM using Radial Basis Function Kernel"
   ]
  },
  {
   "cell_type": "code",
   "execution_count": 33,
   "metadata": {},
   "outputs": [
    {
     "name": "stdout",
     "output_type": "stream",
     "text": [
      "SGDClassifier(alpha=0.01, loss='squared_hinge', max_iter=100, penalty='l1',\n",
      "              random_state=0)\n"
     ]
    },
    {
     "name": "stderr",
     "output_type": "stream",
     "text": [
      "C:\\Users\\saggarwal\\anaconda3\\lib\\site-packages\\sklearn\\model_selection\\_search.py:922: UserWarning:\n",
      "\n",
      "One or more of the test scores are non-finite: [nan nan nan nan]\n",
      "\n"
     ]
    }
   ],
   "source": [
    "params = {'gamma': [1, 0.1, 0.01, 0.001]}\n",
    "rbf_feature = GridSearchCV(RBFSampler(), param_grid = params, n_jobs=-1, cv=5, scoring='explained_variance')\n",
    "rbf_feature.fit(X_train)\n",
    "SVM_Xtrain = rbf_feature.transform(X_train)\n",
    "SVM_Xtest = rbf_feature.transform(X_test)\n",
    "\n",
    "params = {\n",
    "    \"loss\": [\"hinge\", \"log\", \"squared_hinge\", \"modified_huber\", \"perceptron\"],\n",
    "    \"alpha\": [0.0001, 0.001, 0.01, 0.1],\n",
    "    \"penalty\": [\"l2\", \"l1\", \"elasticnet\"]\n",
    "}\n",
    "model = SGDClassifier(max_iter=100, random_state=0)\n",
    "clf = GridSearchCV(model, param_grid=params, n_jobs=-1, cv=5,\n",
    "                  scoring='roc_auc', refit=True)\n",
    "clf.fit(SVM_Xtrain, Y_train.values.ravel())\n",
    "print(clf.best_estimator_)"
   ]
  },
  {
   "cell_type": "code",
   "execution_count": 34,
   "metadata": {},
   "outputs": [
    {
     "name": "stdout",
     "output_type": "stream",
     "text": [
      "              precision    recall  f1-score   support\n",
      "\n",
      "         0.0       0.33      0.40      0.36         5\n",
      "         1.0       0.57      0.50      0.53         8\n",
      "\n",
      "    accuracy                           0.46        13\n",
      "   macro avg       0.45      0.45      0.45        13\n",
      "weighted avg       0.48      0.46      0.47        13\n",
      "\n",
      "(2, 3, 4, 4) \n",
      "\n"
     ]
    }
   ],
   "source": [
    "y_preds = clf.predict(SVM_Xtest)\n",
    "print(classification_report(Y_test, y_preds))\n",
    "tn, fp, fn, tp = confusion_matrix(Y_test, y_preds).ravel()\n",
    "print((tn, fp, fn, tp), '\\n')"
   ]
  },
  {
   "cell_type": "markdown",
   "metadata": {},
   "source": [
    "c. SVM using Polynomial Kernel"
   ]
  },
  {
   "cell_type": "code",
   "execution_count": 35,
   "metadata": {},
   "outputs": [
    {
     "name": "stdout",
     "output_type": "stream",
     "text": [
      "SGDClassifier(max_iter=100, penalty='l1', random_state=0)\n"
     ]
    }
   ],
   "source": [
    "poly_feature = PolynomialCountSketch(degree = 2, n_components = 200) #optimal n_components = 10*n_features\n",
    "SVM_Xtrain = poly_feature.fit_transform(X_train)\n",
    "SVM_Xtest = poly_feature.transform(X_test)\n",
    "\n",
    "params = {\n",
    "    \"loss\": [\"hinge\", \"log\", \"squared_hinge\", \"modified_huber\", \"perceptron\"],\n",
    "    \"alpha\": [0.0001, 0.001, 0.01, 0.1],\n",
    "    \"penalty\": [\"l2\", \"l1\", \"elasticnet\"]\n",
    "}\n",
    "model = SGDClassifier(max_iter=100, random_state=0)\n",
    "clf = GridSearchCV(model, param_grid=params, n_jobs=-1, cv=5,\n",
    "                  scoring='roc_auc', refit=True)\n",
    "clf.fit(SVM_Xtrain, Y_train.values.ravel())\n",
    "print(clf.best_estimator_)"
   ]
  },
  {
   "cell_type": "code",
   "execution_count": 36,
   "metadata": {},
   "outputs": [
    {
     "name": "stdout",
     "output_type": "stream",
     "text": [
      "              precision    recall  f1-score   support\n",
      "\n",
      "         0.0       0.33      0.60      0.43         5\n",
      "         1.0       0.50      0.25      0.33         8\n",
      "\n",
      "    accuracy                           0.38        13\n",
      "   macro avg       0.42      0.42      0.38        13\n",
      "weighted avg       0.44      0.38      0.37        13\n",
      "\n",
      "(3, 2, 6, 2) \n",
      "\n"
     ]
    }
   ],
   "source": [
    "y_preds = clf.predict(SVM_Xtest)\n",
    "print(classification_report(Y_test, y_preds))\n",
    "tn, fp, fn, tp = confusion_matrix(Y_test, y_preds).ravel()\n",
    "print((tn, fp, fn, tp), '\\n')"
   ]
  },
  {
   "cell_type": "markdown",
   "metadata": {},
   "source": [
    "**SVM using LinearSVC() function**"
   ]
  },
  {
   "cell_type": "markdown",
   "metadata": {},
   "source": [
    "As SVM with the radial basis function and polynomial kernel did not give good results as observed earlier when implementing with *SGDClassifier()*, we will try to implement here - linear and polynomial kernel instead."
   ]
  },
  {
   "cell_type": "markdown",
   "metadata": {},
   "source": [
    "a. SVM as Linear Classifier"
   ]
  },
  {
   "cell_type": "code",
   "execution_count": 37,
   "metadata": {},
   "outputs": [
    {
     "name": "stdout",
     "output_type": "stream",
     "text": [
      "LinearSVC(C=0.0001, dual=False, random_state=0)\n"
     ]
    },
    {
     "name": "stderr",
     "output_type": "stream",
     "text": [
      "C:\\Users\\saggarwal\\anaconda3\\lib\\site-packages\\sklearn\\model_selection\\_search.py:922: UserWarning:\n",
      "\n",
      "One or more of the test scores are non-finite: [       nan        nan        nan        nan        nan        nan\n",
      " 0.78055556 0.5               nan        nan        nan        nan\n",
      "        nan        nan        nan        nan        nan        nan\n",
      "        nan        nan        nan 0.75833333 0.5               nan\n",
      "        nan        nan        nan        nan        nan        nan\n",
      "        nan        nan        nan        nan        nan        nan\n",
      " 0.675      0.5               nan        nan        nan        nan\n",
      "        nan        nan        nan        nan        nan        nan\n",
      "        nan        nan        nan 0.59722222 0.54166667        nan\n",
      "        nan        nan        nan        nan        nan        nan\n",
      "        nan        nan        nan        nan        nan        nan\n",
      " 0.61388889 0.45833333        nan        nan        nan        nan\n",
      "        nan        nan        nan        nan        nan        nan\n",
      "        nan        nan        nan 0.63888889 0.63611111        nan\n",
      "        nan        nan        nan        nan        nan        nan\n",
      "        nan        nan        nan        nan        nan        nan\n",
      " 0.63888889 0.65555556        nan        nan        nan        nan\n",
      "        nan        nan        nan        nan        nan        nan\n",
      "        nan        nan        nan 0.63888889 0.61666667        nan\n",
      "        nan        nan        nan        nan        nan        nan\n",
      "        nan        nan        nan        nan        nan        nan\n",
      " 0.59444444 0.59444444        nan        nan        nan        nan\n",
      "        nan        nan        nan]\n",
      "\n"
     ]
    }
   ],
   "source": [
    "scaler = StandardScaler()\n",
    "SVM_Xtrain = scaler.fit_transform(X_train)\n",
    "SVM_Xtest = scaler.transform(X_test)\n",
    "\n",
    "params = {\n",
    "    \"loss\": [\"hinge\", \"log\", \"squared_hinge\", \"modified_huber\", \"perceptron\"],\n",
    "    \"C\": [0.0001, 0.001, 0.01,0.1, 1, 10, 100, 500, 1000],\n",
    "    \"penalty\": [\"l2\", \"l1\", \"elasticnet\"]\n",
    "}\n",
    "model = LinearSVC(dual=False, random_state=0)\n",
    "clf = GridSearchCV(model, param_grid=params, n_jobs=-1, cv=5, scoring='roc_auc', refit=True)\n",
    "clf.fit(SVM_Xtrain, Y_train.values.ravel())\n",
    "print(clf.best_estimator_)"
   ]
  },
  {
   "cell_type": "code",
   "execution_count": 38,
   "metadata": {},
   "outputs": [
    {
     "name": "stdout",
     "output_type": "stream",
     "text": [
      "              precision    recall  f1-score   support\n",
      "\n",
      "         0.0       0.00      0.00      0.00         5\n",
      "         1.0       0.62      1.00      0.76         8\n",
      "\n",
      "    accuracy                           0.62        13\n",
      "   macro avg       0.31      0.50      0.38        13\n",
      "weighted avg       0.38      0.62      0.47        13\n",
      "\n",
      "(0, 5, 0, 8) \n",
      "\n"
     ]
    },
    {
     "name": "stderr",
     "output_type": "stream",
     "text": [
      "C:\\Users\\saggarwal\\anaconda3\\lib\\site-packages\\sklearn\\metrics\\_classification.py:1248: UndefinedMetricWarning:\n",
      "\n",
      "Precision and F-score are ill-defined and being set to 0.0 in labels with no predicted samples. Use `zero_division` parameter to control this behavior.\n",
      "\n",
      "C:\\Users\\saggarwal\\anaconda3\\lib\\site-packages\\sklearn\\metrics\\_classification.py:1248: UndefinedMetricWarning:\n",
      "\n",
      "Precision and F-score are ill-defined and being set to 0.0 in labels with no predicted samples. Use `zero_division` parameter to control this behavior.\n",
      "\n",
      "C:\\Users\\saggarwal\\anaconda3\\lib\\site-packages\\sklearn\\metrics\\_classification.py:1248: UndefinedMetricWarning:\n",
      "\n",
      "Precision and F-score are ill-defined and being set to 0.0 in labels with no predicted samples. Use `zero_division` parameter to control this behavior.\n",
      "\n"
     ]
    }
   ],
   "source": [
    "y_preds = clf.predict(SVM_Xtest)\n",
    "print(classification_report(Y_test, y_preds))\n",
    "tn, fp, fn, tp = confusion_matrix(Y_test, y_preds).ravel()\n",
    "print((tn, fp, fn, tp), '\\n')"
   ]
  },
  {
   "cell_type": "markdown",
   "metadata": {},
   "source": [
    "b. SVM using Polynomial Kernel"
   ]
  },
  {
   "cell_type": "code",
   "execution_count": 39,
   "metadata": {},
   "outputs": [
    {
     "name": "stdout",
     "output_type": "stream",
     "text": [
      "LinearSVC(C=0.1, dual=False, max_iter=10000, penalty='l1', random_state=0)\n"
     ]
    },
    {
     "name": "stderr",
     "output_type": "stream",
     "text": [
      "C:\\Users\\saggarwal\\anaconda3\\lib\\site-packages\\sklearn\\model_selection\\_search.py:922: UserWarning:\n",
      "\n",
      "One or more of the test scores are non-finite: [       nan        nan        nan        nan        nan        nan\n",
      " 0.30833333 0.725             nan        nan        nan        nan\n",
      "        nan        nan        nan        nan        nan        nan\n",
      "        nan        nan        nan 0.51666667 0.7               nan\n",
      "        nan        nan        nan        nan        nan        nan\n",
      "        nan        nan        nan        nan        nan        nan\n",
      " 0.33333333 0.63333333        nan        nan        nan        nan\n",
      "        nan        nan        nan        nan        nan        nan\n",
      "        nan        nan        nan 0.325      0.475             nan\n",
      "        nan        nan        nan        nan        nan        nan\n",
      "        nan        nan        nan        nan        nan        nan\n",
      " 0.33333333 0.47222222        nan        nan        nan        nan\n",
      "        nan        nan        nan        nan        nan        nan\n",
      "        nan        nan        nan 0.33333333 0.47222222        nan\n",
      "        nan        nan        nan        nan        nan        nan]\n",
      "\n"
     ]
    }
   ],
   "source": [
    "poly_feature = PolynomialCountSketch(degree = 2, n_components = 180) #optimal n_components = 10*n_features\n",
    "SVM_Xtrain = poly_feature.fit_transform(X_train)\n",
    "SVM_Xtest = poly_feature.transform(X_test)\n",
    "\n",
    "params = {\n",
    "    \"loss\": [\"hinge\", \"log\", \"squared_hinge\", \"modified_huber\", \"perceptron\"],\n",
    "    \"C\": [0.1, 1, 10, 100, 500, 1000],\n",
    "    \"penalty\": [\"l2\", \"l1\", \"elasticnet\"],\n",
    "    \"max_iter\": [10000]\n",
    "}\n",
    "model = LinearSVC(dual=False, random_state=0)\n",
    "clf = GridSearchCV(model, param_grid=params, n_jobs=-1, cv=5, scoring='roc_auc', refit=True)\n",
    "clf.fit(SVM_Xtrain, Y_train.values.ravel())\n",
    "print(clf.best_estimator_)"
   ]
  },
  {
   "cell_type": "code",
   "execution_count": 40,
   "metadata": {
    "scrolled": true
   },
   "outputs": [
    {
     "name": "stdout",
     "output_type": "stream",
     "text": [
      "              precision    recall  f1-score   support\n",
      "\n",
      "         0.0       0.33      0.40      0.36         5\n",
      "         1.0       0.57      0.50      0.53         8\n",
      "\n",
      "    accuracy                           0.46        13\n",
      "   macro avg       0.45      0.45      0.45        13\n",
      "weighted avg       0.48      0.46      0.47        13\n",
      "\n",
      "(2, 3, 4, 4) \n",
      "\n"
     ]
    }
   ],
   "source": [
    "y_preds = clf.predict(SVM_Xtest)\n",
    "print(classification_report(Y_test, y_preds))\n",
    "tn, fp, fn, tp = confusion_matrix(Y_test, y_preds).ravel()\n",
    "print((tn, fp, fn, tp), '\\n')"
   ]
  },
  {
   "cell_type": "markdown",
   "metadata": {},
   "source": [
    "**Result - Out of all the SVM classifiers, best accuracy of 62% is achieved when all variables are added to the model which is similar to models with tweet data**"
   ]
  },
  {
   "cell_type": "markdown",
   "metadata": {},
   "source": [
    "### 4. Random Forest"
   ]
  },
  {
   "cell_type": "markdown",
   "metadata": {},
   "source": [
    "Random Forest is a ensemble method called bagging, where it constructs multiple trees using random features on a sub-set of data while training and the average prediction of individual trees is returned. It is superior to decision trees as it can control overfitting and improve predictive accuracy. It also works well on large dataset.\n",
    "\n",
    "To implement Random Forest, we will tune 2 of its parameters: \n",
    "1. *n_estimators*: number of tress in the forest  \n",
    "2. *max_features*: number of features to consider when looking for the best split"
   ]
  },
  {
   "cell_type": "markdown",
   "metadata": {},
   "source": [
    "### Random Forest - Hyper parameter tuning using GridSearchCV"
   ]
  },
  {
   "cell_type": "code",
   "execution_count": 41,
   "metadata": {},
   "outputs": [
    {
     "name": "stdout",
     "output_type": "stream",
     "text": [
      "RandomForestClassifier(n_estimators=181, n_jobs=-1, random_state=0)\n"
     ]
    }
   ],
   "source": [
    "params = {'n_estimators': range(1, 200, 20),\n",
    "         'max_features': ['auto', 'log2']}\n",
    "model = RandomForestClassifier(n_jobs=-1, random_state=0)\n",
    "rfc = GridSearchCV(model, param_grid = params, n_jobs=-1, cv=5, scoring='roc_auc', refit=True)\n",
    "rfc.fit(X_train, Y_train.values.ravel())\n",
    "print(rfc.best_estimator_) "
   ]
  },
  {
   "cell_type": "code",
   "execution_count": 42,
   "metadata": {},
   "outputs": [
    {
     "name": "stdout",
     "output_type": "stream",
     "text": [
      "              precision    recall  f1-score   support\n",
      "\n",
      "         0.0       0.80      0.80      0.80         5\n",
      "         1.0       0.88      0.88      0.88         8\n",
      "\n",
      "    accuracy                           0.85        13\n",
      "   macro avg       0.84      0.84      0.84        13\n",
      "weighted avg       0.85      0.85      0.85        13\n",
      "\n",
      "(4, 1, 1, 7) \n",
      "\n"
     ]
    }
   ],
   "source": [
    "y_preds = rfc.predict(X_test)\n",
    "print(classification_report(Y_test, y_preds))\n",
    "tn, fp, fn, tp = confusion_matrix(Y_test, y_preds).ravel()\n",
    "print((tn, fp, fn, tp), '\\n')"
   ]
  },
  {
   "cell_type": "code",
   "execution_count": 43,
   "metadata": {
    "scrolled": true
   },
   "outputs": [
    {
     "data": {
      "text/plain": [
       "<BarContainer object of 24 artists>"
      ]
     },
     "execution_count": 43,
     "metadata": {},
     "output_type": "execute_result"
    },
    {
     "data": {
      "image/png": "[encoded data removed]",
      "text/plain": [
       "<Figure size 432x288 with 1 Axes>"
      ]
     },
     "metadata": {
      "needs_background": "light"
     },
     "output_type": "display_data"
    }
   ],
   "source": [
    "#Feature importance refers to techniques that assign a score to input features based on \n",
    "#how useful they are at predicting a target variable.\n",
    "importances_ML = pd.DataFrame({'feature':X_train.columns,'importance':np.round(rfc.best_estimator_.feature_importances_,3)})\n",
    "importances_ML = importances_ML.sort_values('importance',ascending=True)\n",
    "ml = importances_ML.loc[importances_ML['importance'] > 0]\n",
    "ml.sort_values('importance', inplace=True)\n",
    "plt.barh(ml['feature'], ml['importance'])"
   ]
  },
  {
   "cell_type": "markdown",
   "metadata": {},
   "source": [
    "### Random Forest - Hyper parameter tuning using RandomisedSearchCV"
   ]
  },
  {
   "cell_type": "code",
   "execution_count": 44,
   "metadata": {},
   "outputs": [],
   "source": [
    "rfc = RandomForestClassifier()\n",
    "rfc.fit(X_train,Y_train.values.ravel())\n",
    "# predictions\n",
    "rfc_predict = rfc.predict(X_test)"
   ]
  },
  {
   "cell_type": "code",
   "execution_count": 45,
   "metadata": {},
   "outputs": [],
   "source": [
    "rfc_cv_score = cross_val_score(rfc, X, y.values.ravel(), cv=10, scoring='roc_auc')"
   ]
  },
  {
   "cell_type": "code",
   "execution_count": 46,
   "metadata": {},
   "outputs": [
    {
     "name": "stdout",
     "output_type": "stream",
     "text": [
      "=== Confusion Matrix ===\n",
      "[[4 1]\n",
      " [2 6]]\n",
      "\n",
      "\n",
      "=== Classification Report ===\n",
      "              precision    recall  f1-score   support\n",
      "\n",
      "         0.0       0.67      0.80      0.73         5\n",
      "         1.0       0.86      0.75      0.80         8\n",
      "\n",
      "    accuracy                           0.77        13\n",
      "   macro avg       0.76      0.78      0.76        13\n",
      "weighted avg       0.78      0.77      0.77        13\n",
      "\n",
      "\n",
      "\n",
      "=== All AUC Scores ===\n",
      "[0.25       0.         0.16666667 0.83333333 1.         1.\n",
      " 1.         0.5        0.5        1.        ]\n",
      "\n",
      "\n",
      "=== Mean AUC Score ===\n",
      "Mean AUC Score - Random Forest:  0.625\n"
     ]
    }
   ],
   "source": [
    "print(\"=== Confusion Matrix ===\")\n",
    "print(confusion_matrix(Y_test, rfc_predict))\n",
    "print('\\n')\n",
    "print(\"=== Classification Report ===\")\n",
    "print(classification_report(Y_test, rfc_predict))\n",
    "print('\\n')\n",
    "print(\"=== All AUC Scores ===\")\n",
    "print(rfc_cv_score)\n",
    "print('\\n')\n",
    "print(\"=== Mean AUC Score ===\")\n",
    "print(\"Mean AUC Score - Random Forest: \", rfc_cv_score.mean())"
   ]
  },
  {
   "cell_type": "code",
   "execution_count": 47,
   "metadata": {},
   "outputs": [
    {
     "name": "stdout",
     "output_type": "stream",
     "text": [
      "Fitting 3 folds for each of 100 candidates, totalling 300 fits\n",
      "{'n_estimators': 400, 'max_features': 'sqrt', 'max_depth': 140}\n"
     ]
    }
   ],
   "source": [
    "from sklearn.model_selection import RandomizedSearchCV\n",
    "# number of trees in random forest\n",
    "n_estimators_1 = [int(x) for x in np.linspace(start = 200, stop = 2000, num = 10)]\n",
    "# number of features at every split\n",
    "max_features_1 = ['auto', 'sqrt']\n",
    "\n",
    "# max depth\n",
    "max_depth = [int(x) for x in np.linspace(100, 500, num = 11)]\n",
    "max_depth.append(None)\n",
    "# create random grid\n",
    "random_grid = {\n",
    " 'n_estimators': n_estimators_1,\n",
    " 'max_features': max_features_1,\n",
    " 'max_depth': max_depth\n",
    " }\n",
    "# Random search of parameters\n",
    "rfc_random = RandomizedSearchCV(estimator = rfc, param_distributions = random_grid, n_iter = 100, cv = 3, verbose=2, random_state=42, n_jobs = -1)\n",
    "# Fit the model\n",
    "rfc_random.fit(X_train, Y_train.values.ravel())\n",
    "# print results\n",
    "print(rfc_random.best_params_)"
   ]
  },
  {
   "cell_type": "code",
   "execution_count": 48,
   "metadata": {
    "scrolled": true
   },
   "outputs": [
    {
     "name": "stdout",
     "output_type": "stream",
     "text": [
      "=== Confusion Matrix ===\n",
      "[[4 1]\n",
      " [1 7]]\n",
      "\n",
      "\n",
      "=== Classification Report ===\n",
      "              precision    recall  f1-score   support\n",
      "\n",
      "         0.0       0.80      0.80      0.80         5\n",
      "         1.0       0.88      0.88      0.88         8\n",
      "\n",
      "    accuracy                           0.85        13\n",
      "   macro avg       0.84      0.84      0.84        13\n",
      "weighted avg       0.85      0.85      0.85        13\n",
      "\n",
      "\n",
      "\n",
      "=== All AUC Scores ===\n",
      "[0.16666667 0.33333333 0.16666667 0.66666667 1.         1.\n",
      " 1.         0.5        0.5        1.        ]\n",
      "\n",
      "\n",
      "=== Mean AUC Score ===\n",
      "Mean AUC Score - Random Forest:  0.6333333333333333\n"
     ]
    }
   ],
   "source": [
    "rfc = RandomForestClassifier(n_estimators=400, max_depth=140, max_features='sqrt', random_state=0)\n",
    "rfc.fit(X_train,Y_train.values.ravel())\n",
    "rfc_predict = rfc.predict(X_test)\n",
    "rfc_cv_score = cross_val_score(rfc, X, y.values.ravel(), cv=10, scoring='roc_auc')\n",
    "print(\"=== Confusion Matrix ===\")\n",
    "print(confusion_matrix(Y_test, rfc_predict))\n",
    "print('\\n')\n",
    "print(\"=== Classification Report ===\")\n",
    "print(classification_report(Y_test, rfc_predict))\n",
    "print('\\n')\n",
    "print(\"=== All AUC Scores ===\")\n",
    "print(rfc_cv_score)\n",
    "print('\\n')\n",
    "print(\"=== Mean AUC Score ===\")\n",
    "print(\"Mean AUC Score - Random Forest: \", rfc_cv_score.mean())"
   ]
  },
  {
   "cell_type": "markdown",
   "metadata": {},
   "source": [
    "**Results - Random Forest with hyper parameter tuning gave the highest accuracy of 85%**"
   ]
  },
  {
   "cell_type": "markdown",
   "metadata": {},
   "source": [
    "### 4. Neural Networks"
   ]
  },
  {
   "cell_type": "markdown",
   "metadata": {},
   "source": [
    "Here, we tried Neural Networks method, which is superior at capturing complex relationships between varibles by searching through different models in its black box to find patterns. In its black box, there can be one or more linear or non-linear hidden layers. \n",
    "\n",
    "We need to normalise the data before running neural networks as it is sensitive to feature scaling. We also specify that it will train using 2 hidden layers as 1 or 2 should give a decent performance for most problems, and 20 as number of neurons as we have 20 features in our dataset. "
   ]
  },
  {
   "cell_type": "code",
   "execution_count": 49,
   "metadata": {},
   "outputs": [
    {
     "name": "stdout",
     "output_type": "stream",
     "text": [
      "MLPClassifier(alpha=10, hidden_layer_sizes=(20, 20), max_iter=100,\n",
      "              random_state=0)\n"
     ]
    },
    {
     "name": "stderr",
     "output_type": "stream",
     "text": [
      "C:\\Users\\saggarwal\\anaconda3\\lib\\site-packages\\sklearn\\neural_network\\_multilayer_perceptron.py:614: ConvergenceWarning:\n",
      "\n",
      "Stochastic Optimizer: Maximum iterations (100) reached and the optimization hasn't converged yet.\n",
      "\n"
     ]
    }
   ],
   "source": [
    "scaler = StandardScaler()\n",
    "NN_Xtrain = scaler.fit_transform(X_train)\n",
    "NN_Xtest = scaler.transform(X_test)\n",
    "\n",
    "params = {'activation': ['identity', 'logistic', 'tanh', 'relu'],\n",
    "          'alpha': [0.001, 0.01, 0.1, 1, 10, 100]}\n",
    "model = MLPClassifier(hidden_layer_sizes = (20, 20), max_iter = 100, solver='adam', random_state=0) \n",
    "#2 hidden layers and 'adam' optimizer works well for large dataset\n",
    "mlp = GridSearchCV(model, param_grid = params, n_jobs=-1, cv=5, scoring='roc_auc', refit=True)\n",
    "mlp.fit(NN_Xtrain, Y_train.values.ravel())\n",
    "print(mlp.best_estimator_) "
   ]
  },
  {
   "cell_type": "code",
   "execution_count": 50,
   "metadata": {
    "scrolled": true
   },
   "outputs": [
    {
     "name": "stdout",
     "output_type": "stream",
     "text": [
      "              precision    recall  f1-score   support\n",
      "\n",
      "         0.0       0.67      0.40      0.50         5\n",
      "         1.0       0.70      0.88      0.78         8\n",
      "\n",
      "    accuracy                           0.69        13\n",
      "   macro avg       0.68      0.64      0.64        13\n",
      "weighted avg       0.69      0.69      0.67        13\n",
      "\n",
      "(2, 3, 1, 7) \n",
      "\n"
     ]
    }
   ],
   "source": [
    "y_preds = mlp.predict(NN_Xtest)\n",
    "print(classification_report(Y_test, y_preds))\n",
    "tn, fp, fn, tp = confusion_matrix(Y_test, y_preds).ravel()\n",
    "print((tn, fp, fn, tp), '\\n')"
   ]
  },
  {
   "cell_type": "markdown",
   "metadata": {},
   "source": [
    "**Kindly note the model explanations and implementation is referred from the work done in Digital Marketing Module for assignment 3 and entire project is used as a learning for this analysis**"
   ]
  }
 ],
 "metadata": {
  "kernelspec": {
   "display_name": "Python 3",
   "language": "python",
   "name": "python3"
  },
  "language_info": {
   "codemirror_mode": {
    "name": "ipython",
    "version": 3
   },
   "file_extension": ".py",
   "mimetype": "text/x-python",
   "name": "python",
   "nbconvert_exporter": "python",
   "pygments_lexer": "ipython3",
   "version": "3.8.5"
  }
 },
 "nbformat": 4,
 "nbformat_minor": 4
}
